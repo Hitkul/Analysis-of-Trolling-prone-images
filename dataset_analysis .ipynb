{
 "cells": [
  {
   "cell_type": "markdown",
   "metadata": {},
   "source": [
    "## Instagram_images"
   ]
  },
  {
   "cell_type": "code",
   "execution_count": 1,
   "metadata": {},
   "outputs": [],
   "source": [
    "import pandas as pd\n",
    "from os import listdir"
   ]
  },
  {
   "cell_type": "code",
   "execution_count": 2,
   "metadata": {},
   "outputs": [],
   "source": [
    "def get_imageid_link_lists(filename):\n",
    "    df = pd.read_csv(filename, sep=' ',names=['image_id','links'])\n",
    "    return df['image_id'].tolist(),df['links'].tolist()"
   ]
  },
  {
   "cell_type": "code",
   "execution_count": 3,
   "metadata": {},
   "outputs": [],
   "source": [
    "def get_filenames_in_folder(foldername):\n",
    "    return [i.replace('.jpg','') for i in listdir(foldername)]"
   ]
  },
  {
   "cell_type": "code",
   "execution_count": 4,
   "metadata": {},
   "outputs": [],
   "source": [
    "def show_image_id_txt_file_map(filename,foldername):\n",
    "    image_id,links = get_imageid_link_lists(filename)\n",
    "    image_ids_folder = get_filenames_in_folder(foldername)\n",
    "    print(f\"FOLDER = {foldername.split('/')[-2]} and FILE= {filename.split('/')[-1]}\")\n",
    "    print(f\"Total id and links present in txt file are {len(image_id),len(links)}\")\n",
    "    print(f\"Total unique id and links present in txt file are {len(set(image_id)),len(set(links))}\")\n",
    "    print(f\"Total images present in folder {len(image_ids_folder)}\")\n",
    "    print(f\"Total unique images present in folder {len(set(image_ids_folder))}\")\n",
    "    print(f\"Number of images present in both sets {len(set(image_ids_folder)&set(image_id))}\")\n",
    "    print(f\"Number of IDs present in file but not in folder {len(set(image_id)-set(image_ids_folder))}\")\n",
    "    print(f\"Number of IDs present in folder but not in file {len(set(image_ids_folder)-set(image_id))}\")\n",
    "    return image_id,image_ids_folder"
   ]
  },
  {
   "cell_type": "code",
   "execution_count": 5,
   "metadata": {
    "scrolled": true
   },
   "outputs": [
    {
     "name": "stdout",
     "output_type": "stream",
     "text": [
      "FOLDER = images_0_10 and FILE= namesall_info_media_ids_to_collect_0plus_to_10.txt\n",
      "Total id and links present in txt file are (270, 270)\n",
      "Total unique id and links present in txt file are (270, 270)\n",
      "Total images present in folder 276\n",
      "Total unique images present in folder 276\n",
      "Number of images present in both sets 267\n",
      "Number of IDs present in file but not in folder 3\n",
      "Number of IDs present in folder but not in file 9\n"
     ]
    }
   ],
   "source": [
    "image_id_0_10_file,image_id_0_10_folder = show_image_id_txt_file_map('data/instagram_images/namesall_info_media_ids_to_collect_0plus_to_10.txt','data/instagram_images/images_0_10/')"
   ]
  },
  {
   "cell_type": "code",
   "execution_count": 6,
   "metadata": {},
   "outputs": [
    {
     "name": "stdout",
     "output_type": "stream",
     "text": [
      "FOLDER = images_10_40 and FILE= namesall_info_media_ids_to_collect_10plus_to_40.txt\n",
      "Total id and links present in txt file are (835, 835)\n",
      "Total unique id and links present in txt file are (835, 835)\n",
      "Total images present in folder 987\n",
      "Total unique images present in folder 987\n",
      "Number of images present in both sets 831\n",
      "Number of IDs present in file but not in folder 4\n",
      "Number of IDs present in folder but not in file 156\n"
     ]
    }
   ],
   "source": [
    "image_id_10_40_file,image_id_10_40_folder = show_image_id_txt_file_map('data/instagram_images/namesall_info_media_ids_to_collect_10plus_to_40.txt','data/instagram_images/images_10_40/')"
   ]
  },
  {
   "cell_type": "code",
   "execution_count": 7,
   "metadata": {},
   "outputs": [
    {
     "name": "stdout",
     "output_type": "stream",
     "text": [
      "FOLDER =  and FILE= namesall_info_media_ids_to_collect_40plus.txt\n",
      "Total id and links present in txt file are (816, 816)\n",
      "Total unique id and links present in txt file are (816, 816)\n",
      "Total images present in folder 1000\n",
      "Total unique images present in folder 1000\n",
      "Number of images present in both sets 809\n",
      "Number of IDs present in file but not in folder 7\n",
      "Number of IDs present in folder but not in file 191\n"
     ]
    }
   ],
   "source": [
    "image_id_40_plus_file,image_id_40_plus_folder = show_image_id_txt_file_map('data/instagram_images/namesall_info_media_ids_to_collect_40plus.txt','data/instagram_images/images_40plus//')"
   ]
  },
  {
   "cell_type": "code",
   "execution_count": 8,
   "metadata": {},
   "outputs": [],
   "source": [
    "all_ids_file = image_id_0_10_file+image_id_10_40_file+image_id_40_plus_file\n",
    "all_ids_folder = image_id_0_10_folder+image_id_10_40_folder+image_id_40_plus_folder"
   ]
  },
  {
   "cell_type": "code",
   "execution_count": 9,
   "metadata": {},
   "outputs": [
    {
     "name": "stdout",
     "output_type": "stream",
     "text": [
      "Total image ids file 1921\n",
      "Total unique image ids file 1921\n",
      "Total images folder 2263\n",
      "Total unique images folder 2263\n",
      "Number of images present in both sets 1907\n",
      "Number of IDs present in file but not in folder 14\n",
      "Number of IDs present in folder but not in file 356\n"
     ]
    }
   ],
   "source": [
    "print(f\"Total image ids file {len(all_ids_file)}\")\n",
    "print(f\"Total unique image ids file {len(set(all_ids_file))}\")\n",
    "print(f\"Total images folder {len(all_ids_folder)}\")\n",
    "print(f\"Total unique images folder {len((all_ids_folder))}\")\n",
    "\n",
    "print(f\"Number of images present in both sets {len(set(all_ids_file)&set(all_ids_folder))}\")\n",
    "print(f\"Number of IDs present in file but not in folder {len(set(all_ids_file)-set(all_ids_folder))}\")\n",
    "print(f\"Number of IDs present in folder but not in file {len(set(all_ids_folder)-set(all_ids_file))}\")"
   ]
  },
  {
   "cell_type": "markdown",
   "metadata": {},
   "source": [
    "---\n",
    "**NOTE**\n",
    "\n",
    "Looks like that these files are a map between image name (id) and source link.\n",
    "\n",
    "---"
   ]
  },
  {
   "cell_type": "markdown",
   "metadata": {},
   "source": [
    "## Image enities labels"
   ]
  },
  {
   "cell_type": "code",
   "execution_count": 15,
   "metadata": {},
   "outputs": [],
   "source": [
    "def get_links_and_entites(filename):\n",
    "    df = pd.read_csv(filename, sep=',',names=[\"image_id\",\"label_image\"])\n",
    "    return df['image_id'].tolist(),df['label_image'].tolist()"
   ]
  },
  {
   "cell_type": "code",
   "execution_count": 18,
   "metadata": {},
   "outputs": [
    {
     "data": {
      "text/plain": [
       "278"
      ]
     },
     "execution_count": 18,
     "metadata": {},
     "output_type": "execute_result"
    }
   ],
   "source": [
    "links,_ = get_links_and_entites(\"data/Insta_labeled_data/image_labels_0plus_to_10_.csv\")\n",
    "len(links)"
   ]
  },
  {
   "cell_type": "code",
   "execution_count": 19,
   "metadata": {},
   "outputs": [
    {
     "data": {
      "text/plain": [
       "1032"
      ]
     },
     "execution_count": 19,
     "metadata": {},
     "output_type": "execute_result"
    }
   ],
   "source": [
    "links,_ = get_links_and_entites(\"data/Insta_labeled_data/image_labels_10plus_to_40.csv\")\n",
    "len(links)"
   ]
  },
  {
   "cell_type": "code",
   "execution_count": 20,
   "metadata": {},
   "outputs": [
    {
     "data": {
      "text/plain": [
       "953"
      ]
     },
     "execution_count": 20,
     "metadata": {},
     "output_type": "execute_result"
    }
   ],
   "source": [
    "links,_ = get_links_and_entites(\"data/Insta_labeled_data/image_labels_40plus.csv\")\n",
    "len(links)"
   ]
  },
  {
   "cell_type": "markdown",
   "metadata": {},
   "source": [
    "---\n",
    "**NOTE**\n",
    "\n",
    "* Entites label of each image.\n",
    "* Mapping is done using the links.\n",
    "* Answers of multiple annotators are given.\n",
    "---"
   ]
  },
  {
   "cell_type": "markdown",
   "metadata": {},
   "source": [
    "## Labeled images"
   ]
  },
  {
   "cell_type": "code",
   "execution_count": 32,
   "metadata": {},
   "outputs": [
    {
     "data": {
      "text/plain": [
       "(1390, 278)"
      ]
     },
     "execution_count": 32,
     "metadata": {},
     "output_type": "execute_result"
    }
   ],
   "source": [
    "df = pd.read_csv('data/Insta_labeled_data/labeled_0plus_to_10__full.csv', encoding='latin-1')\n",
    "len(df['img_url']),len(set(df['img_url']))"
   ]
  },
  {
   "cell_type": "code",
   "execution_count": 33,
   "metadata": {},
   "outputs": [
    {
     "data": {
      "text/plain": [
       "(5196, 1031)"
      ]
     },
     "execution_count": 33,
     "metadata": {},
     "output_type": "execute_result"
    }
   ],
   "source": [
    "df = pd.read_csv('data/Insta_labeled_data/labeled_10plus_to_40_full.csv', encoding='latin-1')\n",
    "len(df['img_url']),len(set(df['img_url']))"
   ]
  },
  {
   "cell_type": "code",
   "execution_count": 36,
   "metadata": {},
   "outputs": [
    {
     "data": {
      "text/plain": [
       "(6104, 935)"
      ]
     },
     "execution_count": 36,
     "metadata": {},
     "output_type": "execute_result"
    }
   ],
   "source": [
    "df = pd.read_csv('data/Insta_labeled_data/labeled_40plus_full.csv', encoding='latin-1')\n",
    "len(df['img_url']),len(set(df['img_url']))"
   ]
  },
  {
   "cell_type": "code",
   "execution_count": 37,
   "metadata": {},
   "outputs": [
    {
     "data": {
      "text/html": [
       "<div>\n",
       "<style scoped>\n",
       "    .dataframe tbody tr th:only-of-type {\n",
       "        vertical-align: middle;\n",
       "    }\n",
       "\n",
       "    .dataframe tbody tr th {\n",
       "        vertical-align: top;\n",
       "    }\n",
       "\n",
       "    .dataframe thead th {\n",
       "        text-align: right;\n",
       "    }\n",
       "</style>\n",
       "<table border=\"1\" class=\"dataframe\">\n",
       "  <thead>\n",
       "    <tr style=\"text-align: right;\">\n",
       "      <th></th>\n",
       "      <th>_unit_id</th>\n",
       "      <th>_created_at</th>\n",
       "      <th>_golden</th>\n",
       "      <th>_id</th>\n",
       "      <th>_missed</th>\n",
       "      <th>_started_at</th>\n",
       "      <th>_tainted</th>\n",
       "      <th>_channel</th>\n",
       "      <th>_trust</th>\n",
       "      <th>_worker_id</th>\n",
       "      <th>...</th>\n",
       "      <th>clmn97</th>\n",
       "      <th>clmn98</th>\n",
       "      <th>clmn99</th>\n",
       "      <th>cptn_time</th>\n",
       "      <th>img_url</th>\n",
       "      <th>likes</th>\n",
       "      <th>owner_cmnt</th>\n",
       "      <th>owner_id</th>\n",
       "      <th>question1_gold</th>\n",
       "      <th>question2_gold</th>\n",
       "    </tr>\n",
       "  </thead>\n",
       "  <tbody>\n",
       "    <tr>\n",
       "      <th>0</th>\n",
       "      <td>649719574</td>\n",
       "      <td>1/17/2015 19:37:16</td>\n",
       "      <td>False</td>\n",
       "      <td>1531470430</td>\n",
       "      <td>NaN</td>\n",
       "      <td>1/17/2015 19:33:34</td>\n",
       "      <td>False</td>\n",
       "      <td>clixsense</td>\n",
       "      <td>1.0000</td>\n",
       "      <td>26831570</td>\n",
       "      <td>...</td>\n",
       "      <td>empety</td>\n",
       "      <td>empety</td>\n",
       "      <td>empety</td>\n",
       "      <td>&lt;font color=\"#0066CC\"&gt;offthis_&lt;/font&gt;   erase ...</td>\n",
       "      <td>http://scontent-b.cdninstagram.com/hphotos-xap...</td>\n",
       "      <td>196 likes</td>\n",
       "      <td>Media posted at 012-02-11 23:04:28</td>\n",
       "      <td>&lt;font color=\"#0066CC\"&gt;nailsfv&lt;/font&gt;</td>\n",
       "      <td>NaN</td>\n",
       "      <td>NaN</td>\n",
       "    </tr>\n",
       "    <tr>\n",
       "      <th>1</th>\n",
       "      <td>649719574</td>\n",
       "      <td>1/17/2015 20:40:57</td>\n",
       "      <td>False</td>\n",
       "      <td>1531507988</td>\n",
       "      <td>NaN</td>\n",
       "      <td>1/17/2015 20:33:40</td>\n",
       "      <td>False</td>\n",
       "      <td>elite</td>\n",
       "      <td>0.9800</td>\n",
       "      <td>30609759</td>\n",
       "      <td>...</td>\n",
       "      <td>empety</td>\n",
       "      <td>empety</td>\n",
       "      <td>empety</td>\n",
       "      <td>&lt;font color=\"#0066CC\"&gt;offthis_&lt;/font&gt;   erase ...</td>\n",
       "      <td>http://scontent-b.cdninstagram.com/hphotos-xap...</td>\n",
       "      <td>196 likes</td>\n",
       "      <td>Media posted at 012-02-11 23:04:28</td>\n",
       "      <td>&lt;font color=\"#0066CC\"&gt;nailsfv&lt;/font&gt;</td>\n",
       "      <td>NaN</td>\n",
       "      <td>NaN</td>\n",
       "    </tr>\n",
       "    <tr>\n",
       "      <th>2</th>\n",
       "      <td>649719574</td>\n",
       "      <td>1/17/2015 21:54:57</td>\n",
       "      <td>False</td>\n",
       "      <td>1531549350</td>\n",
       "      <td>NaN</td>\n",
       "      <td>1/17/2015 21:53:10</td>\n",
       "      <td>False</td>\n",
       "      <td>prodege</td>\n",
       "      <td>0.9200</td>\n",
       "      <td>3696575</td>\n",
       "      <td>...</td>\n",
       "      <td>empety</td>\n",
       "      <td>empety</td>\n",
       "      <td>empety</td>\n",
       "      <td>&lt;font color=\"#0066CC\"&gt;offthis_&lt;/font&gt;   erase ...</td>\n",
       "      <td>http://scontent-b.cdninstagram.com/hphotos-xap...</td>\n",
       "      <td>196 likes</td>\n",
       "      <td>Media posted at 012-02-11 23:04:28</td>\n",
       "      <td>&lt;font color=\"#0066CC\"&gt;nailsfv&lt;/font&gt;</td>\n",
       "      <td>NaN</td>\n",
       "      <td>NaN</td>\n",
       "    </tr>\n",
       "    <tr>\n",
       "      <th>3</th>\n",
       "      <td>649719574</td>\n",
       "      <td>1/18/2015 00:11:28</td>\n",
       "      <td>False</td>\n",
       "      <td>1531628330</td>\n",
       "      <td>NaN</td>\n",
       "      <td>1/18/2015 00:07:23</td>\n",
       "      <td>False</td>\n",
       "      <td>neodev</td>\n",
       "      <td>0.9200</td>\n",
       "      <td>29750518</td>\n",
       "      <td>...</td>\n",
       "      <td>empety</td>\n",
       "      <td>empety</td>\n",
       "      <td>empety</td>\n",
       "      <td>&lt;font color=\"#0066CC\"&gt;offthis_&lt;/font&gt;   erase ...</td>\n",
       "      <td>http://scontent-b.cdninstagram.com/hphotos-xap...</td>\n",
       "      <td>196 likes</td>\n",
       "      <td>Media posted at 012-02-11 23:04:28</td>\n",
       "      <td>&lt;font color=\"#0066CC\"&gt;nailsfv&lt;/font&gt;</td>\n",
       "      <td>NaN</td>\n",
       "      <td>NaN</td>\n",
       "    </tr>\n",
       "    <tr>\n",
       "      <th>4</th>\n",
       "      <td>649719574</td>\n",
       "      <td>1/18/2015 02:21:20</td>\n",
       "      <td>False</td>\n",
       "      <td>1531708189</td>\n",
       "      <td>NaN</td>\n",
       "      <td>1/18/2015 02:16:41</td>\n",
       "      <td>False</td>\n",
       "      <td>clixsense</td>\n",
       "      <td>0.8889</td>\n",
       "      <td>7398771</td>\n",
       "      <td>...</td>\n",
       "      <td>empety</td>\n",
       "      <td>empety</td>\n",
       "      <td>empety</td>\n",
       "      <td>&lt;font color=\"#0066CC\"&gt;offthis_&lt;/font&gt;   erase ...</td>\n",
       "      <td>http://scontent-b.cdninstagram.com/hphotos-xap...</td>\n",
       "      <td>196 likes</td>\n",
       "      <td>Media posted at 012-02-11 23:04:28</td>\n",
       "      <td>&lt;font color=\"#0066CC\"&gt;nailsfv&lt;/font&gt;</td>\n",
       "      <td>NaN</td>\n",
       "      <td>NaN</td>\n",
       "    </tr>\n",
       "  </tbody>\n",
       "</table>\n",
       "<p>5 rows × 218 columns</p>\n",
       "</div>"
      ],
      "text/plain": [
       "    _unit_id         _created_at  _golden         _id _missed  \\\n",
       "0  649719574  1/17/2015 19:37:16    False  1531470430     NaN   \n",
       "1  649719574  1/17/2015 20:40:57    False  1531507988     NaN   \n",
       "2  649719574  1/17/2015 21:54:57    False  1531549350     NaN   \n",
       "3  649719574  1/18/2015 00:11:28    False  1531628330     NaN   \n",
       "4  649719574  1/18/2015 02:21:20    False  1531708189     NaN   \n",
       "\n",
       "          _started_at  _tainted   _channel  _trust  _worker_id      ...        \\\n",
       "0  1/17/2015 19:33:34     False  clixsense  1.0000    26831570      ...         \n",
       "1  1/17/2015 20:33:40     False      elite  0.9800    30609759      ...         \n",
       "2  1/17/2015 21:53:10     False    prodege  0.9200     3696575      ...         \n",
       "3  1/18/2015 00:07:23     False     neodev  0.9200    29750518      ...         \n",
       "4  1/18/2015 02:16:41     False  clixsense  0.8889     7398771      ...         \n",
       "\n",
       "   clmn97  clmn98  clmn99                                          cptn_time  \\\n",
       "0  empety  empety  empety  <font color=\"#0066CC\">offthis_</font>   erase ...   \n",
       "1  empety  empety  empety  <font color=\"#0066CC\">offthis_</font>   erase ...   \n",
       "2  empety  empety  empety  <font color=\"#0066CC\">offthis_</font>   erase ...   \n",
       "3  empety  empety  empety  <font color=\"#0066CC\">offthis_</font>   erase ...   \n",
       "4  empety  empety  empety  <font color=\"#0066CC\">offthis_</font>   erase ...   \n",
       "\n",
       "                                             img_url      likes  \\\n",
       "0  http://scontent-b.cdninstagram.com/hphotos-xap...  196 likes   \n",
       "1  http://scontent-b.cdninstagram.com/hphotos-xap...  196 likes   \n",
       "2  http://scontent-b.cdninstagram.com/hphotos-xap...  196 likes   \n",
       "3  http://scontent-b.cdninstagram.com/hphotos-xap...  196 likes   \n",
       "4  http://scontent-b.cdninstagram.com/hphotos-xap...  196 likes   \n",
       "\n",
       "                           owner_cmnt                                owner_id  \\\n",
       "0  Media posted at 012-02-11 23:04:28  <font color=\"#0066CC\">nailsfv</font>     \n",
       "1  Media posted at 012-02-11 23:04:28  <font color=\"#0066CC\">nailsfv</font>     \n",
       "2  Media posted at 012-02-11 23:04:28  <font color=\"#0066CC\">nailsfv</font>     \n",
       "3  Media posted at 012-02-11 23:04:28  <font color=\"#0066CC\">nailsfv</font>     \n",
       "4  Media posted at 012-02-11 23:04:28  <font color=\"#0066CC\">nailsfv</font>     \n",
       "\n",
       "  question1_gold question2_gold  \n",
       "0            NaN            NaN  \n",
       "1            NaN            NaN  \n",
       "2            NaN            NaN  \n",
       "3            NaN            NaN  \n",
       "4            NaN            NaN  \n",
       "\n",
       "[5 rows x 218 columns]"
      ]
     },
     "execution_count": 37,
     "metadata": {},
     "output_type": "execute_result"
    }
   ],
   "source": [
    "df.head()"
   ]
  },
  {
   "cell_type": "markdown",
   "metadata": {},
   "source": [
    "---\n",
    "**NOTE**\n",
    "+ _unit_id - unique id for each image\n",
    "+ Each row is answer of one annotator\n",
    "+ Other information about workers present \n",
    "+ *question1* is Aggression or not Aggrestion\n",
    "+ *question2* is Bullying or Not bullying\n",
    "+ Comments on the image are also given\n",
    "+ Image links used as a key\n",
    "+ Looks like owner comment is the caption\n",
    "---"
   ]
  },
  {
   "cell_type": "markdown",
   "metadata": {},
   "source": [
    "## Session Label"
   ]
  },
  {
   "cell_type": "code",
   "execution_count": 38,
   "metadata": {},
   "outputs": [
    {
     "data": {
      "text/plain": [
       "(278, 278)"
      ]
     },
     "execution_count": 38,
     "metadata": {},
     "output_type": "execute_result"
    }
   ],
   "source": [
    "df = pd.read_csv('data/Insta_labeled_data/sessions_0plus_to_10_metadata.csv', encoding='latin-1')\n",
    "len(df['img_url']),len(set(df['img_url']))"
   ]
  },
  {
   "cell_type": "code",
   "execution_count": 39,
   "metadata": {},
   "outputs": [
    {
     "data": {
      "text/plain": [
       "(1018, 1017)"
      ]
     },
     "execution_count": 39,
     "metadata": {},
     "output_type": "execute_result"
    }
   ],
   "source": [
    "df = pd.read_csv('data/Insta_labeled_data/sessions_10plus_to_40_metadata.csv', encoding='latin-1')\n",
    "len(df['img_url']),len(set(df['img_url']))"
   ]
  },
  {
   "cell_type": "code",
   "execution_count": 41,
   "metadata": {},
   "outputs": [
    {
     "data": {
      "text/plain": [
       "(922, 921)"
      ]
     },
     "execution_count": 41,
     "metadata": {},
     "output_type": "execute_result"
    }
   ],
   "source": [
    "df = pd.read_csv('data/Insta_labeled_data/sessions_40plus_metadata.csv', encoding='latin-1')\n",
    "len(df['img_url']),len(set(df['img_url']))"
   ]
  },
  {
   "cell_type": "code",
   "execution_count": null,
   "metadata": {},
   "outputs": [],
   "source": []
  }
 ],
 "metadata": {
  "kernelspec": {
   "display_name": "Python (nii_project)",
   "language": "python",
   "name": "nii_project"
  },
  "language_info": {
   "codemirror_mode": {
    "name": "ipython",
    "version": 3
   },
   "file_extension": ".py",
   "mimetype": "text/x-python",
   "name": "python",
   "nbconvert_exporter": "python",
   "pygments_lexer": "ipython3",
   "version": "3.6.8"
  }
 },
 "nbformat": 4,
 "nbformat_minor": 2
}
