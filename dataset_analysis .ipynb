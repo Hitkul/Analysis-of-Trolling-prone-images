{
 "cells": [
  {
   "cell_type": "markdown",
   "metadata": {},
   "source": [
    "## Instagram_images"
   ]
  },
  {
   "cell_type": "code",
   "execution_count": 79,
   "metadata": {},
   "outputs": [],
   "source": [
    "import pandas as pd\n",
    "from os import listdir"
   ]
  },
  {
   "cell_type": "code",
   "execution_count": 80,
   "metadata": {},
   "outputs": [],
   "source": [
    "def get_imageid_link_lists(filename):\n",
    "    df = pd.read_csv(filename, sep=' ',names=['image_id','links'])\n",
    "    return df['image_id'].tolist(),df['links'].tolist()"
   ]
  },
  {
   "cell_type": "code",
   "execution_count": 81,
   "metadata": {},
   "outputs": [],
   "source": [
    "def get_filenames_in_folder(foldername):\n",
    "    return [i.replace('.jpg','') for i in listdir(foldername)]"
   ]
  },
  {
   "cell_type": "code",
   "execution_count": 84,
   "metadata": {},
   "outputs": [],
   "source": [
    "def show_image_id_txt_file_map(filename,foldername):\n",
    "    image_id,links = get_imageid_link_lists(filename)\n",
    "    image_ids_folder = get_filenames_in_folder(foldername)\n",
    "    print(f\"FOLDER = {foldername.split('/')[-2]} and FILE= {filename.split('/')[-1]}\")\n",
    "    print(f\"Total id and links present in txt file are {len(image_id),len(links)}\")\n",
    "    print(f\"Total unique id and links present in txt file are {len(set(image_id)),len(set(links))}\")\n",
    "    print(f\"Total images present in folder {len(image_ids_folder)}\")\n",
    "    print(f\"Total unique images present in folder {len(set(image_ids_folder))}\")\n",
    "    print(f\"Number of images present in both sets {len(set(image_ids_folder)&set(image_id))}\")\n",
    "    print(f\"Number of IDs present in file but not in folder {len(set(image_id)-set(image_ids_folder))}\")\n",
    "    print(f\"Number of IDs present in folder but not in file {len(set(image_ids_folder)-set(image_id))}\")\n",
    "    return image_id,image_ids_folder"
   ]
  },
  {
   "cell_type": "code",
   "execution_count": 85,
   "metadata": {},
   "outputs": [
    {
     "name": "stdout",
     "output_type": "stream",
     "text": [
      "FOLDER = images_0_10 and FILE= namesall_info_media_ids_to_collect_0plus_to_10.txt\n",
      "Total id and links present in txt file are (270, 270)\n",
      "Total unique id and links present in txt file are (270, 270)\n",
      "Total images present in folder 276\n",
      "Total unique images present in folder 276\n",
      "Number of images present in both sets 267\n",
      "Number of IDs present in file but not in folder 3\n",
      "Number of IDs present in folder but not in file 9\n"
     ]
    }
   ],
   "source": [
    "image_id_0_10_file,image_id_0_10_folder = show_image_id_txt_file_map('data/instagram_images/namesall_info_media_ids_to_collect_0plus_to_10.txt','data/instagram_images/images_0_10/')"
   ]
  },
  {
   "cell_type": "code",
   "execution_count": 86,
   "metadata": {},
   "outputs": [
    {
     "name": "stdout",
     "output_type": "stream",
     "text": [
      "FOLDER = images_10_40 and FILE= namesall_info_media_ids_to_collect_10plus_to_40.txt\n",
      "Total id and links present in txt file are (835, 835)\n",
      "Total unique id and links present in txt file are (835, 835)\n",
      "Total images present in folder 987\n",
      "Total unique images present in folder 987\n",
      "Number of images present in both sets 831\n",
      "Number of IDs present in file but not in folder 4\n",
      "Number of IDs present in folder but not in file 156\n"
     ]
    }
   ],
   "source": [
    "image_id_10_40_file,image_id_10_40_folder = show_image_id_txt_file_map('data/instagram_images/namesall_info_media_ids_to_collect_10plus_to_40.txt','data/instagram_images/images_10_40/')"
   ]
  },
  {
   "cell_type": "code",
   "execution_count": 87,
   "metadata": {},
   "outputs": [
    {
     "name": "stdout",
     "output_type": "stream",
     "text": [
      "FOLDER =  and FILE= namesall_info_media_ids_to_collect_40plus.txt\n",
      "Total id and links present in txt file are (816, 816)\n",
      "Total unique id and links present in txt file are (816, 816)\n",
      "Total images present in folder 1000\n",
      "Total unique images present in folder 1000\n",
      "Number of images present in both sets 809\n",
      "Number of IDs present in file but not in folder 7\n",
      "Number of IDs present in folder but not in file 191\n"
     ]
    }
   ],
   "source": [
    "image_id_40_plus_file,image_id_40_plus_folder = show_image_id_txt_file_map('data/instagram_images/namesall_info_media_ids_to_collect_40plus.txt','data/instagram_images/images_40plus//')"
   ]
  },
  {
   "cell_type": "code",
   "execution_count": 88,
   "metadata": {},
   "outputs": [],
   "source": [
    "all_ids_file = image_id_0_10_file+image_id_10_40_file+image_id_40_plus_file\n",
    "all_ids_folder = image_id_0_10_folder+image_id_10_40_folder+image_id_40_plus_folder"
   ]
  },
  {
   "cell_type": "code",
   "execution_count": null,
   "metadata": {},
   "outputs": [],
   "source": [
    "print(f\"Total image ids file {len(all_ids_file)}\")\n",
    "print(f\"Total images folder {len(all_ids_folder)}\")\n",
    "print(f\"Total unique image ids file {len(set(all_ids_file))}\")\n",
    "print(f\"Total unique images folder {len(all_ids_folder))}\")\n"
   ]
  }
 ],
 "metadata": {
  "kernelspec": {
   "display_name": "Python (nii_project)",
   "language": "python",
   "name": "nii_project"
  },
  "language_info": {
   "codemirror_mode": {
    "name": "ipython",
    "version": 3
   },
   "file_extension": ".py",
   "mimetype": "text/x-python",
   "name": "python",
   "nbconvert_exporter": "python",
   "pygments_lexer": "ipython3",
   "version": "3.6.8"
  }
 },
 "nbformat": 4,
 "nbformat_minor": 2
}
