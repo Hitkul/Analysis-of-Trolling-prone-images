{
 "cells": [
  {
   "cell_type": "markdown",
   "metadata": {},
   "source": [
    "## Instagram_images"
   ]
  },
  {
   "cell_type": "code",
   "execution_count": 20,
   "metadata": {},
   "outputs": [],
   "source": [
    "import pandas as pd\n",
    "from os import listdir\n",
    "import json"
   ]
  },
  {
   "cell_type": "code",
   "execution_count": 64,
   "metadata": {},
   "outputs": [],
   "source": [
    "def get_imageid_link_lists(filename):\n",
    "    df = pd.read_csv(filename, sep=' ',names=['image_id','links'])\n",
    "    return df['image_id'].tolist(),df['links'].tolist()"
   ]
  },
  {
   "cell_type": "code",
   "execution_count": 65,
   "metadata": {},
   "outputs": [],
   "source": [
    "def get_filenames_in_folder(foldername):\n",
    "    return [i.replace('.jpg','') for i in listdir(foldername)]"
   ]
  },
  {
   "cell_type": "code",
   "execution_count": 66,
   "metadata": {},
   "outputs": [],
   "source": [
    "def show_image_id_txt_file_map(filename,foldername):\n",
    "    image_id,links = get_imageid_link_lists(filename)\n",
    "    image_ids_folder = get_filenames_in_folder(foldername)\n",
    "    print(f\"FOLDER = {foldername.split('/')[-2]} and FILE= {filename.split('/')[-1]}\")\n",
    "    print(f\"Total id and links present in txt file are {len(image_id),len(links)}\")\n",
    "    print(f\"Total unique id and links present in txt file are {len(set(image_id)),len(set(links))}\")\n",
    "    print(f\"Total images present in folder {len(image_ids_folder)}\")\n",
    "    print(f\"Total unique images present in folder {len(set(image_ids_folder))}\")\n",
    "    print(f\"Number of images present in both sets {len(set(image_ids_folder)&set(image_id))}\")\n",
    "    print(f\"Number of IDs present in file but not in folder {len(set(image_id)-set(image_ids_folder))}\")\n",
    "    print(f\"Number of IDs present in folder but not in file {len(set(image_ids_folder)-set(image_id))}\")\n",
    "    return image_id,image_ids_folder"
   ]
  },
  {
   "cell_type": "code",
   "execution_count": 67,
   "metadata": {
    "scrolled": true
   },
   "outputs": [
    {
     "name": "stdout",
     "output_type": "stream",
     "text": [
      "FOLDER = images_0_10 and FILE= namesall_info_media_ids_to_collect_0plus_to_10.txt\n",
      "Total id and links present in txt file are (270, 270)\n",
      "Total unique id and links present in txt file are (270, 270)\n",
      "Total images present in folder 276\n",
      "Total unique images present in folder 276\n",
      "Number of images present in both sets 267\n",
      "Number of IDs present in file but not in folder 3\n",
      "Number of IDs present in folder but not in file 9\n"
     ]
    }
   ],
   "source": [
    "image_id_0_10_file,image_id_0_10_folder = show_image_id_txt_file_map('data/instagram_images/namesall_info_media_ids_to_collect_0plus_to_10.txt','data/instagram_images/images_0_10/')"
   ]
  },
  {
   "cell_type": "code",
   "execution_count": 68,
   "metadata": {},
   "outputs": [
    {
     "name": "stdout",
     "output_type": "stream",
     "text": [
      "FOLDER = images_10_40 and FILE= namesall_info_media_ids_to_collect_10plus_to_40.txt\n",
      "Total id and links present in txt file are (835, 835)\n",
      "Total unique id and links present in txt file are (835, 835)\n",
      "Total images present in folder 987\n",
      "Total unique images present in folder 987\n",
      "Number of images present in both sets 831\n",
      "Number of IDs present in file but not in folder 4\n",
      "Number of IDs present in folder but not in file 156\n"
     ]
    }
   ],
   "source": [
    "image_id_10_40_file,image_id_10_40_folder = show_image_id_txt_file_map('data/instagram_images/namesall_info_media_ids_to_collect_10plus_to_40.txt','data/instagram_images/images_10_40/')"
   ]
  },
  {
   "cell_type": "code",
   "execution_count": 69,
   "metadata": {},
   "outputs": [
    {
     "name": "stdout",
     "output_type": "stream",
     "text": [
      "FOLDER =  and FILE= namesall_info_media_ids_to_collect_40plus.txt\n",
      "Total id and links present in txt file are (816, 816)\n",
      "Total unique id and links present in txt file are (816, 816)\n",
      "Total images present in folder 1000\n",
      "Total unique images present in folder 1000\n",
      "Number of images present in both sets 809\n",
      "Number of IDs present in file but not in folder 7\n",
      "Number of IDs present in folder but not in file 191\n"
     ]
    }
   ],
   "source": [
    "image_id_40_plus_file,image_id_40_plus_folder = show_image_id_txt_file_map('data/instagram_images/namesall_info_media_ids_to_collect_40plus.txt','data/instagram_images/images_40plus//')"
   ]
  },
  {
   "cell_type": "code",
   "execution_count": 70,
   "metadata": {},
   "outputs": [],
   "source": [
    "all_ids_file = image_id_0_10_file+image_id_10_40_file+image_id_40_plus_file\n",
    "all_ids_folder = image_id_0_10_folder+image_id_10_40_folder+image_id_40_plus_folder"
   ]
  },
  {
   "cell_type": "code",
   "execution_count": 71,
   "metadata": {},
   "outputs": [
    {
     "name": "stdout",
     "output_type": "stream",
     "text": [
      "Total image ids file 1921\n",
      "Total unique image ids file 1921\n",
      "Total images folder 2263\n",
      "Total unique images folder 2263\n",
      "Number of images present in both sets 1907\n",
      "Number of IDs present in file but not in folder 14\n",
      "Number of IDs present in folder but not in file 356\n"
     ]
    }
   ],
   "source": [
    "print(f\"Total image ids file {len(all_ids_file)}\")\n",
    "print(f\"Total unique image ids file {len(set(all_ids_file))}\")\n",
    "print(f\"Total images folder {len(all_ids_folder)}\")\n",
    "print(f\"Total unique images folder {len((all_ids_folder))}\")\n",
    "\n",
    "print(f\"Number of images present in both sets {len(set(all_ids_file)&set(all_ids_folder))}\")\n",
    "print(f\"Number of IDs present in file but not in folder {len(set(all_ids_file)-set(all_ids_folder))}\")\n",
    "print(f\"Number of IDs present in folder but not in file {len(set(all_ids_folder)-set(all_ids_file))}\")"
   ]
  },
  {
   "cell_type": "markdown",
   "metadata": {},
   "source": [
    "---\n",
    "**NOTE**\n",
    "\n",
    "Looks like that these files are a map between image name (id) and source link.\n",
    "\n",
    "---"
   ]
  },
  {
   "cell_type": "markdown",
   "metadata": {},
   "source": [
    "## Image enities labels"
   ]
  },
  {
   "cell_type": "code",
   "execution_count": 72,
   "metadata": {},
   "outputs": [],
   "source": [
    "def get_links_and_entites(filename):\n",
    "    df = pd.read_csv(filename, sep=',',names=[\"image_id\",\"label_image\"])\n",
    "    return df['image_id'].tolist(),df['label_image'].tolist()"
   ]
  },
  {
   "cell_type": "code",
   "execution_count": 73,
   "metadata": {},
   "outputs": [
    {
     "data": {
      "text/plain": [
       "278"
      ]
     },
     "execution_count": 73,
     "metadata": {},
     "output_type": "execute_result"
    }
   ],
   "source": [
    "links,_ = get_links_and_entites(\"data/Insta_labeled_data/image_labels_0plus_to_10_.csv\")\n",
    "len(links)"
   ]
  },
  {
   "cell_type": "code",
   "execution_count": 74,
   "metadata": {},
   "outputs": [
    {
     "data": {
      "text/plain": [
       "1032"
      ]
     },
     "execution_count": 74,
     "metadata": {},
     "output_type": "execute_result"
    }
   ],
   "source": [
    "links,_ = get_links_and_entites(\"data/Insta_labeled_data/image_labels_10plus_to_40.csv\")\n",
    "len(links)"
   ]
  },
  {
   "cell_type": "code",
   "execution_count": 75,
   "metadata": {},
   "outputs": [
    {
     "data": {
      "text/plain": [
       "953"
      ]
     },
     "execution_count": 75,
     "metadata": {},
     "output_type": "execute_result"
    }
   ],
   "source": [
    "links,_ = get_links_and_entites(\"data/Insta_labeled_data/image_labels_40plus.csv\")\n",
    "len(links)"
   ]
  },
  {
   "cell_type": "markdown",
   "metadata": {},
   "source": [
    "---\n",
    "**NOTE**\n",
    "\n",
    "* Entites label of each image.\n",
    "* Mapping is done using the links.\n",
    "* Answers of multiple annotators are given.\n",
    "---"
   ]
  },
  {
   "cell_type": "markdown",
   "metadata": {},
   "source": [
    "## Labeled images"
   ]
  },
  {
   "cell_type": "code",
   "execution_count": 76,
   "metadata": {},
   "outputs": [
    {
     "data": {
      "text/plain": [
       "(1390, 278)"
      ]
     },
     "execution_count": 76,
     "metadata": {},
     "output_type": "execute_result"
    }
   ],
   "source": [
    "df = pd.read_csv('data/Insta_labeled_data/labeled_0plus_to_10__full.csv', encoding='latin-1')\n",
    "len(df['img_url']),len(set(df['img_url']))"
   ]
  },
  {
   "cell_type": "code",
   "execution_count": 77,
   "metadata": {},
   "outputs": [
    {
     "data": {
      "text/plain": [
       "(5196, 1031)"
      ]
     },
     "execution_count": 77,
     "metadata": {},
     "output_type": "execute_result"
    }
   ],
   "source": [
    "df = pd.read_csv('data/Insta_labeled_data/labeled_10plus_to_40_full.csv', encoding='latin-1')\n",
    "len(df['img_url']),len(set(df['img_url']))"
   ]
  },
  {
   "cell_type": "code",
   "execution_count": 78,
   "metadata": {},
   "outputs": [
    {
     "name": "stderr",
     "output_type": "stream",
     "text": [
      "/home/hitkul/anaconda3/envs/nii_project/lib/python3.6/site-packages/IPython/core/interactiveshell.py:3020: DtypeWarning: Columns (4,216,217) have mixed types. Specify dtype option on import or set low_memory=False.\n",
      "  interactivity=interactivity, compiler=compiler, result=result)\n"
     ]
    },
    {
     "data": {
      "text/plain": [
       "(6104, 935)"
      ]
     },
     "execution_count": 78,
     "metadata": {},
     "output_type": "execute_result"
    }
   ],
   "source": [
    "df = pd.read_csv('data/Insta_labeled_data/labeled_40plus_full.csv', encoding='latin-1')\n",
    "len(df['img_url']),len(set(df['img_url']))"
   ]
  },
  {
   "cell_type": "code",
   "execution_count": 79,
   "metadata": {},
   "outputs": [
    {
     "data": {
      "text/html": [
       "<div>\n",
       "<style scoped>\n",
       "    .dataframe tbody tr th:only-of-type {\n",
       "        vertical-align: middle;\n",
       "    }\n",
       "\n",
       "    .dataframe tbody tr th {\n",
       "        vertical-align: top;\n",
       "    }\n",
       "\n",
       "    .dataframe thead th {\n",
       "        text-align: right;\n",
       "    }\n",
       "</style>\n",
       "<table border=\"1\" class=\"dataframe\">\n",
       "  <thead>\n",
       "    <tr style=\"text-align: right;\">\n",
       "      <th></th>\n",
       "      <th>_unit_id</th>\n",
       "      <th>_created_at</th>\n",
       "      <th>_golden</th>\n",
       "      <th>_id</th>\n",
       "      <th>_missed</th>\n",
       "      <th>_started_at</th>\n",
       "      <th>_tainted</th>\n",
       "      <th>_channel</th>\n",
       "      <th>_trust</th>\n",
       "      <th>_worker_id</th>\n",
       "      <th>...</th>\n",
       "      <th>clmn97</th>\n",
       "      <th>clmn98</th>\n",
       "      <th>clmn99</th>\n",
       "      <th>cptn_time</th>\n",
       "      <th>img_url</th>\n",
       "      <th>likes</th>\n",
       "      <th>owner_cmnt</th>\n",
       "      <th>owner_id</th>\n",
       "      <th>question1_gold</th>\n",
       "      <th>question2_gold</th>\n",
       "    </tr>\n",
       "  </thead>\n",
       "  <tbody>\n",
       "    <tr>\n",
       "      <th>0</th>\n",
       "      <td>649719574</td>\n",
       "      <td>1/17/2015 19:37:16</td>\n",
       "      <td>False</td>\n",
       "      <td>1531470430</td>\n",
       "      <td>NaN</td>\n",
       "      <td>1/17/2015 19:33:34</td>\n",
       "      <td>False</td>\n",
       "      <td>clixsense</td>\n",
       "      <td>1.0000</td>\n",
       "      <td>26831570</td>\n",
       "      <td>...</td>\n",
       "      <td>empety</td>\n",
       "      <td>empety</td>\n",
       "      <td>empety</td>\n",
       "      <td>&lt;font color=\"#0066CC\"&gt;offthis_&lt;/font&gt;   erase ...</td>\n",
       "      <td>http://scontent-b.cdninstagram.com/hphotos-xap...</td>\n",
       "      <td>196 likes</td>\n",
       "      <td>Media posted at 012-02-11 23:04:28</td>\n",
       "      <td>&lt;font color=\"#0066CC\"&gt;nailsfv&lt;/font&gt;</td>\n",
       "      <td>NaN</td>\n",
       "      <td>NaN</td>\n",
       "    </tr>\n",
       "    <tr>\n",
       "      <th>1</th>\n",
       "      <td>649719574</td>\n",
       "      <td>1/17/2015 20:40:57</td>\n",
       "      <td>False</td>\n",
       "      <td>1531507988</td>\n",
       "      <td>NaN</td>\n",
       "      <td>1/17/2015 20:33:40</td>\n",
       "      <td>False</td>\n",
       "      <td>elite</td>\n",
       "      <td>0.9800</td>\n",
       "      <td>30609759</td>\n",
       "      <td>...</td>\n",
       "      <td>empety</td>\n",
       "      <td>empety</td>\n",
       "      <td>empety</td>\n",
       "      <td>&lt;font color=\"#0066CC\"&gt;offthis_&lt;/font&gt;   erase ...</td>\n",
       "      <td>http://scontent-b.cdninstagram.com/hphotos-xap...</td>\n",
       "      <td>196 likes</td>\n",
       "      <td>Media posted at 012-02-11 23:04:28</td>\n",
       "      <td>&lt;font color=\"#0066CC\"&gt;nailsfv&lt;/font&gt;</td>\n",
       "      <td>NaN</td>\n",
       "      <td>NaN</td>\n",
       "    </tr>\n",
       "    <tr>\n",
       "      <th>2</th>\n",
       "      <td>649719574</td>\n",
       "      <td>1/17/2015 21:54:57</td>\n",
       "      <td>False</td>\n",
       "      <td>1531549350</td>\n",
       "      <td>NaN</td>\n",
       "      <td>1/17/2015 21:53:10</td>\n",
       "      <td>False</td>\n",
       "      <td>prodege</td>\n",
       "      <td>0.9200</td>\n",
       "      <td>3696575</td>\n",
       "      <td>...</td>\n",
       "      <td>empety</td>\n",
       "      <td>empety</td>\n",
       "      <td>empety</td>\n",
       "      <td>&lt;font color=\"#0066CC\"&gt;offthis_&lt;/font&gt;   erase ...</td>\n",
       "      <td>http://scontent-b.cdninstagram.com/hphotos-xap...</td>\n",
       "      <td>196 likes</td>\n",
       "      <td>Media posted at 012-02-11 23:04:28</td>\n",
       "      <td>&lt;font color=\"#0066CC\"&gt;nailsfv&lt;/font&gt;</td>\n",
       "      <td>NaN</td>\n",
       "      <td>NaN</td>\n",
       "    </tr>\n",
       "    <tr>\n",
       "      <th>3</th>\n",
       "      <td>649719574</td>\n",
       "      <td>1/18/2015 00:11:28</td>\n",
       "      <td>False</td>\n",
       "      <td>1531628330</td>\n",
       "      <td>NaN</td>\n",
       "      <td>1/18/2015 00:07:23</td>\n",
       "      <td>False</td>\n",
       "      <td>neodev</td>\n",
       "      <td>0.9200</td>\n",
       "      <td>29750518</td>\n",
       "      <td>...</td>\n",
       "      <td>empety</td>\n",
       "      <td>empety</td>\n",
       "      <td>empety</td>\n",
       "      <td>&lt;font color=\"#0066CC\"&gt;offthis_&lt;/font&gt;   erase ...</td>\n",
       "      <td>http://scontent-b.cdninstagram.com/hphotos-xap...</td>\n",
       "      <td>196 likes</td>\n",
       "      <td>Media posted at 012-02-11 23:04:28</td>\n",
       "      <td>&lt;font color=\"#0066CC\"&gt;nailsfv&lt;/font&gt;</td>\n",
       "      <td>NaN</td>\n",
       "      <td>NaN</td>\n",
       "    </tr>\n",
       "    <tr>\n",
       "      <th>4</th>\n",
       "      <td>649719574</td>\n",
       "      <td>1/18/2015 02:21:20</td>\n",
       "      <td>False</td>\n",
       "      <td>1531708189</td>\n",
       "      <td>NaN</td>\n",
       "      <td>1/18/2015 02:16:41</td>\n",
       "      <td>False</td>\n",
       "      <td>clixsense</td>\n",
       "      <td>0.8889</td>\n",
       "      <td>7398771</td>\n",
       "      <td>...</td>\n",
       "      <td>empety</td>\n",
       "      <td>empety</td>\n",
       "      <td>empety</td>\n",
       "      <td>&lt;font color=\"#0066CC\"&gt;offthis_&lt;/font&gt;   erase ...</td>\n",
       "      <td>http://scontent-b.cdninstagram.com/hphotos-xap...</td>\n",
       "      <td>196 likes</td>\n",
       "      <td>Media posted at 012-02-11 23:04:28</td>\n",
       "      <td>&lt;font color=\"#0066CC\"&gt;nailsfv&lt;/font&gt;</td>\n",
       "      <td>NaN</td>\n",
       "      <td>NaN</td>\n",
       "    </tr>\n",
       "  </tbody>\n",
       "</table>\n",
       "<p>5 rows × 218 columns</p>\n",
       "</div>"
      ],
      "text/plain": [
       "    _unit_id         _created_at  _golden         _id _missed  \\\n",
       "0  649719574  1/17/2015 19:37:16    False  1531470430     NaN   \n",
       "1  649719574  1/17/2015 20:40:57    False  1531507988     NaN   \n",
       "2  649719574  1/17/2015 21:54:57    False  1531549350     NaN   \n",
       "3  649719574  1/18/2015 00:11:28    False  1531628330     NaN   \n",
       "4  649719574  1/18/2015 02:21:20    False  1531708189     NaN   \n",
       "\n",
       "          _started_at  _tainted   _channel  _trust  _worker_id      ...        \\\n",
       "0  1/17/2015 19:33:34     False  clixsense  1.0000    26831570      ...         \n",
       "1  1/17/2015 20:33:40     False      elite  0.9800    30609759      ...         \n",
       "2  1/17/2015 21:53:10     False    prodege  0.9200     3696575      ...         \n",
       "3  1/18/2015 00:07:23     False     neodev  0.9200    29750518      ...         \n",
       "4  1/18/2015 02:16:41     False  clixsense  0.8889     7398771      ...         \n",
       "\n",
       "   clmn97  clmn98  clmn99                                          cptn_time  \\\n",
       "0  empety  empety  empety  <font color=\"#0066CC\">offthis_</font>   erase ...   \n",
       "1  empety  empety  empety  <font color=\"#0066CC\">offthis_</font>   erase ...   \n",
       "2  empety  empety  empety  <font color=\"#0066CC\">offthis_</font>   erase ...   \n",
       "3  empety  empety  empety  <font color=\"#0066CC\">offthis_</font>   erase ...   \n",
       "4  empety  empety  empety  <font color=\"#0066CC\">offthis_</font>   erase ...   \n",
       "\n",
       "                                             img_url      likes  \\\n",
       "0  http://scontent-b.cdninstagram.com/hphotos-xap...  196 likes   \n",
       "1  http://scontent-b.cdninstagram.com/hphotos-xap...  196 likes   \n",
       "2  http://scontent-b.cdninstagram.com/hphotos-xap...  196 likes   \n",
       "3  http://scontent-b.cdninstagram.com/hphotos-xap...  196 likes   \n",
       "4  http://scontent-b.cdninstagram.com/hphotos-xap...  196 likes   \n",
       "\n",
       "                           owner_cmnt                                owner_id  \\\n",
       "0  Media posted at 012-02-11 23:04:28  <font color=\"#0066CC\">nailsfv</font>     \n",
       "1  Media posted at 012-02-11 23:04:28  <font color=\"#0066CC\">nailsfv</font>     \n",
       "2  Media posted at 012-02-11 23:04:28  <font color=\"#0066CC\">nailsfv</font>     \n",
       "3  Media posted at 012-02-11 23:04:28  <font color=\"#0066CC\">nailsfv</font>     \n",
       "4  Media posted at 012-02-11 23:04:28  <font color=\"#0066CC\">nailsfv</font>     \n",
       "\n",
       "  question1_gold question2_gold  \n",
       "0            NaN            NaN  \n",
       "1            NaN            NaN  \n",
       "2            NaN            NaN  \n",
       "3            NaN            NaN  \n",
       "4            NaN            NaN  \n",
       "\n",
       "[5 rows x 218 columns]"
      ]
     },
     "execution_count": 79,
     "metadata": {},
     "output_type": "execute_result"
    }
   ],
   "source": [
    "df.head()"
   ]
  },
  {
   "cell_type": "markdown",
   "metadata": {},
   "source": [
    "---\n",
    "**NOTE**\n",
    "+ *_unit_id* - unique id for each image\n",
    "+ Each row is answer of one annotator\n",
    "+ Other information about workers present \n",
    "+ *question1* is Aggression or not Aggrestion\n",
    "+ *question2* is Bullying or Not bullying\n",
    "+ Comments on the image are also given\n",
    "+ Image links used as a key\n",
    "+ Looks like owner comment is the caption\n",
    "---"
   ]
  },
  {
   "cell_type": "markdown",
   "metadata": {},
   "source": [
    "## Session Label"
   ]
  },
  {
   "cell_type": "code",
   "execution_count": 80,
   "metadata": {},
   "outputs": [
    {
     "data": {
      "text/plain": [
       "(278, 278)"
      ]
     },
     "execution_count": 80,
     "metadata": {},
     "output_type": "execute_result"
    }
   ],
   "source": [
    "df_0_10 = pd.read_csv('data/Insta_labeled_data/sessions_0plus_to_10_metadata.csv', encoding='latin-1')\n",
    "len(df_0_10['img_url']),len(set(df_0_10['img_url']))"
   ]
  },
  {
   "cell_type": "code",
   "execution_count": 81,
   "metadata": {},
   "outputs": [
    {
     "data": {
      "text/plain": [
       "(1018, 1017)"
      ]
     },
     "execution_count": 81,
     "metadata": {},
     "output_type": "execute_result"
    }
   ],
   "source": [
    "df_10_40 = pd.read_csv('data/Insta_labeled_data/sessions_10plus_to_40_metadata.csv', encoding='latin-1')\n",
    "len(df_10_40['img_url']),len(set(df_10_40['img_url']))"
   ]
  },
  {
   "cell_type": "code",
   "execution_count": 82,
   "metadata": {},
   "outputs": [
    {
     "data": {
      "text/plain": [
       "(922, 921)"
      ]
     },
     "execution_count": 82,
     "metadata": {},
     "output_type": "execute_result"
    }
   ],
   "source": [
    "df_40 = pd.read_csv('data/Insta_labeled_data/sessions_40plus_metadata.csv', encoding='latin-1')\n",
    "len(df_40['img_url']),len(set(df_40['img_url']))"
   ]
  },
  {
   "cell_type": "code",
   "execution_count": 83,
   "metadata": {},
   "outputs": [
    {
     "data": {
      "text/html": [
       "<div>\n",
       "<style scoped>\n",
       "    .dataframe tbody tr th:only-of-type {\n",
       "        vertical-align: middle;\n",
       "    }\n",
       "\n",
       "    .dataframe tbody tr th {\n",
       "        vertical-align: top;\n",
       "    }\n",
       "\n",
       "    .dataframe thead th {\n",
       "        text-align: right;\n",
       "    }\n",
       "</style>\n",
       "<table border=\"1\" class=\"dataframe\">\n",
       "  <thead>\n",
       "    <tr style=\"text-align: right;\">\n",
       "      <th></th>\n",
       "      <th>_unit_id</th>\n",
       "      <th>_golden</th>\n",
       "      <th>_unit_state</th>\n",
       "      <th>_trusted_judgments</th>\n",
       "      <th>_last_judgment_at</th>\n",
       "      <th>question1</th>\n",
       "      <th>question1:confidence</th>\n",
       "      <th>question2</th>\n",
       "      <th>question2:confidence</th>\n",
       "      <th>clmn1</th>\n",
       "      <th>...</th>\n",
       "      <th>img_url</th>\n",
       "      <th>likes</th>\n",
       "      <th>owner_cmnt</th>\n",
       "      <th>owner_id</th>\n",
       "      <th>shared media</th>\n",
       "      <th>followed_by</th>\n",
       "      <th>follows</th>\n",
       "      <th>id</th>\n",
       "      <th>cyberaggression</th>\n",
       "      <th>cyberbullying</th>\n",
       "    </tr>\n",
       "  </thead>\n",
       "  <tbody>\n",
       "    <tr>\n",
       "      <th>0</th>\n",
       "      <td>649719574</td>\n",
       "      <td>False</td>\n",
       "      <td>finalized</td>\n",
       "      <td>5</td>\n",
       "      <td>1/18/15 2:21</td>\n",
       "      <td>aggression</td>\n",
       "      <td>1.0000</td>\n",
       "      <td>bullying</td>\n",
       "      <td>1.0000</td>\n",
       "      <td>&lt;font color=\"#0066CC\"&gt;margretricee&lt;/font&gt;   Ba...</td>\n",
       "      <td>...</td>\n",
       "      <td>http://scontent-b.cdninstagram.com/hphotos-xap...</td>\n",
       "      <td>196 likes</td>\n",
       "      <td>Media posted at 012-02-11 23:04:28</td>\n",
       "      <td>&lt;font color=\"#0066CC\"&gt;nailsfv&lt;/font&gt;</td>\n",
       "      <td>189</td>\n",
       "      <td>95224</td>\n",
       "      <td>6117</td>\n",
       "      <td>649719574</td>\n",
       "      <td>5</td>\n",
       "      <td>5</td>\n",
       "    </tr>\n",
       "    <tr>\n",
       "      <th>1</th>\n",
       "      <td>649719575</td>\n",
       "      <td>False</td>\n",
       "      <td>finalized</td>\n",
       "      <td>5</td>\n",
       "      <td>1/17/15 7:45</td>\n",
       "      <td>aggression</td>\n",
       "      <td>1.0000</td>\n",
       "      <td>bullying</td>\n",
       "      <td>0.6227</td>\n",
       "      <td>&lt;font color=\"#0066CC\"&gt;mightyzulu&lt;/font&gt;   Damn...</td>\n",
       "      <td>...</td>\n",
       "      <td>http://scontent-a.cdninstagram.com/hphotos-xpa...</td>\n",
       "      <td>570 likes</td>\n",
       "      <td>new bong mac got me</td>\n",
       "      <td>&lt;font color=\"#0066CC\"&gt;treejtv&lt;/font&gt;</td>\n",
       "      <td>1341</td>\n",
       "      <td>61385</td>\n",
       "      <td>193</td>\n",
       "      <td>649719575</td>\n",
       "      <td>5</td>\n",
       "      <td>3</td>\n",
       "    </tr>\n",
       "    <tr>\n",
       "      <th>2</th>\n",
       "      <td>649719576</td>\n",
       "      <td>False</td>\n",
       "      <td>finalized</td>\n",
       "      <td>5</td>\n",
       "      <td>1/17/15 17:15</td>\n",
       "      <td>aggression</td>\n",
       "      <td>1.0000</td>\n",
       "      <td>bullying</td>\n",
       "      <td>1.0000</td>\n",
       "      <td>&lt;font color=\"#0066CC\"&gt;wayne_dizzle818&lt;/font&gt;  ...</td>\n",
       "      <td>...</td>\n",
       "      <td>http://scontent-a.cdninstagram.com/hphotos-xfa...</td>\n",
       "      <td>44 likes</td>\n",
       "      <td>So I find out that I am missing some of my Fu...</td>\n",
       "      <td>&lt;font color=\"#0066CC\"&gt;danielrochatat2&lt;/font&gt;</td>\n",
       "      <td>945</td>\n",
       "      <td>50710</td>\n",
       "      <td>1071</td>\n",
       "      <td>649719576</td>\n",
       "      <td>5</td>\n",
       "      <td>5</td>\n",
       "    </tr>\n",
       "    <tr>\n",
       "      <th>3</th>\n",
       "      <td>649719577</td>\n",
       "      <td>False</td>\n",
       "      <td>finalized</td>\n",
       "      <td>5</td>\n",
       "      <td>1/18/15 3:04</td>\n",
       "      <td>aggression</td>\n",
       "      <td>0.7876</td>\n",
       "      <td>bullying</td>\n",
       "      <td>0.5923</td>\n",
       "      <td>&lt;font color=\"#0066CC\"&gt;samantha_nora&lt;/font&gt;   S...</td>\n",
       "      <td>...</td>\n",
       "      <td>http://scontent-b.cdninstagram.com/hphotos-xpf...</td>\n",
       "      <td>1381 likes</td>\n",
       "      <td>Beautiful &lt;3</td>\n",
       "      <td>&lt;font color=\"#0066CC\"&gt;chelseahouska&lt;/font&gt;</td>\n",
       "      <td>711</td>\n",
       "      <td>1905124</td>\n",
       "      <td>272</td>\n",
       "      <td>649719577</td>\n",
       "      <td>4</td>\n",
       "      <td>3</td>\n",
       "    </tr>\n",
       "    <tr>\n",
       "      <th>4</th>\n",
       "      <td>649719578</td>\n",
       "      <td>False</td>\n",
       "      <td>finalized</td>\n",
       "      <td>5</td>\n",
       "      <td>1/17/15 12:10</td>\n",
       "      <td>aggression</td>\n",
       "      <td>1.0000</td>\n",
       "      <td>bullying</td>\n",
       "      <td>1.0000</td>\n",
       "      <td>&lt;font color=\"#0066CC\"&gt;itsmyrayeraye&lt;/font&gt;   &lt;...</td>\n",
       "      <td>...</td>\n",
       "      <td>http://scontent-b.cdninstagram.com/hphotos-xpf...</td>\n",
       "      <td>1936 likes</td>\n",
       "      <td>Tragedy</td>\n",
       "      <td>&lt;font color=\"#0066CC\"&gt;andreaschoice&lt;/font&gt;</td>\n",
       "      <td>443</td>\n",
       "      <td>532939</td>\n",
       "      <td>427</td>\n",
       "      <td>649719578</td>\n",
       "      <td>5</td>\n",
       "      <td>5</td>\n",
       "    </tr>\n",
       "  </tbody>\n",
       "</table>\n",
       "<p>5 rows × 215 columns</p>\n",
       "</div>"
      ],
      "text/plain": [
       "    _unit_id  _golden _unit_state  _trusted_judgments _last_judgment_at  \\\n",
       "0  649719574    False   finalized                   5      1/18/15 2:21   \n",
       "1  649719575    False   finalized                   5      1/17/15 7:45   \n",
       "2  649719576    False   finalized                   5     1/17/15 17:15   \n",
       "3  649719577    False   finalized                   5      1/18/15 3:04   \n",
       "4  649719578    False   finalized                   5     1/17/15 12:10   \n",
       "\n",
       "    question1  question1:confidence question2  question2:confidence  \\\n",
       "0  aggression                1.0000  bullying                1.0000   \n",
       "1  aggression                1.0000  bullying                0.6227   \n",
       "2  aggression                1.0000  bullying                1.0000   \n",
       "3  aggression                0.7876  bullying                0.5923   \n",
       "4  aggression                1.0000  bullying                1.0000   \n",
       "\n",
       "                                               clmn1      ...       \\\n",
       "0  <font color=\"#0066CC\">margretricee</font>   Ba...      ...        \n",
       "1  <font color=\"#0066CC\">mightyzulu</font>   Damn...      ...        \n",
       "2  <font color=\"#0066CC\">wayne_dizzle818</font>  ...      ...        \n",
       "3  <font color=\"#0066CC\">samantha_nora</font>   S...      ...        \n",
       "4  <font color=\"#0066CC\">itsmyrayeraye</font>   <...      ...        \n",
       "\n",
       "                                             img_url       likes  \\\n",
       "0  http://scontent-b.cdninstagram.com/hphotos-xap...   196 likes   \n",
       "1  http://scontent-a.cdninstagram.com/hphotos-xpa...   570 likes   \n",
       "2  http://scontent-a.cdninstagram.com/hphotos-xfa...    44 likes   \n",
       "3  http://scontent-b.cdninstagram.com/hphotos-xpf...  1381 likes   \n",
       "4  http://scontent-b.cdninstagram.com/hphotos-xpf...  1936 likes   \n",
       "\n",
       "                                          owner_cmnt  \\\n",
       "0                 Media posted at 012-02-11 23:04:28   \n",
       "1                                new bong mac got me   \n",
       "2   So I find out that I am missing some of my Fu...   \n",
       "3                                       Beautiful <3   \n",
       "4                                            Tragedy   \n",
       "\n",
       "                                         owner_id shared media followed_by  \\\n",
       "0          <font color=\"#0066CC\">nailsfv</font>            189       95224   \n",
       "1          <font color=\"#0066CC\">treejtv</font>           1341       61385   \n",
       "2  <font color=\"#0066CC\">danielrochatat2</font>            945       50710   \n",
       "3    <font color=\"#0066CC\">chelseahouska</font>            711     1905124   \n",
       "4    <font color=\"#0066CC\">andreaschoice</font>            443      532939   \n",
       "\n",
       "  follows         id cyberaggression cyberbullying  \n",
       "0    6117  649719574               5             5  \n",
       "1     193  649719575               5             3  \n",
       "2    1071  649719576               5             5  \n",
       "3     272  649719577               4             3  \n",
       "4     427  649719578               5             5  \n",
       "\n",
       "[5 rows x 215 columns]"
      ]
     },
     "execution_count": 83,
     "metadata": {},
     "output_type": "execute_result"
    }
   ],
   "source": [
    "df_40.head()"
   ]
  },
  {
   "cell_type": "markdown",
   "metadata": {},
   "source": [
    "---\n",
    "**NOTE**\n",
    "+ *_unit_id* is unique id for every image\n",
    "+ *_trusted_judgments* = Number of trusted annotators\n",
    "+ *question1* = Aggression or not\n",
    "+ *question2* = Bullying or not\n",
    "+ Metadata like shares, like and comments is also present \n",
    "+ Cyberaggression and cyberbullying is the count of how many annotators called it that\n",
    "+ *image_url* can be used for mapping\n",
    "---"
   ]
  },
  {
   "cell_type": "markdown",
   "metadata": {},
   "source": [
    "# Final Dataset"
   ]
  },
  {
   "cell_type": "code",
   "execution_count": 84,
   "metadata": {},
   "outputs": [],
   "source": [
    "final_df = pd.concat([df_0_10[['img_url','question1','question2']],df_10_40[['img_url','question1','question2']],df_40[['img_url','question1','question2']]], ignore_index=True) "
   ]
  },
  {
   "cell_type": "code",
   "execution_count": 85,
   "metadata": {},
   "outputs": [
    {
     "data": {
      "text/html": [
       "<div>\n",
       "<style scoped>\n",
       "    .dataframe tbody tr th:only-of-type {\n",
       "        vertical-align: middle;\n",
       "    }\n",
       "\n",
       "    .dataframe tbody tr th {\n",
       "        vertical-align: top;\n",
       "    }\n",
       "\n",
       "    .dataframe thead th {\n",
       "        text-align: right;\n",
       "    }\n",
       "</style>\n",
       "<table border=\"1\" class=\"dataframe\">\n",
       "  <thead>\n",
       "    <tr style=\"text-align: right;\">\n",
       "      <th></th>\n",
       "      <th>img_url</th>\n",
       "      <th>question1</th>\n",
       "      <th>question2</th>\n",
       "    </tr>\n",
       "  </thead>\n",
       "  <tbody>\n",
       "    <tr>\n",
       "      <th>0</th>\n",
       "      <td>https://scontent.cdninstagram.com/hphotos-xaf1...</td>\n",
       "      <td>noneAgg</td>\n",
       "      <td>noneBll</td>\n",
       "    </tr>\n",
       "    <tr>\n",
       "      <th>1</th>\n",
       "      <td>https://scontent.cdninstagram.com/hphotos-xap1...</td>\n",
       "      <td>noneAgg</td>\n",
       "      <td>noneBll</td>\n",
       "    </tr>\n",
       "    <tr>\n",
       "      <th>2</th>\n",
       "      <td>https://scontent.cdninstagram.com/hphotos-xap1...</td>\n",
       "      <td>noneAgg</td>\n",
       "      <td>noneBll</td>\n",
       "    </tr>\n",
       "    <tr>\n",
       "      <th>3</th>\n",
       "      <td>https://scontent.cdninstagram.com/hphotos-xaf1...</td>\n",
       "      <td>aggression</td>\n",
       "      <td>bullying</td>\n",
       "    </tr>\n",
       "    <tr>\n",
       "      <th>4</th>\n",
       "      <td>https://scontent.cdninstagram.com/hphotos-xap1...</td>\n",
       "      <td>noneAgg</td>\n",
       "      <td>noneBll</td>\n",
       "    </tr>\n",
       "  </tbody>\n",
       "</table>\n",
       "</div>"
      ],
      "text/plain": [
       "                                             img_url   question1 question2\n",
       "0  https://scontent.cdninstagram.com/hphotos-xaf1...     noneAgg   noneBll\n",
       "1  https://scontent.cdninstagram.com/hphotos-xap1...     noneAgg   noneBll\n",
       "2  https://scontent.cdninstagram.com/hphotos-xap1...     noneAgg   noneBll\n",
       "3  https://scontent.cdninstagram.com/hphotos-xaf1...  aggression  bullying\n",
       "4  https://scontent.cdninstagram.com/hphotos-xap1...     noneAgg   noneBll"
      ]
     },
     "execution_count": 85,
     "metadata": {},
     "output_type": "execute_result"
    }
   ],
   "source": [
    "final_df.head()"
   ]
  },
  {
   "cell_type": "code",
   "execution_count": 86,
   "metadata": {},
   "outputs": [],
   "source": [
    "def get_final_label(row):\n",
    "    if row['question1']=='noneAgg' and row['question2']=='noneBll':\n",
    "        return 'normal'\n",
    "    elif row['question1']=='aggression' and row['question2']=='noneBll':\n",
    "        return 'aggression'\n",
    "    else:\n",
    "        return 'bullying'"
   ]
  },
  {
   "cell_type": "code",
   "execution_count": 87,
   "metadata": {},
   "outputs": [],
   "source": [
    "final_df['label'] = final_df.apply (lambda row: get_final_label(row),axis=1)"
   ]
  },
  {
   "cell_type": "code",
   "execution_count": 88,
   "metadata": {},
   "outputs": [
    {
     "data": {
      "text/html": [
       "<div>\n",
       "<style scoped>\n",
       "    .dataframe tbody tr th:only-of-type {\n",
       "        vertical-align: middle;\n",
       "    }\n",
       "\n",
       "    .dataframe tbody tr th {\n",
       "        vertical-align: top;\n",
       "    }\n",
       "\n",
       "    .dataframe thead th {\n",
       "        text-align: right;\n",
       "    }\n",
       "</style>\n",
       "<table border=\"1\" class=\"dataframe\">\n",
       "  <thead>\n",
       "    <tr style=\"text-align: right;\">\n",
       "      <th></th>\n",
       "      <th>img_url</th>\n",
       "      <th>question1</th>\n",
       "      <th>question2</th>\n",
       "      <th>label</th>\n",
       "    </tr>\n",
       "  </thead>\n",
       "  <tbody>\n",
       "    <tr>\n",
       "      <th>0</th>\n",
       "      <td>https://scontent.cdninstagram.com/hphotos-xaf1...</td>\n",
       "      <td>noneAgg</td>\n",
       "      <td>noneBll</td>\n",
       "      <td>normal</td>\n",
       "    </tr>\n",
       "    <tr>\n",
       "      <th>1</th>\n",
       "      <td>https://scontent.cdninstagram.com/hphotos-xap1...</td>\n",
       "      <td>noneAgg</td>\n",
       "      <td>noneBll</td>\n",
       "      <td>normal</td>\n",
       "    </tr>\n",
       "    <tr>\n",
       "      <th>2</th>\n",
       "      <td>https://scontent.cdninstagram.com/hphotos-xap1...</td>\n",
       "      <td>noneAgg</td>\n",
       "      <td>noneBll</td>\n",
       "      <td>normal</td>\n",
       "    </tr>\n",
       "    <tr>\n",
       "      <th>3</th>\n",
       "      <td>https://scontent.cdninstagram.com/hphotos-xaf1...</td>\n",
       "      <td>aggression</td>\n",
       "      <td>bullying</td>\n",
       "      <td>bullying</td>\n",
       "    </tr>\n",
       "    <tr>\n",
       "      <th>4</th>\n",
       "      <td>https://scontent.cdninstagram.com/hphotos-xap1...</td>\n",
       "      <td>noneAgg</td>\n",
       "      <td>noneBll</td>\n",
       "      <td>normal</td>\n",
       "    </tr>\n",
       "  </tbody>\n",
       "</table>\n",
       "</div>"
      ],
      "text/plain": [
       "                                             img_url   question1 question2  \\\n",
       "0  https://scontent.cdninstagram.com/hphotos-xaf1...     noneAgg   noneBll   \n",
       "1  https://scontent.cdninstagram.com/hphotos-xap1...     noneAgg   noneBll   \n",
       "2  https://scontent.cdninstagram.com/hphotos-xap1...     noneAgg   noneBll   \n",
       "3  https://scontent.cdninstagram.com/hphotos-xaf1...  aggression  bullying   \n",
       "4  https://scontent.cdninstagram.com/hphotos-xap1...     noneAgg   noneBll   \n",
       "\n",
       "      label  \n",
       "0    normal  \n",
       "1    normal  \n",
       "2    normal  \n",
       "3  bullying  \n",
       "4    normal  "
      ]
     },
     "execution_count": 88,
     "metadata": {},
     "output_type": "execute_result"
    }
   ],
   "source": [
    "final_df.head()"
   ]
  },
  {
   "cell_type": "markdown",
   "metadata": {},
   "source": [
    "Mapping links with ids"
   ]
  },
  {
   "cell_type": "code",
   "execution_count": 89,
   "metadata": {},
   "outputs": [],
   "source": [
    "image_id_0_10,image_url_0_10 = get_imageid_link_lists('data/instagram_images/namesall_info_media_ids_to_collect_0plus_to_10.txt')\n",
    "image_id_10_40,image_url_10_40 = get_imageid_link_lists('data/instagram_images/namesall_info_media_ids_to_collect_10plus_to_40.txt')\n",
    "image_id_40,image_url_40 = get_imageid_link_lists('data/instagram_images/namesall_info_media_ids_to_collect_40plus.txt')"
   ]
  },
  {
   "cell_type": "code",
   "execution_count": 90,
   "metadata": {},
   "outputs": [],
   "source": [
    "image_ids = image_id_0_10+image_id_10_40+image_id_40\n",
    "image_urls = image_url_0_10+image_url_10_40+image_url_40"
   ]
  },
  {
   "cell_type": "code",
   "execution_count": 91,
   "metadata": {},
   "outputs": [
    {
     "data": {
      "text/plain": [
       "(1921, 1921)"
      ]
     },
     "execution_count": 91,
     "metadata": {},
     "output_type": "execute_result"
    }
   ],
   "source": [
    "len(image_ids),len(image_urls)"
   ]
  },
  {
   "cell_type": "code",
   "execution_count": 92,
   "metadata": {},
   "outputs": [],
   "source": [
    "mapping_dict = dict(zip(image_urls,image_ids))"
   ]
  },
  {
   "cell_type": "code",
   "execution_count": 93,
   "metadata": {},
   "outputs": [],
   "source": [
    "def get_image_name(row):\n",
    "    try:\n",
    "        return mapping_dict[row['img_url'].rstrip()]\n",
    "    except KeyError:\n",
    "        return 0"
   ]
  },
  {
   "cell_type": "code",
   "execution_count": 94,
   "metadata": {},
   "outputs": [],
   "source": [
    "final_df['image_names'] = final_df.apply (lambda row: get_image_name(row),axis=1)"
   ]
  },
  {
   "cell_type": "code",
   "execution_count": 95,
   "metadata": {},
   "outputs": [
    {
     "data": {
      "text/html": [
       "<div>\n",
       "<style scoped>\n",
       "    .dataframe tbody tr th:only-of-type {\n",
       "        vertical-align: middle;\n",
       "    }\n",
       "\n",
       "    .dataframe tbody tr th {\n",
       "        vertical-align: top;\n",
       "    }\n",
       "\n",
       "    .dataframe thead th {\n",
       "        text-align: right;\n",
       "    }\n",
       "</style>\n",
       "<table border=\"1\" class=\"dataframe\">\n",
       "  <thead>\n",
       "    <tr style=\"text-align: right;\">\n",
       "      <th></th>\n",
       "      <th>img_url</th>\n",
       "      <th>question1</th>\n",
       "      <th>question2</th>\n",
       "      <th>label</th>\n",
       "      <th>image_names</th>\n",
       "    </tr>\n",
       "  </thead>\n",
       "  <tbody>\n",
       "    <tr>\n",
       "      <th>2213</th>\n",
       "      <td>http://scontent-b.cdninstagram.com/hphotos-xap...</td>\n",
       "      <td>aggression</td>\n",
       "      <td>noneBll</td>\n",
       "      <td>aggression</td>\n",
       "      <td>0</td>\n",
       "    </tr>\n",
       "    <tr>\n",
       "      <th>2214</th>\n",
       "      <td>http://scontent-b.cdninstagram.com/hphotos-xaf...</td>\n",
       "      <td>noneAgg</td>\n",
       "      <td>noneBll</td>\n",
       "      <td>normal</td>\n",
       "      <td>0</td>\n",
       "    </tr>\n",
       "    <tr>\n",
       "      <th>2215</th>\n",
       "      <td>http://scontent-a.cdninstagram.com/hphotos-xpf...</td>\n",
       "      <td>aggression</td>\n",
       "      <td>noneBll</td>\n",
       "      <td>aggression</td>\n",
       "      <td>0</td>\n",
       "    </tr>\n",
       "    <tr>\n",
       "      <th>2216</th>\n",
       "      <td>http://scontent-b.cdninstagram.com/hphotos-xpf...</td>\n",
       "      <td>aggression</td>\n",
       "      <td>noneBll</td>\n",
       "      <td>aggression</td>\n",
       "      <td>0</td>\n",
       "    </tr>\n",
       "    <tr>\n",
       "      <th>2217</th>\n",
       "      <td>http://scontent-a.cdninstagram.com/hphotos-xpa...</td>\n",
       "      <td>aggression</td>\n",
       "      <td>bullying</td>\n",
       "      <td>bullying</td>\n",
       "      <td>0</td>\n",
       "    </tr>\n",
       "  </tbody>\n",
       "</table>\n",
       "</div>"
      ],
      "text/plain": [
       "                                                img_url   question1 question2  \\\n",
       "2213  http://scontent-b.cdninstagram.com/hphotos-xap...  aggression   noneBll   \n",
       "2214  http://scontent-b.cdninstagram.com/hphotos-xaf...     noneAgg   noneBll   \n",
       "2215  http://scontent-a.cdninstagram.com/hphotos-xpf...  aggression   noneBll   \n",
       "2216  http://scontent-b.cdninstagram.com/hphotos-xpf...  aggression   noneBll   \n",
       "2217  http://scontent-a.cdninstagram.com/hphotos-xpa...  aggression  bullying   \n",
       "\n",
       "           label image_names  \n",
       "2213  aggression           0  \n",
       "2214      normal           0  \n",
       "2215  aggression           0  \n",
       "2216  aggression           0  \n",
       "2217    bullying           0  "
      ]
     },
     "execution_count": 95,
     "metadata": {},
     "output_type": "execute_result"
    }
   ],
   "source": [
    "final_df.tail()"
   ]
  },
  {
   "cell_type": "code",
   "execution_count": 96,
   "metadata": {},
   "outputs": [],
   "source": [
    "temp = final_df['img_url'].tolist()"
   ]
  },
  {
   "cell_type": "code",
   "execution_count": 97,
   "metadata": {},
   "outputs": [],
   "source": [
    "temp = [i.rstrip() for i in temp]"
   ]
  },
  {
   "cell_type": "code",
   "execution_count": 98,
   "metadata": {},
   "outputs": [
    {
     "data": {
      "text/plain": [
       "(2218, 1921)"
      ]
     },
     "execution_count": 98,
     "metadata": {},
     "output_type": "execute_result"
    }
   ],
   "source": [
    "len(temp),len(image_urls)"
   ]
  },
  {
   "cell_type": "code",
   "execution_count": 99,
   "metadata": {},
   "outputs": [
    {
     "data": {
      "text/plain": [
       "(2216, 1921)"
      ]
     },
     "execution_count": 99,
     "metadata": {},
     "output_type": "execute_result"
    }
   ],
   "source": [
    "len(set(temp)),len(set(image_urls))"
   ]
  },
  {
   "cell_type": "code",
   "execution_count": 100,
   "metadata": {},
   "outputs": [
    {
     "data": {
      "text/plain": [
       "138"
      ]
     },
     "execution_count": 100,
     "metadata": {},
     "output_type": "execute_result"
    }
   ],
   "source": [
    "len(set(temp)&set(image_urls))"
   ]
  },
  {
   "cell_type": "markdown",
   "metadata": {},
   "source": [
    "---\n",
    "**NOTE**\n",
    "+ For some reason instagram changes the source location of images over time, a.k.a links can not be used as a key\n",
    "---"
   ]
  },
  {
   "cell_type": "markdown",
   "metadata": {},
   "source": [
    "# #Jugad"
   ]
  },
  {
   "cell_type": "code",
   "execution_count": 101,
   "metadata": {},
   "outputs": [],
   "source": [
    "def fetch_all_media_ids_in_user_info_file(filename):\n",
    "    with open(filename,'r') as reader:\n",
    "        lines = reader.readlines()\n",
    "        \n",
    "    index = [i+1 for i, j in enumerate(lines) if j == 'media ID:\\n']\n",
    "    ids = [lines[i].rstrip() for i in index]\n",
    "    return ids"
   ]
  },
  {
   "cell_type": "code",
   "execution_count": 2,
   "metadata": {},
   "outputs": [],
   "source": [
    "normal_users_filenames = listdir('data/Instagram_normal_users/')\n",
    "normal_users_filenames.remove('README.txt')\n",
    "common_users_filenames=listdir('data/Instagram_common_users/')\n",
    "common_users_filenames.remove('uesrid_common_insta_collected.txt')"
   ]
  },
  {
   "cell_type": "code",
   "execution_count": 103,
   "metadata": {},
   "outputs": [
    {
     "data": {
      "text/plain": [
       "(36, 11)"
      ]
     },
     "execution_count": 103,
     "metadata": {},
     "output_type": "execute_result"
    }
   ],
   "source": [
    "len(normal_users_filenames),len(common_users_filenames)"
   ]
  },
  {
   "cell_type": "code",
   "execution_count": 104,
   "metadata": {},
   "outputs": [],
   "source": [
    "ids_present_in_user_data = []"
   ]
  },
  {
   "cell_type": "code",
   "execution_count": 105,
   "metadata": {},
   "outputs": [],
   "source": [
    "for file in normal_users_filenames:\n",
    "    ids_present_in_user_data.extend(fetch_all_media_ids_in_user_info_file(f'data/Instagram_normal_users/{file}'))"
   ]
  },
  {
   "cell_type": "code",
   "execution_count": 106,
   "metadata": {},
   "outputs": [],
   "source": [
    "for file in common_users_filenames:\n",
    "    ids_present_in_user_data.extend(fetch_all_media_ids_in_user_info_file(f'data/Instagram_common_users/{file}'))"
   ]
  },
  {
   "cell_type": "code",
   "execution_count": 107,
   "metadata": {},
   "outputs": [
    {
     "data": {
      "text/plain": [
       "6274387"
      ]
     },
     "execution_count": 107,
     "metadata": {},
     "output_type": "execute_result"
    }
   ],
   "source": [
    "len(ids_present_in_user_data)"
   ]
  },
  {
   "cell_type": "code",
   "execution_count": 108,
   "metadata": {},
   "outputs": [
    {
     "data": {
      "text/plain": [
       "2263"
      ]
     },
     "execution_count": 108,
     "metadata": {},
     "output_type": "execute_result"
    }
   ],
   "source": [
    "len(all_ids_folder)"
   ]
  },
  {
   "cell_type": "code",
   "execution_count": 109,
   "metadata": {},
   "outputs": [
    {
     "data": {
      "text/plain": [
       "1630"
      ]
     },
     "execution_count": 109,
     "metadata": {},
     "output_type": "execute_result"
    }
   ],
   "source": [
    "len(set(ids_present_in_user_data)&set(all_ids_folder))"
   ]
  },
  {
   "cell_type": "code",
   "execution_count": 110,
   "metadata": {},
   "outputs": [],
   "source": [
    "not_present = list(set(all_ids_folder)-set(ids_present_in_user_data))"
   ]
  },
  {
   "cell_type": "code",
   "execution_count": 111,
   "metadata": {},
   "outputs": [
    {
     "data": {
      "text/plain": [
       "633"
      ]
     },
     "execution_count": 111,
     "metadata": {},
     "output_type": "execute_result"
    }
   ],
   "source": [
    "len(not_present)"
   ]
  },
  {
   "cell_type": "code",
   "execution_count": 112,
   "metadata": {},
   "outputs": [],
   "source": [
    "temp = [i.split('_')[-1] for i in not_present]"
   ]
  },
  {
   "cell_type": "code",
   "execution_count": 113,
   "metadata": {},
   "outputs": [
    {
     "data": {
      "text/plain": [
       "316"
      ]
     },
     "execution_count": 113,
     "metadata": {},
     "output_type": "execute_result"
    }
   ],
   "source": [
    "len(set(temp))"
   ]
  },
  {
   "cell_type": "markdown",
   "metadata": {},
   "source": [
    "## Parsing user datadump "
   ]
  },
  {
   "cell_type": "code",
   "execution_count": 47,
   "metadata": {},
   "outputs": [],
   "source": [
    "def read_user_datadump(filename):\n",
    "    with open(filename,'r') as reader:\n",
    "        lines = reader.readlines()\n",
    "    return lines"
   ]
  },
  {
   "cell_type": "code",
   "execution_count": 48,
   "metadata": {},
   "outputs": [],
   "source": [
    "def get_user_blocks(lines):\n",
    "    user_blocks = []\n",
    "    index_of_user_blocks=[i for i, j in enumerate(lines) if  \"instagram user id:\" in j] \n",
    "    number_of_blocks = len(index_of_user_blocks)\n",
    "    for block_number, block_index in enumerate(index_of_user_blocks):\n",
    "        if (block_number+1)==number_of_blocks:\n",
    "            block_number-=1\n",
    "        user_blocks.append(lines[block_index:index_of_user_blocks[block_number+1]])\n",
    "    return user_blocks"
   ]
  },
  {
   "cell_type": "code",
   "execution_count": 49,
   "metadata": {},
   "outputs": [],
   "source": [
    "def get_username_from_user_block(block):\n",
    "    return block[0][block[0].index(\"user name:\"):].split(':')[-1].strip()"
   ]
  },
  {
   "cell_type": "code",
   "execution_count": 50,
   "metadata": {},
   "outputs": [],
   "source": [
    "def get_media_id_and_comments_tuples(block):\n",
    "    #Puling out all media blocks in user block\n",
    "    index_media_blocks = [i for i, j in enumerate(block) if j == 'media ID:\\n']\n",
    "    number_of_media_blocks = len(index_media_blocks)\n",
    "    media_blocks = []\n",
    "    for block_number, block_index in enumerate(index_media_blocks):\n",
    "        if (block_number+1)==number_of_media_blocks:\n",
    "            block_number-=1\n",
    "        media_blocks.append(block[block_index:index_media_blocks[block_number+1]])\n",
    "    \n",
    "    #making (comment,media_id) for each media block\n",
    "    comment_id_tuples = []\n",
    "    for m_block in media_blocks:\n",
    "        if m_block!=[]:\n",
    "            media_id_block = m_block[1].strip()\n",
    "            comments_index = m_block.index('comments for this media:\\n')\n",
    "            like_index = m_block.index('likes for this media:\\n')\n",
    "            if like_index==comments_index+1:\n",
    "                pass\n",
    "#                 comment_id_tuples.append((None,media_id_block))\n",
    "            else:\n",
    "                comment_lines_index = [i for i in range(comments_index+1,like_index) if \"commentText:\" in m_block[i]]\n",
    "                for i in range(len(comment_lines_index)):\n",
    "                    current_comment_index = comment_lines_index[i]\n",
    "                    if i+1==len(comment_lines_index):\n",
    "                        next_comment_index=like_index\n",
    "                    else:\n",
    "                        next_comment_index = comment_lines_index[i+1]\n",
    "                    \n",
    "                    comment_text = m_block[current_comment_index][m_block[current_comment_index].index('commentText:')+len('commentText:'):].strip()\n",
    "                    \n",
    "                    for i in range(current_comment_index+1,next_comment_index):\n",
    "                        comment_text += m_block[i].strip() \n",
    "                        \n",
    "                    comment_id_tuples.append((comment_text,media_id_block))\n",
    "                \n",
    "#                 for i in range(comments_index+1,like_index):\n",
    "#                     print(m_block[i])\n",
    "#                     comment_text = m_block[i][m_block[i].index('commentText:')+len('commentText:'):].strip()\n",
    "                    \n",
    "    return comment_id_tuples"
   ]
  },
  {
   "cell_type": "code",
   "execution_count": null,
   "metadata": {},
   "outputs": [],
   "source": []
  },
  {
   "cell_type": "code",
   "execution_count": 51,
   "metadata": {},
   "outputs": [],
   "source": [
    "all_files_to_parse = [f'data/Instagram_normal_users/{i}' for i in normal_users_filenames]+ [f'data/Instagram_common_users/{i}' for i in common_users_filenames]"
   ]
  },
  {
   "cell_type": "code",
   "execution_count": 52,
   "metadata": {},
   "outputs": [
    {
     "name": "stdout",
     "output_type": "stream",
     "text": [
      "33/47\n",
      "data/Instagram_normal_users/NormalUserFullInfo8.txt\n"
     ]
    }
   ],
   "source": [
    "total_number_of_files=len(all_files_to_parse)\n",
    "for count,file in enumerate(all_files_to_parse):\n",
    "    username_comment_media_id_dict = dict()\n",
    "    if count==33:\n",
    "        print(f'{count}/{total_number_of_files}')\n",
    "        print(file)\n",
    "        lines = read_user_datadump(file)\n",
    "        user_blocks = [i for i in get_user_blocks(lines) if i!=[]]\n",
    "        for user in user_blocks:\n",
    "            username = get_username_from_user_block(user)\n",
    "            media_id_tuples = get_media_id_and_comments_tuples(user)\n",
    "            temp_dict = dict(media_id_tuples)\n",
    "            if username in username_comment_media_id_dict.keys():\n",
    "                username_comment_media_id_dict[username].update(temp_dict)\n",
    "            else:\n",
    "                username_comment_media_id_dict[username]=temp_dict\n",
    "        with open(f'data/jsons/{count}.json','w') as fp:\n",
    "            json.dump(username_comment_media_id_dict, fp,indent=4)"
   ]
  },
  {
   "cell_type": "markdown",
   "metadata": {},
   "source": [
    "## username to filename mapping"
   ]
  },
  {
   "cell_type": "code",
   "execution_count": 56,
   "metadata": {},
   "outputs": [],
   "source": [
    "number_of_jsons = 1"
   ]
  },
  {
   "cell_type": "code",
   "execution_count": 57,
   "metadata": {},
   "outputs": [],
   "source": [
    "username_file = dict()"
   ]
  },
  {
   "cell_type": "code",
   "execution_count": 59,
   "metadata": {},
   "outputs": [],
   "source": [
    "for i in range(number_of_jsons):\n",
    "    with open(f'data/jsons/{i}.json','r') as reader:\n",
    "        file_dict = json.load(reader)\n",
    "    for user in file_dict.keys():\n",
    "        if user in username_file.keys():\n",
    "            username_file[user].append(i)\n",
    "        else:\n",
    "            username_file[user] = [i]"
   ]
  },
  {
   "cell_type": "code",
   "execution_count": null,
   "metadata": {},
   "outputs": [],
   "source": []
  }
 ],
 "metadata": {
  "kernelspec": {
   "display_name": "Python (nii_project)",
   "language": "python",
   "name": "nii_project"
  },
  "language_info": {
   "codemirror_mode": {
    "name": "ipython",
    "version": 3
   },
   "file_extension": ".py",
   "mimetype": "text/x-python",
   "name": "python",
   "nbconvert_exporter": "python",
   "pygments_lexer": "ipython3",
   "version": "3.6.8"
  }
 },
 "nbformat": 4,
 "nbformat_minor": 2
}
