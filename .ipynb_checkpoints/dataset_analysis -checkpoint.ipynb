{
 "cells": [
  {
   "cell_type": "markdown",
   "metadata": {},
   "source": [
    "## Instagram_images"
   ]
  },
  {
   "cell_type": "code",
   "execution_count": 66,
   "metadata": {},
   "outputs": [],
   "source": [
    "import pandas as pd\n",
    "from os import listdir"
   ]
  },
  {
   "cell_type": "code",
   "execution_count": 2,
   "metadata": {},
   "outputs": [],
   "source": [
    "def get_imageid_link_lists(filename):\n",
    "    df = pd.read_csv(filename, sep=' ',names=['image_id','links'])\n",
    "    return df['image_id'].tolist(),df['links'].tolist()"
   ]
  },
  {
   "cell_type": "code",
   "execution_count": 3,
   "metadata": {},
   "outputs": [],
   "source": [
    "def get_filenames_in_folder(foldername):\n",
    "    return [i.replace('.jpg','') for i in listdir(foldername)]"
   ]
  },
  {
   "cell_type": "code",
   "execution_count": 4,
   "metadata": {},
   "outputs": [],
   "source": [
    "def show_image_id_txt_file_map(filename,foldername):\n",
    "    image_id,links = get_imageid_link_lists(filename)\n",
    "    image_ids_folder = get_filenames_in_folder(foldername)\n",
    "    print(f\"FOLDER = {foldername.split('/')[-2]} and FILE= {filename.split('/')[-1]}\")\n",
    "    print(f\"Total id and links present in txt file are {len(image_id),len(links)}\")\n",
    "    print(f\"Total unique id and links present in txt file are {len(set(image_id)),len(set(links))}\")\n",
    "    print(f\"Total images present in folder {len(image_ids_folder)}\")\n",
    "    print(f\"Total unique images present in folder {len(set(image_ids_folder))}\")\n",
    "    print(f\"Number of images present in both sets {len(set(image_ids_folder)&set(image_id))}\")\n",
    "    print(f\"Number of IDs present in file but not in folder {len(set(image_id)-set(image_ids_folder))}\")\n",
    "    print(f\"Number of IDs present in folder but not in file {len(set(image_ids_folder)-set(image_id))}\")\n",
    "    return image_id,image_ids_folder"
   ]
  },
  {
   "cell_type": "code",
   "execution_count": 5,
   "metadata": {
    "scrolled": true
   },
   "outputs": [
    {
     "name": "stdout",
     "output_type": "stream",
     "text": [
      "FOLDER = images_0_10 and FILE= namesall_info_media_ids_to_collect_0plus_to_10.txt\n",
      "Total id and links present in txt file are (270, 270)\n",
      "Total unique id and links present in txt file are (270, 270)\n",
      "Total images present in folder 276\n",
      "Total unique images present in folder 276\n",
      "Number of images present in both sets 267\n",
      "Number of IDs present in file but not in folder 3\n",
      "Number of IDs present in folder but not in file 9\n"
     ]
    }
   ],
   "source": [
    "image_id_0_10_file,image_id_0_10_folder = show_image_id_txt_file_map('data/instagram_images/namesall_info_media_ids_to_collect_0plus_to_10.txt','data/instagram_images/images_0_10/')"
   ]
  },
  {
   "cell_type": "code",
   "execution_count": 6,
   "metadata": {},
   "outputs": [
    {
     "name": "stdout",
     "output_type": "stream",
     "text": [
      "FOLDER = images_10_40 and FILE= namesall_info_media_ids_to_collect_10plus_to_40.txt\n",
      "Total id and links present in txt file are (835, 835)\n",
      "Total unique id and links present in txt file are (835, 835)\n",
      "Total images present in folder 987\n",
      "Total unique images present in folder 987\n",
      "Number of images present in both sets 831\n",
      "Number of IDs present in file but not in folder 4\n",
      "Number of IDs present in folder but not in file 156\n"
     ]
    }
   ],
   "source": [
    "image_id_10_40_file,image_id_10_40_folder = show_image_id_txt_file_map('data/instagram_images/namesall_info_media_ids_to_collect_10plus_to_40.txt','data/instagram_images/images_10_40/')"
   ]
  },
  {
   "cell_type": "code",
   "execution_count": 7,
   "metadata": {},
   "outputs": [
    {
     "name": "stdout",
     "output_type": "stream",
     "text": [
      "FOLDER =  and FILE= namesall_info_media_ids_to_collect_40plus.txt\n",
      "Total id and links present in txt file are (816, 816)\n",
      "Total unique id and links present in txt file are (816, 816)\n",
      "Total images present in folder 1000\n",
      "Total unique images present in folder 1000\n",
      "Number of images present in both sets 809\n",
      "Number of IDs present in file but not in folder 7\n",
      "Number of IDs present in folder but not in file 191\n"
     ]
    }
   ],
   "source": [
    "image_id_40_plus_file,image_id_40_plus_folder = show_image_id_txt_file_map('data/instagram_images/namesall_info_media_ids_to_collect_40plus.txt','data/instagram_images/images_40plus//')"
   ]
  },
  {
   "cell_type": "code",
   "execution_count": 8,
   "metadata": {},
   "outputs": [],
   "source": [
    "all_ids_file = image_id_0_10_file+image_id_10_40_file+image_id_40_plus_file\n",
    "all_ids_folder = image_id_0_10_folder+image_id_10_40_folder+image_id_40_plus_folder"
   ]
  },
  {
   "cell_type": "code",
   "execution_count": 9,
   "metadata": {},
   "outputs": [
    {
     "name": "stdout",
     "output_type": "stream",
     "text": [
      "Total image ids file 1921\n",
      "Total unique image ids file 1921\n",
      "Total images folder 2263\n",
      "Total unique images folder 2263\n",
      "Number of images present in both sets 1907\n",
      "Number of IDs present in file but not in folder 14\n",
      "Number of IDs present in folder but not in file 356\n"
     ]
    }
   ],
   "source": [
    "print(f\"Total image ids file {len(all_ids_file)}\")\n",
    "print(f\"Total unique image ids file {len(set(all_ids_file))}\")\n",
    "print(f\"Total images folder {len(all_ids_folder)}\")\n",
    "print(f\"Total unique images folder {len((all_ids_folder))}\")\n",
    "\n",
    "print(f\"Number of images present in both sets {len(set(all_ids_file)&set(all_ids_folder))}\")\n",
    "print(f\"Number of IDs present in file but not in folder {len(set(all_ids_file)-set(all_ids_folder))}\")\n",
    "print(f\"Number of IDs present in folder but not in file {len(set(all_ids_folder)-set(all_ids_file))}\")"
   ]
  },
  {
   "cell_type": "markdown",
   "metadata": {},
   "source": [
    "---\n",
    "**NOTE**\n",
    "\n",
    "Looks like that these files are a map between image name (id) and source link.\n",
    "\n",
    "---"
   ]
  },
  {
   "cell_type": "markdown",
   "metadata": {},
   "source": [
    "## Image enities labels"
   ]
  },
  {
   "cell_type": "code",
   "execution_count": 10,
   "metadata": {},
   "outputs": [],
   "source": [
    "def get_links_and_entites(filename):\n",
    "    df = pd.read_csv(filename, sep=',',names=[\"image_id\",\"label_image\"])\n",
    "    return df['image_id'].tolist(),df['label_image'].tolist()"
   ]
  },
  {
   "cell_type": "code",
   "execution_count": 11,
   "metadata": {},
   "outputs": [
    {
     "data": {
      "text/plain": [
       "278"
      ]
     },
     "execution_count": 11,
     "metadata": {},
     "output_type": "execute_result"
    }
   ],
   "source": [
    "links,_ = get_links_and_entites(\"data/Insta_labeled_data/image_labels_0plus_to_10_.csv\")\n",
    "len(links)"
   ]
  },
  {
   "cell_type": "code",
   "execution_count": 12,
   "metadata": {},
   "outputs": [
    {
     "data": {
      "text/plain": [
       "1032"
      ]
     },
     "execution_count": 12,
     "metadata": {},
     "output_type": "execute_result"
    }
   ],
   "source": [
    "links,_ = get_links_and_entites(\"data/Insta_labeled_data/image_labels_10plus_to_40.csv\")\n",
    "len(links)"
   ]
  },
  {
   "cell_type": "code",
   "execution_count": 13,
   "metadata": {},
   "outputs": [
    {
     "data": {
      "text/plain": [
       "953"
      ]
     },
     "execution_count": 13,
     "metadata": {},
     "output_type": "execute_result"
    }
   ],
   "source": [
    "links,_ = get_links_and_entites(\"data/Insta_labeled_data/image_labels_40plus.csv\")\n",
    "len(links)"
   ]
  },
  {
   "cell_type": "markdown",
   "metadata": {},
   "source": [
    "---\n",
    "**NOTE**\n",
    "\n",
    "* Entites label of each image.\n",
    "* Mapping is done using the links.\n",
    "* Answers of multiple annotators are given.\n",
    "---"
   ]
  },
  {
   "cell_type": "markdown",
   "metadata": {},
   "source": [
    "## Labeled images"
   ]
  },
  {
   "cell_type": "code",
   "execution_count": 14,
   "metadata": {},
   "outputs": [
    {
     "data": {
      "text/plain": [
       "(1390, 278)"
      ]
     },
     "execution_count": 14,
     "metadata": {},
     "output_type": "execute_result"
    }
   ],
   "source": [
    "df = pd.read_csv('data/Insta_labeled_data/labeled_0plus_to_10__full.csv', encoding='latin-1')\n",
    "len(df['img_url']),len(set(df['img_url']))"
   ]
  },
  {
   "cell_type": "code",
   "execution_count": 15,
   "metadata": {},
   "outputs": [
    {
     "data": {
      "text/plain": [
       "(5196, 1031)"
      ]
     },
     "execution_count": 15,
     "metadata": {},
     "output_type": "execute_result"
    }
   ],
   "source": [
    "df = pd.read_csv('data/Insta_labeled_data/labeled_10plus_to_40_full.csv', encoding='latin-1')\n",
    "len(df['img_url']),len(set(df['img_url']))"
   ]
  },
  {
   "cell_type": "code",
   "execution_count": 16,
   "metadata": {},
   "outputs": [
    {
     "name": "stderr",
     "output_type": "stream",
     "text": [
      "/home/hitkul/anaconda3/envs/nii_project/lib/python3.6/site-packages/IPython/core/interactiveshell.py:3020: DtypeWarning: Columns (4,216,217) have mixed types. Specify dtype option on import or set low_memory=False.\n",
      "  interactivity=interactivity, compiler=compiler, result=result)\n"
     ]
    },
    {
     "data": {
      "text/plain": [
       "(6104, 935)"
      ]
     },
     "execution_count": 16,
     "metadata": {},
     "output_type": "execute_result"
    }
   ],
   "source": [
    "df = pd.read_csv('data/Insta_labeled_data/labeled_40plus_full.csv', encoding='latin-1')\n",
    "len(df['img_url']),len(set(df['img_url']))"
   ]
  },
  {
   "cell_type": "code",
   "execution_count": 17,
   "metadata": {},
   "outputs": [
    {
     "data": {
      "text/html": [
       "<div>\n",
       "<style scoped>\n",
       "    .dataframe tbody tr th:only-of-type {\n",
       "        vertical-align: middle;\n",
       "    }\n",
       "\n",
       "    .dataframe tbody tr th {\n",
       "        vertical-align: top;\n",
       "    }\n",
       "\n",
       "    .dataframe thead th {\n",
       "        text-align: right;\n",
       "    }\n",
       "</style>\n",
       "<table border=\"1\" class=\"dataframe\">\n",
       "  <thead>\n",
       "    <tr style=\"text-align: right;\">\n",
       "      <th></th>\n",
       "      <th>_unit_id</th>\n",
       "      <th>_created_at</th>\n",
       "      <th>_golden</th>\n",
       "      <th>_id</th>\n",
       "      <th>_missed</th>\n",
       "      <th>_started_at</th>\n",
       "      <th>_tainted</th>\n",
       "      <th>_channel</th>\n",
       "      <th>_trust</th>\n",
       "      <th>_worker_id</th>\n",
       "      <th>...</th>\n",
       "      <th>clmn97</th>\n",
       "      <th>clmn98</th>\n",
       "      <th>clmn99</th>\n",
       "      <th>cptn_time</th>\n",
       "      <th>img_url</th>\n",
       "      <th>likes</th>\n",
       "      <th>owner_cmnt</th>\n",
       "      <th>owner_id</th>\n",
       "      <th>question1_gold</th>\n",
       "      <th>question2_gold</th>\n",
       "    </tr>\n",
       "  </thead>\n",
       "  <tbody>\n",
       "    <tr>\n",
       "      <th>0</th>\n",
       "      <td>649719574</td>\n",
       "      <td>1/17/2015 19:37:16</td>\n",
       "      <td>False</td>\n",
       "      <td>1531470430</td>\n",
       "      <td>NaN</td>\n",
       "      <td>1/17/2015 19:33:34</td>\n",
       "      <td>False</td>\n",
       "      <td>clixsense</td>\n",
       "      <td>1.0000</td>\n",
       "      <td>26831570</td>\n",
       "      <td>...</td>\n",
       "      <td>empety</td>\n",
       "      <td>empety</td>\n",
       "      <td>empety</td>\n",
       "      <td>&lt;font color=\"#0066CC\"&gt;offthis_&lt;/font&gt;   erase ...</td>\n",
       "      <td>http://scontent-b.cdninstagram.com/hphotos-xap...</td>\n",
       "      <td>196 likes</td>\n",
       "      <td>Media posted at 012-02-11 23:04:28</td>\n",
       "      <td>&lt;font color=\"#0066CC\"&gt;nailsfv&lt;/font&gt;</td>\n",
       "      <td>NaN</td>\n",
       "      <td>NaN</td>\n",
       "    </tr>\n",
       "    <tr>\n",
       "      <th>1</th>\n",
       "      <td>649719574</td>\n",
       "      <td>1/17/2015 20:40:57</td>\n",
       "      <td>False</td>\n",
       "      <td>1531507988</td>\n",
       "      <td>NaN</td>\n",
       "      <td>1/17/2015 20:33:40</td>\n",
       "      <td>False</td>\n",
       "      <td>elite</td>\n",
       "      <td>0.9800</td>\n",
       "      <td>30609759</td>\n",
       "      <td>...</td>\n",
       "      <td>empety</td>\n",
       "      <td>empety</td>\n",
       "      <td>empety</td>\n",
       "      <td>&lt;font color=\"#0066CC\"&gt;offthis_&lt;/font&gt;   erase ...</td>\n",
       "      <td>http://scontent-b.cdninstagram.com/hphotos-xap...</td>\n",
       "      <td>196 likes</td>\n",
       "      <td>Media posted at 012-02-11 23:04:28</td>\n",
       "      <td>&lt;font color=\"#0066CC\"&gt;nailsfv&lt;/font&gt;</td>\n",
       "      <td>NaN</td>\n",
       "      <td>NaN</td>\n",
       "    </tr>\n",
       "    <tr>\n",
       "      <th>2</th>\n",
       "      <td>649719574</td>\n",
       "      <td>1/17/2015 21:54:57</td>\n",
       "      <td>False</td>\n",
       "      <td>1531549350</td>\n",
       "      <td>NaN</td>\n",
       "      <td>1/17/2015 21:53:10</td>\n",
       "      <td>False</td>\n",
       "      <td>prodege</td>\n",
       "      <td>0.9200</td>\n",
       "      <td>3696575</td>\n",
       "      <td>...</td>\n",
       "      <td>empety</td>\n",
       "      <td>empety</td>\n",
       "      <td>empety</td>\n",
       "      <td>&lt;font color=\"#0066CC\"&gt;offthis_&lt;/font&gt;   erase ...</td>\n",
       "      <td>http://scontent-b.cdninstagram.com/hphotos-xap...</td>\n",
       "      <td>196 likes</td>\n",
       "      <td>Media posted at 012-02-11 23:04:28</td>\n",
       "      <td>&lt;font color=\"#0066CC\"&gt;nailsfv&lt;/font&gt;</td>\n",
       "      <td>NaN</td>\n",
       "      <td>NaN</td>\n",
       "    </tr>\n",
       "    <tr>\n",
       "      <th>3</th>\n",
       "      <td>649719574</td>\n",
       "      <td>1/18/2015 00:11:28</td>\n",
       "      <td>False</td>\n",
       "      <td>1531628330</td>\n",
       "      <td>NaN</td>\n",
       "      <td>1/18/2015 00:07:23</td>\n",
       "      <td>False</td>\n",
       "      <td>neodev</td>\n",
       "      <td>0.9200</td>\n",
       "      <td>29750518</td>\n",
       "      <td>...</td>\n",
       "      <td>empety</td>\n",
       "      <td>empety</td>\n",
       "      <td>empety</td>\n",
       "      <td>&lt;font color=\"#0066CC\"&gt;offthis_&lt;/font&gt;   erase ...</td>\n",
       "      <td>http://scontent-b.cdninstagram.com/hphotos-xap...</td>\n",
       "      <td>196 likes</td>\n",
       "      <td>Media posted at 012-02-11 23:04:28</td>\n",
       "      <td>&lt;font color=\"#0066CC\"&gt;nailsfv&lt;/font&gt;</td>\n",
       "      <td>NaN</td>\n",
       "      <td>NaN</td>\n",
       "    </tr>\n",
       "    <tr>\n",
       "      <th>4</th>\n",
       "      <td>649719574</td>\n",
       "      <td>1/18/2015 02:21:20</td>\n",
       "      <td>False</td>\n",
       "      <td>1531708189</td>\n",
       "      <td>NaN</td>\n",
       "      <td>1/18/2015 02:16:41</td>\n",
       "      <td>False</td>\n",
       "      <td>clixsense</td>\n",
       "      <td>0.8889</td>\n",
       "      <td>7398771</td>\n",
       "      <td>...</td>\n",
       "      <td>empety</td>\n",
       "      <td>empety</td>\n",
       "      <td>empety</td>\n",
       "      <td>&lt;font color=\"#0066CC\"&gt;offthis_&lt;/font&gt;   erase ...</td>\n",
       "      <td>http://scontent-b.cdninstagram.com/hphotos-xap...</td>\n",
       "      <td>196 likes</td>\n",
       "      <td>Media posted at 012-02-11 23:04:28</td>\n",
       "      <td>&lt;font color=\"#0066CC\"&gt;nailsfv&lt;/font&gt;</td>\n",
       "      <td>NaN</td>\n",
       "      <td>NaN</td>\n",
       "    </tr>\n",
       "  </tbody>\n",
       "</table>\n",
       "<p>5 rows × 218 columns</p>\n",
       "</div>"
      ],
      "text/plain": [
       "    _unit_id         _created_at  _golden         _id _missed  \\\n",
       "0  649719574  1/17/2015 19:37:16    False  1531470430     NaN   \n",
       "1  649719574  1/17/2015 20:40:57    False  1531507988     NaN   \n",
       "2  649719574  1/17/2015 21:54:57    False  1531549350     NaN   \n",
       "3  649719574  1/18/2015 00:11:28    False  1531628330     NaN   \n",
       "4  649719574  1/18/2015 02:21:20    False  1531708189     NaN   \n",
       "\n",
       "          _started_at  _tainted   _channel  _trust  _worker_id      ...        \\\n",
       "0  1/17/2015 19:33:34     False  clixsense  1.0000    26831570      ...         \n",
       "1  1/17/2015 20:33:40     False      elite  0.9800    30609759      ...         \n",
       "2  1/17/2015 21:53:10     False    prodege  0.9200     3696575      ...         \n",
       "3  1/18/2015 00:07:23     False     neodev  0.9200    29750518      ...         \n",
       "4  1/18/2015 02:16:41     False  clixsense  0.8889     7398771      ...         \n",
       "\n",
       "   clmn97  clmn98  clmn99                                          cptn_time  \\\n",
       "0  empety  empety  empety  <font color=\"#0066CC\">offthis_</font>   erase ...   \n",
       "1  empety  empety  empety  <font color=\"#0066CC\">offthis_</font>   erase ...   \n",
       "2  empety  empety  empety  <font color=\"#0066CC\">offthis_</font>   erase ...   \n",
       "3  empety  empety  empety  <font color=\"#0066CC\">offthis_</font>   erase ...   \n",
       "4  empety  empety  empety  <font color=\"#0066CC\">offthis_</font>   erase ...   \n",
       "\n",
       "                                             img_url      likes  \\\n",
       "0  http://scontent-b.cdninstagram.com/hphotos-xap...  196 likes   \n",
       "1  http://scontent-b.cdninstagram.com/hphotos-xap...  196 likes   \n",
       "2  http://scontent-b.cdninstagram.com/hphotos-xap...  196 likes   \n",
       "3  http://scontent-b.cdninstagram.com/hphotos-xap...  196 likes   \n",
       "4  http://scontent-b.cdninstagram.com/hphotos-xap...  196 likes   \n",
       "\n",
       "                           owner_cmnt                                owner_id  \\\n",
       "0  Media posted at 012-02-11 23:04:28  <font color=\"#0066CC\">nailsfv</font>     \n",
       "1  Media posted at 012-02-11 23:04:28  <font color=\"#0066CC\">nailsfv</font>     \n",
       "2  Media posted at 012-02-11 23:04:28  <font color=\"#0066CC\">nailsfv</font>     \n",
       "3  Media posted at 012-02-11 23:04:28  <font color=\"#0066CC\">nailsfv</font>     \n",
       "4  Media posted at 012-02-11 23:04:28  <font color=\"#0066CC\">nailsfv</font>     \n",
       "\n",
       "  question1_gold question2_gold  \n",
       "0            NaN            NaN  \n",
       "1            NaN            NaN  \n",
       "2            NaN            NaN  \n",
       "3            NaN            NaN  \n",
       "4            NaN            NaN  \n",
       "\n",
       "[5 rows x 218 columns]"
      ]
     },
     "execution_count": 17,
     "metadata": {},
     "output_type": "execute_result"
    }
   ],
   "source": [
    "df.head()"
   ]
  },
  {
   "cell_type": "markdown",
   "metadata": {},
   "source": [
    "---\n",
    "**NOTE**\n",
    "+ *_unit_id* - unique id for each image\n",
    "+ Each row is answer of one annotator\n",
    "+ Other information about workers present \n",
    "+ *question1* is Aggression or not Aggrestion\n",
    "+ *question2* is Bullying or Not bullying\n",
    "+ Comments on the image are also given\n",
    "+ Image links used as a key\n",
    "+ Looks like owner comment is the caption\n",
    "---"
   ]
  },
  {
   "cell_type": "markdown",
   "metadata": {},
   "source": [
    "## Session Label"
   ]
  },
  {
   "cell_type": "code",
   "execution_count": 18,
   "metadata": {},
   "outputs": [
    {
     "data": {
      "text/plain": [
       "(278, 278)"
      ]
     },
     "execution_count": 18,
     "metadata": {},
     "output_type": "execute_result"
    }
   ],
   "source": [
    "df_0_10 = pd.read_csv('data/Insta_labeled_data/sessions_0plus_to_10_metadata.csv', encoding='latin-1')\n",
    "len(df_0_10['img_url']),len(set(df_0_10['img_url']))"
   ]
  },
  {
   "cell_type": "code",
   "execution_count": 19,
   "metadata": {},
   "outputs": [
    {
     "data": {
      "text/plain": [
       "(1018, 1017)"
      ]
     },
     "execution_count": 19,
     "metadata": {},
     "output_type": "execute_result"
    }
   ],
   "source": [
    "df_10_40 = pd.read_csv('data/Insta_labeled_data/sessions_10plus_to_40_metadata.csv', encoding='latin-1')\n",
    "len(df_10_40['img_url']),len(set(df_10_40['img_url']))"
   ]
  },
  {
   "cell_type": "code",
   "execution_count": 20,
   "metadata": {},
   "outputs": [
    {
     "data": {
      "text/plain": [
       "(922, 921)"
      ]
     },
     "execution_count": 20,
     "metadata": {},
     "output_type": "execute_result"
    }
   ],
   "source": [
    "df_40 = pd.read_csv('data/Insta_labeled_data/sessions_40plus_metadata.csv', encoding='latin-1')\n",
    "len(df_40['img_url']),len(set(df_40['img_url']))"
   ]
  },
  {
   "cell_type": "code",
   "execution_count": 21,
   "metadata": {},
   "outputs": [
    {
     "data": {
      "text/html": [
       "<div>\n",
       "<style scoped>\n",
       "    .dataframe tbody tr th:only-of-type {\n",
       "        vertical-align: middle;\n",
       "    }\n",
       "\n",
       "    .dataframe tbody tr th {\n",
       "        vertical-align: top;\n",
       "    }\n",
       "\n",
       "    .dataframe thead th {\n",
       "        text-align: right;\n",
       "    }\n",
       "</style>\n",
       "<table border=\"1\" class=\"dataframe\">\n",
       "  <thead>\n",
       "    <tr style=\"text-align: right;\">\n",
       "      <th></th>\n",
       "      <th>_unit_id</th>\n",
       "      <th>_golden</th>\n",
       "      <th>_unit_state</th>\n",
       "      <th>_trusted_judgments</th>\n",
       "      <th>_last_judgment_at</th>\n",
       "      <th>question1</th>\n",
       "      <th>question1:confidence</th>\n",
       "      <th>question2</th>\n",
       "      <th>question2:confidence</th>\n",
       "      <th>clmn1</th>\n",
       "      <th>...</th>\n",
       "      <th>img_url</th>\n",
       "      <th>likes</th>\n",
       "      <th>owner_cmnt</th>\n",
       "      <th>owner_id</th>\n",
       "      <th>shared media</th>\n",
       "      <th>followed_by</th>\n",
       "      <th>follows</th>\n",
       "      <th>id</th>\n",
       "      <th>cyberaggression</th>\n",
       "      <th>cyberbullying</th>\n",
       "    </tr>\n",
       "  </thead>\n",
       "  <tbody>\n",
       "    <tr>\n",
       "      <th>0</th>\n",
       "      <td>649719574</td>\n",
       "      <td>False</td>\n",
       "      <td>finalized</td>\n",
       "      <td>5</td>\n",
       "      <td>1/18/15 2:21</td>\n",
       "      <td>aggression</td>\n",
       "      <td>1.0000</td>\n",
       "      <td>bullying</td>\n",
       "      <td>1.0000</td>\n",
       "      <td>&lt;font color=\"#0066CC\"&gt;margretricee&lt;/font&gt;   Ba...</td>\n",
       "      <td>...</td>\n",
       "      <td>http://scontent-b.cdninstagram.com/hphotos-xap...</td>\n",
       "      <td>196 likes</td>\n",
       "      <td>Media posted at 012-02-11 23:04:28</td>\n",
       "      <td>&lt;font color=\"#0066CC\"&gt;nailsfv&lt;/font&gt;</td>\n",
       "      <td>189</td>\n",
       "      <td>95224</td>\n",
       "      <td>6117</td>\n",
       "      <td>649719574</td>\n",
       "      <td>5</td>\n",
       "      <td>5</td>\n",
       "    </tr>\n",
       "    <tr>\n",
       "      <th>1</th>\n",
       "      <td>649719575</td>\n",
       "      <td>False</td>\n",
       "      <td>finalized</td>\n",
       "      <td>5</td>\n",
       "      <td>1/17/15 7:45</td>\n",
       "      <td>aggression</td>\n",
       "      <td>1.0000</td>\n",
       "      <td>bullying</td>\n",
       "      <td>0.6227</td>\n",
       "      <td>&lt;font color=\"#0066CC\"&gt;mightyzulu&lt;/font&gt;   Damn...</td>\n",
       "      <td>...</td>\n",
       "      <td>http://scontent-a.cdninstagram.com/hphotos-xpa...</td>\n",
       "      <td>570 likes</td>\n",
       "      <td>new bong mac got me</td>\n",
       "      <td>&lt;font color=\"#0066CC\"&gt;treejtv&lt;/font&gt;</td>\n",
       "      <td>1341</td>\n",
       "      <td>61385</td>\n",
       "      <td>193</td>\n",
       "      <td>649719575</td>\n",
       "      <td>5</td>\n",
       "      <td>3</td>\n",
       "    </tr>\n",
       "    <tr>\n",
       "      <th>2</th>\n",
       "      <td>649719576</td>\n",
       "      <td>False</td>\n",
       "      <td>finalized</td>\n",
       "      <td>5</td>\n",
       "      <td>1/17/15 17:15</td>\n",
       "      <td>aggression</td>\n",
       "      <td>1.0000</td>\n",
       "      <td>bullying</td>\n",
       "      <td>1.0000</td>\n",
       "      <td>&lt;font color=\"#0066CC\"&gt;wayne_dizzle818&lt;/font&gt;  ...</td>\n",
       "      <td>...</td>\n",
       "      <td>http://scontent-a.cdninstagram.com/hphotos-xfa...</td>\n",
       "      <td>44 likes</td>\n",
       "      <td>So I find out that I am missing some of my Fu...</td>\n",
       "      <td>&lt;font color=\"#0066CC\"&gt;danielrochatat2&lt;/font&gt;</td>\n",
       "      <td>945</td>\n",
       "      <td>50710</td>\n",
       "      <td>1071</td>\n",
       "      <td>649719576</td>\n",
       "      <td>5</td>\n",
       "      <td>5</td>\n",
       "    </tr>\n",
       "    <tr>\n",
       "      <th>3</th>\n",
       "      <td>649719577</td>\n",
       "      <td>False</td>\n",
       "      <td>finalized</td>\n",
       "      <td>5</td>\n",
       "      <td>1/18/15 3:04</td>\n",
       "      <td>aggression</td>\n",
       "      <td>0.7876</td>\n",
       "      <td>bullying</td>\n",
       "      <td>0.5923</td>\n",
       "      <td>&lt;font color=\"#0066CC\"&gt;samantha_nora&lt;/font&gt;   S...</td>\n",
       "      <td>...</td>\n",
       "      <td>http://scontent-b.cdninstagram.com/hphotos-xpf...</td>\n",
       "      <td>1381 likes</td>\n",
       "      <td>Beautiful &lt;3</td>\n",
       "      <td>&lt;font color=\"#0066CC\"&gt;chelseahouska&lt;/font&gt;</td>\n",
       "      <td>711</td>\n",
       "      <td>1905124</td>\n",
       "      <td>272</td>\n",
       "      <td>649719577</td>\n",
       "      <td>4</td>\n",
       "      <td>3</td>\n",
       "    </tr>\n",
       "    <tr>\n",
       "      <th>4</th>\n",
       "      <td>649719578</td>\n",
       "      <td>False</td>\n",
       "      <td>finalized</td>\n",
       "      <td>5</td>\n",
       "      <td>1/17/15 12:10</td>\n",
       "      <td>aggression</td>\n",
       "      <td>1.0000</td>\n",
       "      <td>bullying</td>\n",
       "      <td>1.0000</td>\n",
       "      <td>&lt;font color=\"#0066CC\"&gt;itsmyrayeraye&lt;/font&gt;   &lt;...</td>\n",
       "      <td>...</td>\n",
       "      <td>http://scontent-b.cdninstagram.com/hphotos-xpf...</td>\n",
       "      <td>1936 likes</td>\n",
       "      <td>Tragedy</td>\n",
       "      <td>&lt;font color=\"#0066CC\"&gt;andreaschoice&lt;/font&gt;</td>\n",
       "      <td>443</td>\n",
       "      <td>532939</td>\n",
       "      <td>427</td>\n",
       "      <td>649719578</td>\n",
       "      <td>5</td>\n",
       "      <td>5</td>\n",
       "    </tr>\n",
       "  </tbody>\n",
       "</table>\n",
       "<p>5 rows × 215 columns</p>\n",
       "</div>"
      ],
      "text/plain": [
       "    _unit_id  _golden _unit_state  _trusted_judgments _last_judgment_at  \\\n",
       "0  649719574    False   finalized                   5      1/18/15 2:21   \n",
       "1  649719575    False   finalized                   5      1/17/15 7:45   \n",
       "2  649719576    False   finalized                   5     1/17/15 17:15   \n",
       "3  649719577    False   finalized                   5      1/18/15 3:04   \n",
       "4  649719578    False   finalized                   5     1/17/15 12:10   \n",
       "\n",
       "    question1  question1:confidence question2  question2:confidence  \\\n",
       "0  aggression                1.0000  bullying                1.0000   \n",
       "1  aggression                1.0000  bullying                0.6227   \n",
       "2  aggression                1.0000  bullying                1.0000   \n",
       "3  aggression                0.7876  bullying                0.5923   \n",
       "4  aggression                1.0000  bullying                1.0000   \n",
       "\n",
       "                                               clmn1      ...       \\\n",
       "0  <font color=\"#0066CC\">margretricee</font>   Ba...      ...        \n",
       "1  <font color=\"#0066CC\">mightyzulu</font>   Damn...      ...        \n",
       "2  <font color=\"#0066CC\">wayne_dizzle818</font>  ...      ...        \n",
       "3  <font color=\"#0066CC\">samantha_nora</font>   S...      ...        \n",
       "4  <font color=\"#0066CC\">itsmyrayeraye</font>   <...      ...        \n",
       "\n",
       "                                             img_url       likes  \\\n",
       "0  http://scontent-b.cdninstagram.com/hphotos-xap...   196 likes   \n",
       "1  http://scontent-a.cdninstagram.com/hphotos-xpa...   570 likes   \n",
       "2  http://scontent-a.cdninstagram.com/hphotos-xfa...    44 likes   \n",
       "3  http://scontent-b.cdninstagram.com/hphotos-xpf...  1381 likes   \n",
       "4  http://scontent-b.cdninstagram.com/hphotos-xpf...  1936 likes   \n",
       "\n",
       "                                          owner_cmnt  \\\n",
       "0                 Media posted at 012-02-11 23:04:28   \n",
       "1                                new bong mac got me   \n",
       "2   So I find out that I am missing some of my Fu...   \n",
       "3                                       Beautiful <3   \n",
       "4                                            Tragedy   \n",
       "\n",
       "                                         owner_id shared media followed_by  \\\n",
       "0          <font color=\"#0066CC\">nailsfv</font>            189       95224   \n",
       "1          <font color=\"#0066CC\">treejtv</font>           1341       61385   \n",
       "2  <font color=\"#0066CC\">danielrochatat2</font>            945       50710   \n",
       "3    <font color=\"#0066CC\">chelseahouska</font>            711     1905124   \n",
       "4    <font color=\"#0066CC\">andreaschoice</font>            443      532939   \n",
       "\n",
       "  follows         id cyberaggression cyberbullying  \n",
       "0    6117  649719574               5             5  \n",
       "1     193  649719575               5             3  \n",
       "2    1071  649719576               5             5  \n",
       "3     272  649719577               4             3  \n",
       "4     427  649719578               5             5  \n",
       "\n",
       "[5 rows x 215 columns]"
      ]
     },
     "execution_count": 21,
     "metadata": {},
     "output_type": "execute_result"
    }
   ],
   "source": [
    "df_40.head()"
   ]
  },
  {
   "cell_type": "markdown",
   "metadata": {},
   "source": [
    "---\n",
    "**NOTE**\n",
    "+ *_unit_id* is unique id for every image\n",
    "+ *_trusted_judgments* = Number of trusted annotators\n",
    "+ *question1* = Aggression or not\n",
    "+ *question2* = Bullying or not\n",
    "+ Metadata like shares, like and comments is also present \n",
    "+ Cyberaggression and cyberbullying is the count of how many annotators called it that\n",
    "+ *image_url* can be used for mapping\n",
    "---"
   ]
  },
  {
   "cell_type": "markdown",
   "metadata": {},
   "source": [
    "# Final Dataset"
   ]
  },
  {
   "cell_type": "code",
   "execution_count": 22,
   "metadata": {},
   "outputs": [],
   "source": [
    "final_df = pd.concat([df_0_10[['img_url','question1','question2']],df_10_40[['img_url','question1','question2']],df_40[['img_url','question1','question2']]], ignore_index=True) "
   ]
  },
  {
   "cell_type": "code",
   "execution_count": 23,
   "metadata": {},
   "outputs": [
    {
     "data": {
      "text/html": [
       "<div>\n",
       "<style scoped>\n",
       "    .dataframe tbody tr th:only-of-type {\n",
       "        vertical-align: middle;\n",
       "    }\n",
       "\n",
       "    .dataframe tbody tr th {\n",
       "        vertical-align: top;\n",
       "    }\n",
       "\n",
       "    .dataframe thead th {\n",
       "        text-align: right;\n",
       "    }\n",
       "</style>\n",
       "<table border=\"1\" class=\"dataframe\">\n",
       "  <thead>\n",
       "    <tr style=\"text-align: right;\">\n",
       "      <th></th>\n",
       "      <th>img_url</th>\n",
       "      <th>question1</th>\n",
       "      <th>question2</th>\n",
       "    </tr>\n",
       "  </thead>\n",
       "  <tbody>\n",
       "    <tr>\n",
       "      <th>0</th>\n",
       "      <td>https://scontent.cdninstagram.com/hphotos-xaf1...</td>\n",
       "      <td>noneAgg</td>\n",
       "      <td>noneBll</td>\n",
       "    </tr>\n",
       "    <tr>\n",
       "      <th>1</th>\n",
       "      <td>https://scontent.cdninstagram.com/hphotos-xap1...</td>\n",
       "      <td>noneAgg</td>\n",
       "      <td>noneBll</td>\n",
       "    </tr>\n",
       "    <tr>\n",
       "      <th>2</th>\n",
       "      <td>https://scontent.cdninstagram.com/hphotos-xap1...</td>\n",
       "      <td>noneAgg</td>\n",
       "      <td>noneBll</td>\n",
       "    </tr>\n",
       "    <tr>\n",
       "      <th>3</th>\n",
       "      <td>https://scontent.cdninstagram.com/hphotos-xaf1...</td>\n",
       "      <td>aggression</td>\n",
       "      <td>bullying</td>\n",
       "    </tr>\n",
       "    <tr>\n",
       "      <th>4</th>\n",
       "      <td>https://scontent.cdninstagram.com/hphotos-xap1...</td>\n",
       "      <td>noneAgg</td>\n",
       "      <td>noneBll</td>\n",
       "    </tr>\n",
       "  </tbody>\n",
       "</table>\n",
       "</div>"
      ],
      "text/plain": [
       "                                             img_url   question1 question2\n",
       "0  https://scontent.cdninstagram.com/hphotos-xaf1...     noneAgg   noneBll\n",
       "1  https://scontent.cdninstagram.com/hphotos-xap1...     noneAgg   noneBll\n",
       "2  https://scontent.cdninstagram.com/hphotos-xap1...     noneAgg   noneBll\n",
       "3  https://scontent.cdninstagram.com/hphotos-xaf1...  aggression  bullying\n",
       "4  https://scontent.cdninstagram.com/hphotos-xap1...     noneAgg   noneBll"
      ]
     },
     "execution_count": 23,
     "metadata": {},
     "output_type": "execute_result"
    }
   ],
   "source": [
    "final_df.head()"
   ]
  },
  {
   "cell_type": "code",
   "execution_count": 24,
   "metadata": {},
   "outputs": [],
   "source": [
    "def get_final_label(row):\n",
    "    if row['question1']=='noneAgg' and row['question2']=='noneBll':\n",
    "        return 'normal'\n",
    "    elif row['question1']=='aggression' and row['question2']=='noneBll':\n",
    "        return 'aggression'\n",
    "    else:\n",
    "        return 'bullying'"
   ]
  },
  {
   "cell_type": "code",
   "execution_count": 25,
   "metadata": {},
   "outputs": [],
   "source": [
    "final_df['label'] = final_df.apply (lambda row: get_final_label(row),axis=1)"
   ]
  },
  {
   "cell_type": "code",
   "execution_count": 26,
   "metadata": {},
   "outputs": [
    {
     "data": {
      "text/html": [
       "<div>\n",
       "<style scoped>\n",
       "    .dataframe tbody tr th:only-of-type {\n",
       "        vertical-align: middle;\n",
       "    }\n",
       "\n",
       "    .dataframe tbody tr th {\n",
       "        vertical-align: top;\n",
       "    }\n",
       "\n",
       "    .dataframe thead th {\n",
       "        text-align: right;\n",
       "    }\n",
       "</style>\n",
       "<table border=\"1\" class=\"dataframe\">\n",
       "  <thead>\n",
       "    <tr style=\"text-align: right;\">\n",
       "      <th></th>\n",
       "      <th>img_url</th>\n",
       "      <th>question1</th>\n",
       "      <th>question2</th>\n",
       "      <th>label</th>\n",
       "    </tr>\n",
       "  </thead>\n",
       "  <tbody>\n",
       "    <tr>\n",
       "      <th>0</th>\n",
       "      <td>https://scontent.cdninstagram.com/hphotos-xaf1...</td>\n",
       "      <td>noneAgg</td>\n",
       "      <td>noneBll</td>\n",
       "      <td>normal</td>\n",
       "    </tr>\n",
       "    <tr>\n",
       "      <th>1</th>\n",
       "      <td>https://scontent.cdninstagram.com/hphotos-xap1...</td>\n",
       "      <td>noneAgg</td>\n",
       "      <td>noneBll</td>\n",
       "      <td>normal</td>\n",
       "    </tr>\n",
       "    <tr>\n",
       "      <th>2</th>\n",
       "      <td>https://scontent.cdninstagram.com/hphotos-xap1...</td>\n",
       "      <td>noneAgg</td>\n",
       "      <td>noneBll</td>\n",
       "      <td>normal</td>\n",
       "    </tr>\n",
       "    <tr>\n",
       "      <th>3</th>\n",
       "      <td>https://scontent.cdninstagram.com/hphotos-xaf1...</td>\n",
       "      <td>aggression</td>\n",
       "      <td>bullying</td>\n",
       "      <td>bullying</td>\n",
       "    </tr>\n",
       "    <tr>\n",
       "      <th>4</th>\n",
       "      <td>https://scontent.cdninstagram.com/hphotos-xap1...</td>\n",
       "      <td>noneAgg</td>\n",
       "      <td>noneBll</td>\n",
       "      <td>normal</td>\n",
       "    </tr>\n",
       "  </tbody>\n",
       "</table>\n",
       "</div>"
      ],
      "text/plain": [
       "                                             img_url   question1 question2  \\\n",
       "0  https://scontent.cdninstagram.com/hphotos-xaf1...     noneAgg   noneBll   \n",
       "1  https://scontent.cdninstagram.com/hphotos-xap1...     noneAgg   noneBll   \n",
       "2  https://scontent.cdninstagram.com/hphotos-xap1...     noneAgg   noneBll   \n",
       "3  https://scontent.cdninstagram.com/hphotos-xaf1...  aggression  bullying   \n",
       "4  https://scontent.cdninstagram.com/hphotos-xap1...     noneAgg   noneBll   \n",
       "\n",
       "      label  \n",
       "0    normal  \n",
       "1    normal  \n",
       "2    normal  \n",
       "3  bullying  \n",
       "4    normal  "
      ]
     },
     "execution_count": 26,
     "metadata": {},
     "output_type": "execute_result"
    }
   ],
   "source": [
    "final_df.head()"
   ]
  },
  {
   "cell_type": "markdown",
   "metadata": {},
   "source": [
    "Mapping links with ids"
   ]
  },
  {
   "cell_type": "code",
   "execution_count": 48,
   "metadata": {},
   "outputs": [],
   "source": [
    "image_id_0_10,image_url_0_10 = get_imageid_link_lists('data/instagram_images/namesall_info_media_ids_to_collect_0plus_to_10.txt')\n",
    "image_id_10_40,image_url_10_40 = get_imageid_link_lists('data/instagram_images/namesall_info_media_ids_to_collect_10plus_to_40.txt')\n",
    "image_id_40,image_url_40 = get_imageid_link_lists('data/instagram_images/namesall_info_media_ids_to_collect_40plus.txt')"
   ]
  },
  {
   "cell_type": "code",
   "execution_count": 49,
   "metadata": {},
   "outputs": [],
   "source": [
    "image_ids = image_id_0_10+image_id_10_40+image_id_40\n",
    "image_urls = image_url_0_10+image_url_10_40+image_url_40"
   ]
  },
  {
   "cell_type": "code",
   "execution_count": 50,
   "metadata": {},
   "outputs": [
    {
     "data": {
      "text/plain": [
       "(1921, 1921)"
      ]
     },
     "execution_count": 50,
     "metadata": {},
     "output_type": "execute_result"
    }
   ],
   "source": [
    "len(image_ids),len(image_urls)"
   ]
  },
  {
   "cell_type": "code",
   "execution_count": 51,
   "metadata": {},
   "outputs": [],
   "source": [
    "mapping_dict = dict(zip(image_urls,image_ids))"
   ]
  },
  {
   "cell_type": "code",
   "execution_count": 52,
   "metadata": {},
   "outputs": [],
   "source": [
    "def get_image_name(row):\n",
    "    try:\n",
    "        return mapping_dict[row['img_url'].rstrip()]\n",
    "    except KeyError:\n",
    "        return 0"
   ]
  },
  {
   "cell_type": "code",
   "execution_count": 54,
   "metadata": {},
   "outputs": [],
   "source": [
    "final_df['image_names'] = final_df.apply (lambda row: get_image_name(row),axis=1)"
   ]
  },
  {
   "cell_type": "code",
   "execution_count": 55,
   "metadata": {},
   "outputs": [
    {
     "data": {
      "text/html": [
       "<div>\n",
       "<style scoped>\n",
       "    .dataframe tbody tr th:only-of-type {\n",
       "        vertical-align: middle;\n",
       "    }\n",
       "\n",
       "    .dataframe tbody tr th {\n",
       "        vertical-align: top;\n",
       "    }\n",
       "\n",
       "    .dataframe thead th {\n",
       "        text-align: right;\n",
       "    }\n",
       "</style>\n",
       "<table border=\"1\" class=\"dataframe\">\n",
       "  <thead>\n",
       "    <tr style=\"text-align: right;\">\n",
       "      <th></th>\n",
       "      <th>img_url</th>\n",
       "      <th>question1</th>\n",
       "      <th>question2</th>\n",
       "      <th>label</th>\n",
       "      <th>image_names</th>\n",
       "    </tr>\n",
       "  </thead>\n",
       "  <tbody>\n",
       "    <tr>\n",
       "      <th>2213</th>\n",
       "      <td>http://scontent-b.cdninstagram.com/hphotos-xap...</td>\n",
       "      <td>aggression</td>\n",
       "      <td>noneBll</td>\n",
       "      <td>aggression</td>\n",
       "      <td>0</td>\n",
       "    </tr>\n",
       "    <tr>\n",
       "      <th>2214</th>\n",
       "      <td>http://scontent-b.cdninstagram.com/hphotos-xaf...</td>\n",
       "      <td>noneAgg</td>\n",
       "      <td>noneBll</td>\n",
       "      <td>normal</td>\n",
       "      <td>0</td>\n",
       "    </tr>\n",
       "    <tr>\n",
       "      <th>2215</th>\n",
       "      <td>http://scontent-a.cdninstagram.com/hphotos-xpf...</td>\n",
       "      <td>aggression</td>\n",
       "      <td>noneBll</td>\n",
       "      <td>aggression</td>\n",
       "      <td>0</td>\n",
       "    </tr>\n",
       "    <tr>\n",
       "      <th>2216</th>\n",
       "      <td>http://scontent-b.cdninstagram.com/hphotos-xpf...</td>\n",
       "      <td>aggression</td>\n",
       "      <td>noneBll</td>\n",
       "      <td>aggression</td>\n",
       "      <td>0</td>\n",
       "    </tr>\n",
       "    <tr>\n",
       "      <th>2217</th>\n",
       "      <td>http://scontent-a.cdninstagram.com/hphotos-xpa...</td>\n",
       "      <td>aggression</td>\n",
       "      <td>bullying</td>\n",
       "      <td>bullying</td>\n",
       "      <td>0</td>\n",
       "    </tr>\n",
       "  </tbody>\n",
       "</table>\n",
       "</div>"
      ],
      "text/plain": [
       "                                                img_url   question1 question2  \\\n",
       "2213  http://scontent-b.cdninstagram.com/hphotos-xap...  aggression   noneBll   \n",
       "2214  http://scontent-b.cdninstagram.com/hphotos-xaf...     noneAgg   noneBll   \n",
       "2215  http://scontent-a.cdninstagram.com/hphotos-xpf...  aggression   noneBll   \n",
       "2216  http://scontent-b.cdninstagram.com/hphotos-xpf...  aggression   noneBll   \n",
       "2217  http://scontent-a.cdninstagram.com/hphotos-xpa...  aggression  bullying   \n",
       "\n",
       "           label image_names  \n",
       "2213  aggression           0  \n",
       "2214      normal           0  \n",
       "2215  aggression           0  \n",
       "2216  aggression           0  \n",
       "2217    bullying           0  "
      ]
     },
     "execution_count": 55,
     "metadata": {},
     "output_type": "execute_result"
    }
   ],
   "source": [
    "final_df.tail()"
   ]
  },
  {
   "cell_type": "code",
   "execution_count": 34,
   "metadata": {},
   "outputs": [],
   "source": [
    "temp = final_df['img_url'].tolist()"
   ]
  },
  {
   "cell_type": "code",
   "execution_count": 35,
   "metadata": {},
   "outputs": [],
   "source": [
    "temp = [i.rstrip() for i in temp]"
   ]
  },
  {
   "cell_type": "code",
   "execution_count": 36,
   "metadata": {},
   "outputs": [
    {
     "data": {
      "text/plain": [
       "(2218, 1921)"
      ]
     },
     "execution_count": 36,
     "metadata": {},
     "output_type": "execute_result"
    }
   ],
   "source": [
    "len(temp),len(image_urls)"
   ]
  },
  {
   "cell_type": "code",
   "execution_count": 37,
   "metadata": {},
   "outputs": [
    {
     "data": {
      "text/plain": [
       "(2216, 1921)"
      ]
     },
     "execution_count": 37,
     "metadata": {},
     "output_type": "execute_result"
    }
   ],
   "source": [
    "len(set(temp)),len(set(image_urls))"
   ]
  },
  {
   "cell_type": "code",
   "execution_count": 38,
   "metadata": {},
   "outputs": [
    {
     "data": {
      "text/plain": [
       "138"
      ]
     },
     "execution_count": 38,
     "metadata": {},
     "output_type": "execute_result"
    }
   ],
   "source": [
    "len(set(temp)&set(image_urls))"
   ]
  },
  {
   "cell_type": "markdown",
   "metadata": {},
   "source": [
    "---\n",
    "**NOTE**\n",
    "+ For some reason instagram changes the source location of images over time, a.k.a links can not be used as a key\n",
    "---"
   ]
  },
  {
   "cell_type": "markdown",
   "metadata": {},
   "source": [
    "# #Jugad"
   ]
  },
  {
   "cell_type": "code",
   "execution_count": 95,
   "metadata": {},
   "outputs": [],
   "source": [
    "def fetch_all_media_ids_in_user_info_file(filename):\n",
    "    with open(filename,'r') as reader:\n",
    "        lines = reader.readlines()\n",
    "        \n",
    "    index = [i+1 for i, j in enumerate(lines) if j == 'media ID:\\n']\n",
    "    ids = [lines[i].rstrip() for i in index]\n",
    "    return ids"
   ]
  },
  {
   "cell_type": "code",
   "execution_count": 97,
   "metadata": {},
   "outputs": [],
   "source": [
    "normal_users_filenames = listdir('data/Instagram_normal_users/')\n",
    "normal_users_filenames.remove('README.txt')\n",
    "common_users_filenames=listdir('data/Instagram_common_users/')\n",
    "common_users_filenames.remove('uesrid_common_insta_collected.txt')"
   ]
  },
  {
   "cell_type": "code",
   "execution_count": 99,
   "metadata": {},
   "outputs": [
    {
     "data": {
      "text/plain": [
       "(36, 11)"
      ]
     },
     "execution_count": 99,
     "metadata": {},
     "output_type": "execute_result"
    }
   ],
   "source": [
    "len(normal_users_filenames),len(common_users_filenames)"
   ]
  },
  {
   "cell_type": "code",
   "execution_count": 100,
   "metadata": {},
   "outputs": [],
   "source": [
    "ids_present_in_user_data = []"
   ]
  },
  {
   "cell_type": "code",
   "execution_count": 101,
   "metadata": {},
   "outputs": [],
   "source": [
    "for file in normal_users_filenames:\n",
    "    ids_present_in_user_data.extend(fetch_all_media_ids_in_user_info_file(f'data/Instagram_normal_users/{file}'))"
   ]
  },
  {
   "cell_type": "code",
   "execution_count": 103,
   "metadata": {},
   "outputs": [],
   "source": [
    "for file in common_users_filenames:\n",
    "    ids_present_in_user_data.extend(fetch_all_media_ids_in_user_info_file(f'data/Instagram_common_users/{file}'))"
   ]
  },
  {
   "cell_type": "code",
   "execution_count": 104,
   "metadata": {},
   "outputs": [
    {
     "data": {
      "text/plain": [
       "6274387"
      ]
     },
     "execution_count": 104,
     "metadata": {},
     "output_type": "execute_result"
    }
   ],
   "source": [
    "len(ids_present_in_user_data)"
   ]
  },
  {
   "cell_type": "code",
   "execution_count": 106,
   "metadata": {},
   "outputs": [
    {
     "data": {
      "text/plain": [
       "2263"
      ]
     },
     "execution_count": 106,
     "metadata": {},
     "output_type": "execute_result"
    }
   ],
   "source": [
    "len(all_ids_folder)"
   ]
  },
  {
   "cell_type": "code",
   "execution_count": 113,
   "metadata": {},
   "outputs": [
    {
     "data": {
      "text/plain": [
       "1630"
      ]
     },
     "execution_count": 113,
     "metadata": {},
     "output_type": "execute_result"
    }
   ],
   "source": [
    "len(set(ids_present_in_user_data)&set(all_ids_folder))"
   ]
  },
  {
   "cell_type": "code",
   "execution_count": 117,
   "metadata": {},
   "outputs": [],
   "source": [
    "not_present = list(set(all_ids_folder)-set(ids_present_in_user_data))"
   ]
  },
  {
   "cell_type": "code",
   "execution_count": 118,
   "metadata": {},
   "outputs": [
    {
     "data": {
      "text/plain": [
       "633"
      ]
     },
     "execution_count": 118,
     "metadata": {},
     "output_type": "execute_result"
    }
   ],
   "source": [
    "len(not_present)"
   ]
  },
  {
   "cell_type": "code",
   "execution_count": 119,
   "metadata": {},
   "outputs": [],
   "source": [
    "temp = [i.split('_')[-1] for i in not_present]"
   ]
  },
  {
   "cell_type": "code",
   "execution_count": 121,
   "metadata": {},
   "outputs": [
    {
     "data": {
      "text/plain": [
       "316"
      ]
     },
     "execution_count": 121,
     "metadata": {},
     "output_type": "execute_result"
    }
   ],
   "source": [
    "len(set(temp))"
   ]
  },
  {
   "cell_type": "code",
   "execution_count": 122,
   "metadata": {},
   "outputs": [
    {
     "data": {
      "text/plain": [
       "{'10043804',\n",
       " '1008677068',\n",
       " '10100062',\n",
       " '1022861993',\n",
       " '1026310220',\n",
       " '1033908985',\n",
       " '1033951968',\n",
       " '1067166668',\n",
       " '1067346088',\n",
       " '1100940930',\n",
       " '1102895596',\n",
       " '11222529',\n",
       " '1125593136',\n",
       " '11291488',\n",
       " '11448371',\n",
       " '1151018625',\n",
       " '11643925',\n",
       " '1164559810',\n",
       " '1181405708',\n",
       " '11855496',\n",
       " '1202114770',\n",
       " '12270015',\n",
       " '12565394',\n",
       " '1267823805',\n",
       " '12821725',\n",
       " '12894805',\n",
       " '13007544',\n",
       " '13185479',\n",
       " '1320207',\n",
       " '1352367975',\n",
       " '14084024',\n",
       " '143796148',\n",
       " '14418256',\n",
       " '144508177',\n",
       " '145312309',\n",
       " '1520952',\n",
       " '15598805',\n",
       " '15907104',\n",
       " '16926557',\n",
       " '17099932',\n",
       " '174779091',\n",
       " '175193370',\n",
       " '177936839',\n",
       " '177988703',\n",
       " '178059332',\n",
       " '179332253',\n",
       " '180259204',\n",
       " '181360417',\n",
       " '18415847',\n",
       " '184595688',\n",
       " '18537308',\n",
       " '186478686',\n",
       " '187036957',\n",
       " '187061924',\n",
       " '187156765',\n",
       " '187303809',\n",
       " '18930333',\n",
       " '190723161',\n",
       " '19076577',\n",
       " '190959845',\n",
       " '191104148',\n",
       " '191525500',\n",
       " '19190987',\n",
       " '192052729',\n",
       " '192130560',\n",
       " '19259281',\n",
       " '192866151',\n",
       " '1930141',\n",
       " '194908318',\n",
       " '195778804',\n",
       " '19596899',\n",
       " '196483509',\n",
       " '196509701',\n",
       " '196999980',\n",
       " '19746054',\n",
       " '198317956',\n",
       " '198850174',\n",
       " '199929779',\n",
       " '200589905',\n",
       " '201295889',\n",
       " '201583216',\n",
       " '20352627',\n",
       " '204718973',\n",
       " '204950126',\n",
       " '205593757',\n",
       " '206111709',\n",
       " '206853046',\n",
       " '211705279',\n",
       " '21174442',\n",
       " '214159471',\n",
       " '21486140',\n",
       " '215590552',\n",
       " '215707036',\n",
       " '216269339',\n",
       " '217494385',\n",
       " '21816927',\n",
       " '21846697',\n",
       " '219446724',\n",
       " '219809360',\n",
       " '219976938',\n",
       " '22352754',\n",
       " '223744017',\n",
       " '224554292',\n",
       " '224596902',\n",
       " '225053305',\n",
       " '227332418',\n",
       " '228019489',\n",
       " '22833619',\n",
       " '231432514',\n",
       " '231774335',\n",
       " '233375429',\n",
       " '233930305',\n",
       " '234536157',\n",
       " '23678829',\n",
       " '239305028',\n",
       " '239914344',\n",
       " '241897660',\n",
       " '242673275',\n",
       " '243598255',\n",
       " '24599245',\n",
       " '246137553',\n",
       " '246781192',\n",
       " '247029401',\n",
       " '247428369',\n",
       " '24782360',\n",
       " '250560101',\n",
       " '251910126',\n",
       " '252207783',\n",
       " '2543712',\n",
       " '254461640',\n",
       " '254867655',\n",
       " '255437707',\n",
       " '258424194',\n",
       " '260831020',\n",
       " '261419143',\n",
       " '262076516',\n",
       " '262996077',\n",
       " '26393455',\n",
       " '26403957',\n",
       " '264222175',\n",
       " '26523689',\n",
       " '265712718',\n",
       " '266134801',\n",
       " '26730131',\n",
       " '268492534',\n",
       " '270483046',\n",
       " '272278975',\n",
       " '2729638',\n",
       " '274235060',\n",
       " '274431339',\n",
       " '274968808',\n",
       " '277775564',\n",
       " '27839672',\n",
       " '278743633',\n",
       " '27879728',\n",
       " '279516543',\n",
       " '280335574',\n",
       " '281553190',\n",
       " '281608207',\n",
       " '282644356',\n",
       " '286701567',\n",
       " '28776742',\n",
       " '288429001',\n",
       " '28880436',\n",
       " '289623854',\n",
       " '290298089',\n",
       " '29031199',\n",
       " '290326786',\n",
       " '2917859',\n",
       " '291813467',\n",
       " '293518499',\n",
       " '293567978',\n",
       " '2950782',\n",
       " '295718566',\n",
       " '296615604',\n",
       " '29885646',\n",
       " '299682011',\n",
       " '302699335',\n",
       " '303056523',\n",
       " '303915313',\n",
       " '304255750',\n",
       " '304378943',\n",
       " '305200948',\n",
       " '305439090',\n",
       " '30649919',\n",
       " '3075518',\n",
       " '308157641',\n",
       " '30844342',\n",
       " '308446765',\n",
       " '30854128',\n",
       " '310106549',\n",
       " '310125717',\n",
       " '31043764',\n",
       " '310860789',\n",
       " '3126653',\n",
       " '317078814',\n",
       " '318607777',\n",
       " '31894755',\n",
       " '319550212',\n",
       " '322094085',\n",
       " '323490878',\n",
       " '323658884',\n",
       " '324840655',\n",
       " '325289507',\n",
       " '325781254',\n",
       " '32711267',\n",
       " '32739792',\n",
       " '330222852',\n",
       " '3315342',\n",
       " '33295969',\n",
       " '336484244',\n",
       " '336947133',\n",
       " '340519440',\n",
       " '348462071',\n",
       " '351942435',\n",
       " '355113196',\n",
       " '35544585',\n",
       " '360082707',\n",
       " '361643173',\n",
       " '363923273',\n",
       " '364200757',\n",
       " '36525625',\n",
       " '3695255',\n",
       " '369868881',\n",
       " '369969189',\n",
       " '370047368',\n",
       " '37810814',\n",
       " '3798515',\n",
       " '384455331',\n",
       " '385797516',\n",
       " '38807141',\n",
       " '38887322',\n",
       " '408208153',\n",
       " '411371778',\n",
       " '412399065',\n",
       " '415262249',\n",
       " '41527760',\n",
       " '418206232',\n",
       " '4185611',\n",
       " '420334100',\n",
       " '427171142',\n",
       " '42783204',\n",
       " '433785245',\n",
       " '437460585',\n",
       " '44343234',\n",
       " '447960101',\n",
       " '448168313',\n",
       " '461263724',\n",
       " '466476660',\n",
       " '46760934',\n",
       " '468858678',\n",
       " '473080860',\n",
       " '478279737',\n",
       " '478629501',\n",
       " '479480384',\n",
       " '481480194',\n",
       " '482513593',\n",
       " '482809544',\n",
       " '48349201',\n",
       " '483826011',\n",
       " '488281295',\n",
       " '489822195',\n",
       " '491527077',\n",
       " '497978680',\n",
       " '50054944',\n",
       " '503393079',\n",
       " '50556481',\n",
       " '51584796',\n",
       " '525188939',\n",
       " '530054512',\n",
       " '53207095',\n",
       " '5340271',\n",
       " '536536811',\n",
       " '5393230',\n",
       " '545771267',\n",
       " '54962795',\n",
       " '571786728',\n",
       " '573333168',\n",
       " '573475450',\n",
       " '578870309',\n",
       " '583234693',\n",
       " '5981789',\n",
       " '612797693',\n",
       " '622765401',\n",
       " '631996112',\n",
       " '636755075',\n",
       " '6399588',\n",
       " '640309887',\n",
       " '644520812',\n",
       " '6642336',\n",
       " '6971054',\n",
       " '7077714',\n",
       " '712250757',\n",
       " '748404317',\n",
       " '7604835',\n",
       " '7694507',\n",
       " '778628452',\n",
       " '7947681',\n",
       " '805170460',\n",
       " '818031805',\n",
       " '842669541',\n",
       " '845116475',\n",
       " '861089798',\n",
       " '8704377',\n",
       " '872466375',\n",
       " '875023875',\n",
       " '917784093',\n",
       " '917960992',\n",
       " '923947843',\n",
       " '924233369',\n",
       " '9318231',\n",
       " '9360836',\n",
       " '936644852',\n",
       " '953088231',\n",
       " '985335519',\n",
       " '995818551'}"
      ]
     },
     "execution_count": 122,
     "metadata": {},
     "output_type": "execute_result"
    }
   ],
   "source": [
    "set(temp)"
   ]
  },
  {
   "cell_type": "markdown",
   "metadata": {},
   "source": [
    "# Parsing user datadump "
   ]
  },
  {
   "cell_type": "code",
   "execution_count": 1,
   "metadata": {},
   "outputs": [],
   "source": [
    "def read_user_datadump(filename):\n",
    "    with open(filename,'r') as reader:\n",
    "        lines = reader.readlines()\n",
    "    return lines"
   ]
  },
  {
   "cell_type": "code",
   "execution_count": 17,
   "metadata": {},
   "outputs": [],
   "source": [
    "def get_user_blocks(lines):\n",
    "    user_blocks = []\n",
    "    index_of_user_blocks=[i for i, j in enumerate(lines) if  \"instagram user id\" in j] \n",
    "    number_of_blocks = len(index_of_user_blocks)\n",
    "    for block_number, block_index in enumerate(index_of_user_blocks):\n",
    "        if (block_number+1)==number_of_blocks:\n",
    "            block_number-=1\n",
    "        user_blocks.append(lines[block_index:index_of_user_blocks[block_number+1]])\n",
    "    return user_blocks"
   ]
  },
  {
   "cell_type": "code",
   "execution_count": 26,
   "metadata": {},
   "outputs": [],
   "source": [
    "def get_username_from_user_block(block):\n",
    "    return block[0][block[0].index(\"user name:\"):].split(':')[-1].strip()"
   ]
  },
  {
   "cell_type": "code",
   "execution_count": 33,
   "metadata": {},
   "outputs": [],
   "source": [
    "def get_media_id_and_comments_tuples(block):\n",
    "    #Puling out all media blocks in user block\n",
    "    index_media_blocks = [i for i, j in enumerate(block) if j == 'media ID:\\n']\n",
    "    number_of_media_blocks = len(index_media_blocks)\n",
    "    media_blocks = []\n",
    "    for block_number, block_index in enumerate(index_media_blocks):\n",
    "        if (block_number+1)==number_of_media_blocks:\n",
    "            block_number-=1\n",
    "        media_blocks.append(block[block_index:index_media_blocks[block_number+1]])\n",
    "    \n",
    "    #making (comment,media_id) for each media block\n",
    "    comment_id_tuples = []\n",
    "    for m_block in media_blocks:\n",
    "        print(m_block)\n",
    "        media_id_block = m_block[1].strip()\n",
    "        comments_index = 2\n",
    "        like_index = m_block.index('likes for this media:\\n')\n",
    "        if like_index==3:\n",
    "            comment_id_tuples.append((None,media_id_block))\n",
    "        else:\n",
    "            for i in range(comments_index+1,like_index):\n",
    "                comment_text = m_block[i][m_block[i].index('commentText:')+len('commentText:'):].strip()\n",
    "                comment_id_tuples.append((comment_text,media_id_block))\n",
    "    return comment_id_tuples"
   ]
  },
  {
   "cell_type": "code",
   "execution_count": 6,
   "metadata": {},
   "outputs": [],
   "source": [
    "lines = read_user_datadump('data/Instagram_common_users/CommonUserFullInfo1.txt')"
   ]
  },
  {
   "cell_type": "code",
   "execution_count": 13,
   "metadata": {},
   "outputs": [],
   "source": [
    "user_blocks = get_user_blocks(lines)"
   ]
  },
  {
   "cell_type": "code",
   "execution_count": 34,
   "metadata": {},
   "outputs": [
    {
     "name": "stdout",
     "output_type": "stream",
     "text": [
      "['media ID:\\n', '740842568435649197_610866553\\n', 'comments for this media:\\n', 'likes for this media:\\n', 'userID:631035420 username:mohamedjimmyxdii\\n', 'userID:360730032 username:melkazak\\n']\n",
      "['media ID:\\n', '739964160717638460_610866553\\n', 'comments for this media:\\n', 'likes for this media:\\n', 'userID:518422348 username:duchannes_95\\n', 'userID:458864123 username:loayezzat\\n']\n",
      "['media ID:\\n', '737181002498591707_610866553\\n', 'comments for this media:\\n', 'likes for this media:\\n', 'userID:518422348 username:duchannes_95\\n', 'userID:465085473 username:mennanassem\\n', 'userID:458864123 username:loayezzat\\n', 'userID:438863181 username:omarsayedah\\n', 'userID:6851215 username:sandytejada\\n']\n",
      "['media ID:\\n', '736086644865124975_610866553\\n', 'comments for this media:\\n', 'likes for this media:\\n', 'userID:1377669666 username:jack_adel\\n', 'userID:1374739574 username:uyaa_esam\\n', 'userID:910455499 username:f6omiialghanim\\n', 'userID:718141468 username:hussienshawky\\n', 'userID:266710172 username:mostafazeid\\n', 'userID:458864123 username:loayezzat\\n']\n",
      "['media ID:\\n', '734296275139709870_610866553\\n', 'comments for this media:\\n', 'likes for this media:\\n', 'userID:518422348 username:duchannes_95\\n', 'userID:465085473 username:mennanassem\\n', 'userID:199152329 username:cvrpe__noctem\\n', 'userID:1277664612 username:_awk0starbuckss\\n', 'userID:221920049 username:tylerwilsoon\\n']\n",
      "['media ID:\\n', '729120493987711027_610866553\\n', 'comments for this media:\\n', 'likes for this media:\\n', 'userID:458864123 username:loayezzat\\n', 'userID:465085473 username:mennanassem\\n', 'userID:186615497 username:domifoto\\n', 'userID:415664286 username:nofoound\\n', 'userID:1198765872 username:musicsaveslives19\\n']\n",
      "['media ID:\\n', '728374270976608984_610866553\\n', 'comments for this media:\\n', 'likes for this media:\\n', 'userID:1377669666 username:jack_adel\\n', 'userID:1374739574 username:uyaa_esam\\n', 'userID:1298437323 username:ahmedko_ki\\n', 'userID:709606613 username:marwan3ess\\n', 'userID:465085473 username:mennanassem\\n', 'userID:722573878 username:amrabdellatif\\n', 'userID:266710172 username:mostafazeid\\n', 'userID:458864123 username:loayezzat\\n', 'userID:1339329945 username:alaa_ramadan_xd\\n']\n",
      "['media ID:\\n', '727322105617075010_610866553\\n', 'comments for this media:\\n', 'likes for this media:\\n', 'userID:518422348 username:duchannes_95\\n', 'userID:202373775 username:sp268abey\\n', 'userID:692522299 username:noghhan\\n', 'userID:376017646 username:shahoudy98\\n', 'userID:1168389669 username:nouranramadan6\\n']\n",
      "['media ID:\\n', '726777334683158806_610866553\\n', 'comments for this media:\\n', 'likes for this media:\\n', 'userID:266710172 username:mostafazeid\\n', 'userID:458864123 username:loayezzat\\n']\n",
      "['media ID:\\n', '726292274615961934_610866553\\n', 'comments for this media:\\n', 'likes for this media:\\n', 'userID:518422348 username:duchannes_95\\n', 'userID:1107662377 username:reemmahroos\\n', 'userID:332947012 username:7akimo\\n', 'userID:458864123 username:loayezzat\\n']\n",
      "['media ID:\\n', '724605262028622727_610866553\\n', 'comments for this media:\\n', 'userID:1298437323 username:ahmedko_ki commentText:Hwa t2reban kDa m3ndho4 3en\\n', 'likes for this media:\\n', 'userID:1298437323 username:ahmedko_ki\\n', 'userID:266710172 username:mostafazeid\\n', 'userID:458864123 username:loayezzat\\n', 'userID:465085473 username:mennanassem\\n']\n",
      "['media ID:\\n', '723847064665475491_610866553\\n', 'comments for this media:\\n', 'likes for this media:\\n', 'userID:1331455589 username:heshamazkoul102\\n', 'userID:266710172 username:mostafazeid\\n', 'userID:1298437323 username:ahmedko_ki\\n', 'userID:458864123 username:loayezzat\\n', 'userID:833705960 username:emeldamhn\\n', 'userID:718141468 username:hussienshawky\\n', 'userID:1277527490 username:sosoftihi\\n']\n",
      "['media ID:\\n', '723715868472133963_610866553\\n', 'comments for this media:\\n', 'likes for this media:\\n', 'userID:1331455589 username:heshamazkoul102\\n', 'userID:266710172 username:mostafazeid\\n', 'userID:1197536124 username:nouramahmoud1\\n', 'userID:718141468 username:hussienshawky\\n', 'userID:1277527490 username:sosoftihi\\n', 'userID:465085473 username:mennanassem\\n', 'userID:372649423 username:official_altheagail\\n', 'userID:1332578373 username:mufasa__drain\\n', 'userID:1050408665 username:nerea_mm6\\n']\n",
      "['media ID:\\n', '723397444940352160_610866553\\n', 'comments for this media:\\n', 'likes for this media:\\n', 'userID:1331455589 username:heshamazkoul102\\n', 'userID:1277527490 username:sosoftihi\\n', 'userID:465085473 username:mennanassem\\n', 'userID:266710172 username:mostafazeid\\n', 'userID:458864123 username:loayezzat\\n', 'userID:360730032 username:melkazak\\n', 'userID:276922600 username:_conniconnita\\n', 'userID:410619686 username:netta_levy1\\n', 'userID:1114890067 username:funimate\\n']\n",
      "['media ID:\\n', '701439405278644725_610866553\\n', 'comments for this media:\\n', 'likes for this media:\\n', 'userID:718141468 username:hussienshawky\\n', 'userID:383238638 username:ahmadossoss\\n']\n",
      "['media ID:\\n', '700184522537847102_610866553\\n', 'comments for this media:\\n', 'likes for this media:\\n', 'userID:266710172 username:mostafazeid\\n', 'userID:718141468 username:hussienshawky\\n', 'userID:465085473 username:mennanassem\\n', 'userID:326763055 username:exotiic12\\n', 'userID:725241495 username:habibaalaa28\\n']\n",
      "['media ID:\\n', '700178988589926582_610866553\\n', 'comments for this media:\\n', 'userID:718141468 username:hussienshawky commentText:Bale* xD\\n', 'userID:610866553 username:muhmedesam commentText:Yabni mna 3arf bass Na b7b azwed fl 7roof :D xD\\n', 'likes for this media:\\n', 'userID:266710172 username:mostafazeid\\n', 'userID:718141468 username:hussienshawky\\n', 'userID:465085473 username:mennanassem\\n', 'userID:598672071 username:truesicklife\\n']\n",
      "['media ID:\\n', '699435504937486466_610866553\\n', 'comments for this media:\\n', 'likes for this media:\\n', 'userID:935989210 username:delicia_sun\\n', 'userID:266710172 username:mostafazeid\\n', 'userID:718141468 username:hussienshawky\\n', 'userID:458864123 username:loayezzat\\n']\n",
      "['media ID:\\n', '699125065842182916_610866553\\n', 'comments for this media:\\n', 'userID:266710172 username:mostafazeid commentText:Hahahahaha sawarak to7fa yabny wallahy :D\\n', 'userID:610866553 username:muhmedesam commentText:@mostafazeid Tlmezkk ;)\\n', 'likes for this media:\\n', 'userID:722573878 username:amrabdellatif\\n', 'userID:718141468 username:hussienshawky\\n', 'userID:266710172 username:mostafazeid\\n', 'userID:465085473 username:mennanassem\\n', 'userID:458864123 username:loayezzat\\n']\n",
      "['media ID:\\n', '697349154931231709_610866553\\n', 'comments for this media:\\n', 'likes for this media:\\n', 'userID:631035420 username:mohamedjimmyxdii\\n', 'userID:465085473 username:mennanassem\\n']\n",
      "['media ID:\\n', '694447957740112648_610866553\\n', 'comments for this media:\\n', 'likes for this media:\\n', 'userID:383238638 username:ahmadossoss\\n']\n",
      "['media ID:\\n', '694160781806684981_610866553\\n', 'comments for this media:\\n', 'likes for this media:\\n', 'userID:518422348 username:duchannes_95\\n', 'userID:1166455807 username:moustafaahmed12764\\n', 'userID:477084413 username:abdelhameedsabra\\n', 'userID:718141468 username:hussienshawky\\n', 'userID:458864123 username:loayezzat\\n', 'userID:743093196 username:os_zikas_do_insta\\n', 'userID:722573878 username:amrabdellatif\\n', 'userID:1054028888 username:mustafa_108\\n', 'userID:585951754 username:michellegreinke\\n', 'userID:285490549 username:chest.brah\\n']\n",
      "['media ID:\\n', '692914500207659202_610866553\\n', 'comments for this media:\\n', 'likes for this media:\\n', 'userID:518422348 username:duchannes_95\\n', 'userID:458864123 username:loayezzat\\n', 'userID:771491312 username:verlenefah\\n', 'userID:1054028888 username:mustafa_108\\n']\n",
      "['media ID:\\n', '691476242235935060_610866553\\n', 'comments for this media:\\n', 'likes for this media:\\n', 'userID:725241495 username:habibaalaa28\\n', 'userID:266710172 username:mostafazeid\\n', 'userID:465085473 username:mennanassem\\n']\n",
      "['media ID:\\n', '689971105390676443_610866553\\n', 'comments for this media:\\n', 'likes for this media:\\n', 'userID:518422348 username:duchannes_95\\n', 'userID:718141468 username:hussienshawky\\n', 'userID:266710172 username:mostafazeid\\n', 'userID:1054028888 username:mustafa_108\\n']\n",
      "['media ID:\\n', '689221538638481713_610866553\\n', 'comments for this media:\\n', 'likes for this media:\\n', 'userID:360730032 username:melkazak\\n', 'userID:631035420 username:mohamedjimmyxdii\\n', 'userID:1054028888 username:mustafa_108\\n']\n",
      "['media ID:\\n', '688663300985604933_610866553\\n', 'comments for this media:\\n', 'likes for this media:\\n', 'userID:266710172 username:mostafazeid\\n', 'userID:1054028888 username:mustafa_108\\n']\n",
      "['media ID:\\n', '688563070659218277_610866553\\n', 'comments for this media:\\n', 'userID:360730032 username:melkazak commentText:Esam w marawan :-D etlameto 3la b3d ezai :-P\\n', 'userID:610866553 username:muhmedesam commentText:القدر :D\\n', 'likes for this media:\\n', 'userID:1102338937 username:raniimwaleed\\n', 'userID:465085473 username:mennanassem\\n', 'userID:266710172 username:mostafazeid\\n', 'userID:1054028888 username:mustafa_108\\n', 'userID:360730032 username:melkazak\\n', 'userID:567705183 username:marwantarrek\\n', 'userID:458864123 username:loayezzat\\n']\n",
      "['media ID:\\n', '687558413015075084_610866553\\n', 'comments for this media:\\n', 'likes for this media:\\n', 'userID:1054028888 username:mustafa_108\\n']\n",
      "['media ID:\\n', '684885953895483801_610866553\\n', 'comments for this media:\\n', 'likes for this media:\\n', 'userID:266710172 username:mostafazeid\\n', 'userID:255565448 username:yiliababy_yu\\n', 'userID:498174600 username:tagsforlikespro\\n', 'userID:1078980026 username:boden365\\n', 'userID:259143383 username:essiixoxo\\n', 'userID:271988579 username:sequoianb\\n']\n",
      "['media ID:\\n', '684172334434110155_610866553\\n', 'comments for this media:\\n', \"userID:465085473 username:mennanassem commentText:3amlt l kol dol Remove? :o da enta wa7d motfr3' b2a :v\\n\", 'userID:610866553 username:muhmedesam commentText:Wa7d 3aml nfso bayzakr mastnya mno eh xD\\n', 'likes for this media:\\n', 'userID:1054028888 username:mustafa_108\\n']\n",
      "['media ID:\\n', '683942714761824374_610866553\\n', 'comments for this media:\\n', 'userID:465085473 username:mennanassem commentText:7asb t3mly :v *aked msh 7at3ml ya3ny O:)*\\n', 'userID:610866553 username:muhmedesam commentText:@mennanassem haaa3 :v\\n', 'likes for this media:\\n', 'userID:1166455807 username:moustafaahmed12764\\n', 'userID:1054028888 username:mustafa_108\\n', 'userID:465085473 username:mennanassem\\n']\n",
      "['media ID:\\n', '682048056637016511_610866553\\n', 'comments for this media:\\n', 'likes for this media:\\n', 'userID:518422348 username:duchannes_95\\n', 'userID:332947012 username:7akimo\\n', 'userID:383238638 username:ahmadossoss\\n', 'userID:458864123 username:loayezzat\\n', 'userID:1054028888 username:mustafa_108\\n']\n",
      "['media ID:\\n', '679801908891241140_610866553\\n', 'comments for this media:\\n', 'likes for this media:\\n', 'userID:465085473 username:mennanassem\\n', 'userID:383238638 username:ahmadossoss\\n', 'userID:1054028888 username:mustafa_108\\n']\n",
      "['media ID:\\n', '678082735932721328_610866553\\n', 'comments for this media:\\n', 'likes for this media:\\n', 'userID:718141468 username:hussienshawky\\n', 'userID:383238638 username:ahmadossoss\\n', 'userID:266710172 username:mostafazeid\\n', 'userID:631035420 username:mohamedjimmyxdii\\n', 'userID:1054028888 username:mustafa_108\\n']\n",
      "['media ID:\\n', '676271737638767044_610866553\\n', 'comments for this media:\\n', 'likes for this media:\\n', 'userID:1166099024 username:essam_eltorky\\n', 'userID:383238638 username:ahmadossoss\\n', 'userID:1054028888 username:mustafa_108\\n']\n",
      "['media ID:\\n', '675478991189592252_610866553\\n', 'comments for this media:\\n', 'likes for this media:\\n', 'userID:518422348 username:duchannes_95\\n', 'userID:1166455807 username:moustafaahmed12764\\n', 'userID:266710172 username:mostafazeid\\n', 'userID:383238638 username:ahmadossoss\\n', 'userID:1054028888 username:mustafa_108\\n']\n",
      "['media ID:\\n', '674037630775085916_610866553\\n', 'comments for this media:\\n', 'likes for this media:\\n', 'userID:465085473 username:mennanassem\\n', 'userID:757395320 username:ahmadalladin\\n', 'userID:709606613 username:marwan3ess\\n', 'userID:266710172 username:mostafazeid\\n', 'userID:383238638 username:ahmadossoss\\n', 'userID:438863181 username:omarsayedah\\n', 'userID:1054028888 username:mustafa_108\\n']\n",
      "['media ID:\\n', '672664354047936895_610866553\\n', 'comments for this media:\\n', 'likes for this media:\\n', 'userID:612042855 username:ahmed_hesham394\\n', 'userID:383238638 username:ahmadossoss\\n', 'userID:438863181 username:omarsayedah\\n', 'userID:1054028888 username:mustafa_108\\n']\n",
      "['media ID:\\n', '672511445922499056_610866553\\n', 'comments for this media:\\n', 'likes for this media:\\n', 'userID:266710172 username:mostafazeid\\n', 'userID:438863181 username:omarsayedah\\n', 'userID:1054028888 username:mustafa_108\\n']\n",
      "['media ID:\\n', '671747133725493567_610866553\\n', 'comments for this media:\\n', 'likes for this media:\\n', 'userID:1114374375 username:yasminmohamed23\\n', 'userID:266710172 username:mostafazeid\\n', 'userID:458864123 username:loayezzat\\n', 'userID:722573878 username:amrabdellatif\\n', 'userID:1054028888 username:mustafa_108\\n']\n",
      "['media ID:\\n', '671162093681527172_610866553\\n', 'comments for this media:\\n', 'likes for this media:\\n', 'userID:1166455807 username:moustafaahmed12764\\n', 'userID:458864123 username:loayezzat\\n', 'userID:1054028888 username:mustafa_108\\n']\n",
      "['media ID:\\n', '671141386394291101_610866553\\n', 'comments for this media:\\n', 'likes for this media:\\n', 'userID:383238638 username:ahmadossoss\\n', 'userID:757395320 username:ahmadalladin\\n', 'userID:458864123 username:loayezzat\\n', 'userID:1054028888 username:mustafa_108\\n']\n",
      "['media ID:\\n', '667530587968915894_610866553\\n', 'comments for this media:\\n', 'likes for this media:\\n', 'userID:266710172 username:mostafazeid\\n', 'userID:718141468 username:hussienshawky\\n', 'userID:1091692477 username:tarekmohamed98\\n', 'userID:725241495 username:habibaalaa28\\n', 'userID:757395320 username:ahmadalladin\\n']\n",
      "['media ID:\\n', '666497048808802771_610866553\\n', 'comments for this media:\\n', 'likes for this media:\\n', 'userID:612042855 username:ahmed_hesham394\\n', 'userID:757395320 username:ahmadalladin\\n', 'userID:1054028888 username:mustafa_108\\n', 'userID:438863181 username:omarsayedah\\n']\n",
      "['media ID:\\n', '666495899192019392_610866553\\n', 'comments for this media:\\n', 'userID:421642475 username:gott_97 commentText:Nice Picture! Please Follow me and like all my pics!  I will follow back! Make a Shoutout for me and i will do some for u(: #followforfollow #shoutout4shoutout\\n', 'likes for this media:\\n', 'userID:1054028888 username:mustafa_108\\n', 'userID:438863181 username:omarsayedah\\n', 'userID:725241495 username:habibaalaa28\\n', 'userID:211155911 username:staples_dancer\\n', 'userID:421642475 username:gott_97\\n']\n",
      "['media ID:\\n', '666493263550106005_610866553\\n', 'comments for this media:\\n', 'likes for this media:\\n', 'userID:718141468 username:hussienshawky\\n', 'userID:1054028888 username:mustafa_108\\n', 'userID:438863181 username:omarsayedah\\n']\n",
      "['media ID:\\n', '658905798467406726_610866553\\n', 'comments for this media:\\n', 'likes for this media:\\n', 'userID:1054028888 username:mustafa_108\\n', 'userID:718141468 username:hussienshawky\\n', 'userID:631035420 username:mohamedjimmyxdii\\n', 'userID:477084413 username:abdelhameedsabra\\n', 'userID:438863181 username:omarsayedah\\n']\n",
      "['media ID:\\n', '654678487316580909_610866553\\n', 'comments for this media:\\n', 'likes for this media:\\n', 'userID:1054028888 username:mustafa_108\\n', 'userID:266710172 username:mostafazeid\\n', 'userID:1091692477 username:tarekmohamed98\\n']\n",
      "['media ID:\\n', '654676709107845635_610866553\\n', 'comments for this media:\\n', 'userID:679241773 username:thex0nlyx7oss commentText:kolna al-ragel al-wra 7sen shw2y xD\\n', 'userID:718141468 username:hussienshawky commentText:@thex0nlyx7oss  xDD\\n', 'likes for this media:\\n', 'userID:612042855 username:ahmed_hesham394\\n', 'userID:1054028888 username:mustafa_108\\n', 'userID:458864123 username:loayezzat\\n', 'userID:567705183 username:marwantarrek\\n', 'userID:266710172 username:mostafazeid\\n', 'userID:718141468 username:hussienshawky\\n', 'userID:426488112 username:miguelromerocaro\\n', 'userID:522807986 username:andreabungard_\\n', 'userID:757395320 username:ahmadalladin\\n', 'userID:986952072 username:evanizakknigge\\n', 'userID:31113147 username:youngzo_eom\\n']\n",
      "['media ID:\\n', '642894763302341567_610866553\\n', 'comments for this media:\\n', 'likes for this media:\\n', 'userID:1054028888 username:mustafa_108\\n', 'userID:803416252 username:nukeperformanceofsweden\\n', 'userID:633086152 username:nukeperformance\\n', 'userID:631035420 username:mohamedjimmyxdii\\n', 'userID:266710172 username:mostafazeid\\n', 'userID:718141468 username:hussienshawky\\n', 'userID:22259734 username:jordanandersonracing\\n', 'userID:18245050 username:fleshfuck\\n', 'userID:19781444 username:sthlm08drift\\n']\n",
      "['media ID:\\n', '641414320002451820_610866553\\n', 'comments for this media:\\n', 'likes for this media:\\n', 'userID:1054028888 username:mustafa_108\\n', 'userID:757395320 username:ahmadalladin\\n', 'userID:718141468 username:hussienshawky\\n', 'userID:266710172 username:mostafazeid\\n']\n",
      "['media ID:\\n', '640022642351950202_610866553\\n', 'comments for this media:\\n', 'userID:230843967 username:kareem_97x commentText:😂😂😂👍\\n', 'likes for this media:\\n', 'userID:1367837 username:yourlittlewildchild\\n', 'userID:1029689856 username:makeupbyemileemae\\n', 'userID:1054028888 username:mustafa_108\\n', 'userID:230843967 username:kareem_97x\\n', 'userID:567705183 username:marwantarrek\\n', 'userID:360730032 username:melkazak\\n', 'userID:49652401 username:jeangustavee\\n', 'userID:588540452 username:mohamedmamdouh97\\n', 'userID:458864123 username:loayezzat\\n', 'userID:631035420 username:mohamedjimmyxdii\\n', 'userID:718141468 username:hussienshawky\\n', 'userID:266710172 username:mostafazeid\\n', 'userID:244061147 username:youknowitspaul\\n', 'userID:225192094 username:el_anthonyg\\n', 'userID:214956668 username:aynnasanna04\\n', 'userID:31966195 username:virqibianti\\n', 'userID:255203638 username:_laurynmariee\\n']\n",
      "['media ID:\\n', '640020850587224401_610866553\\n', 'comments for this media:\\n', 'likes for this media:\\n', 'userID:1054028888 username:mustafa_108\\n', 'userID:567705183 username:marwantarrek\\n', 'userID:631035420 username:mohamedjimmyxdii\\n', 'userID:718141468 username:hussienshawky\\n', 'userID:266710172 username:mostafazeid\\n']\n",
      "['media ID:\\n', '639222666516515638_610866553\\n', 'comments for this media:\\n', 'userID:718141468 username:hussienshawky commentText::D :D\\n', 'likes for this media:\\n', 'userID:1054028888 username:mustafa_108\\n', 'userID:477084413 username:abdelhameedsabra\\n', 'userID:718141468 username:hussienshawky\\n', 'userID:709606613 username:marwan3ess\\n', 'userID:725241495 username:habibaalaa28\\n', 'userID:631035420 username:mohamedjimmyxdii\\n']\n",
      "['media ID:\\n', '631949221843978710_610866553\\n', 'comments for this media:\\n', 'likes for this media:\\n', 'userID:1114374375 username:yasminmohamed23\\n', 'userID:1367837 username:yourlittlewildchild\\n', 'userID:1029689856 username:makeupbyemileemae\\n', 'userID:1054028888 username:mustafa_108\\n', 'userID:458864123 username:loayezzat\\n', 'userID:709606613 username:marwan3ess\\n', 'userID:718141468 username:hussienshawky\\n', 'userID:497156634 username:valex_tinaf\\n', 'userID:281517257 username:rayybean\\n', 'userID:187357543 username:gabrielsiq\\n', 'userID:970937607 username:its_sacha_\\n', 'userID:295156282 username:_migijacob\\n']\n",
      "['media ID:\\n', '624787042929757142_610866553\\n', 'comments for this media:\\n', 'likes for this media:\\n', 'userID:1367837 username:yourlittlewildchild\\n', 'userID:1054028888 username:mustafa_108\\n', 'userID:266710172 username:mostafazeid\\n', 'userID:326533635 username:annvaneetvelt\\n', 'userID:197737630 username:julieeknudsen\\n']\n",
      "['media ID:\\n', '624697487358708675_610866553\\n', 'comments for this media:\\n', 'likes for this media:\\n', 'userID:1054028888 username:mustafa_108\\n']\n",
      "['media ID:\\n', '623265594595625827_610866553\\n', 'comments for this media:\\n', 'likes for this media:\\n', 'userID:458864123 username:loayezzat\\n', 'userID:266710172 username:mostafazeid\\n', 'userID:16815872 username:aenyeart\\n', 'userID:365920743 username:_chloelocker\\n', 'userID:373183672 username:oliviayork23\\n', 'userID:217595932 username:rrhyzz\\n', 'userID:227198466 username:oscaaaar__\\n']\n",
      "['media ID:\\n', '615337023755536757_610866553\\n', 'comments for this media:\\n', 'likes for this media:\\n', 'userID:718141468 username:hussienshawky\\n']\n",
      "['media ID:\\n', '613919022393084263_610866553\\n', 'comments for this media:\\n', 'userID:266710172 username:mostafazeid commentText:Ana aho faker yalla natsawer typ ma tabos al na7ya al tanya la2 ma a7na 7antsawer ba dahrana :D\\n', 'userID:610866553 username:muhmedesam commentText:hahahahhaha faker xD\\n', 'likes for this media:\\n', 'userID:862967836 username:macyyy1969\\n', 'userID:266710172 username:mostafazeid\\n', 'userID:718141468 username:hussienshawky\\n', 'userID:567705183 username:marwantarrek\\n']\n",
      "['media ID:\\n', '613917583629371722_610866553\\n', 'comments for this media:\\n', 'userID:718141468 username:hussienshawky commentText:Eh dh ezaii yzee3o 7aga zaii dy !!\\n', 'likes for this media:\\n', 'userID:266710172 username:mostafazeid\\n', 'userID:612350067 username:seifaymanh\\n']\n",
      "['media ID:\\n', '610250967339256289_610866553\\n', 'comments for this media:\\n', 'userID:266710172 username:mostafazeid commentText:LoL kont lesa 7a2olak XD\\n', 'likes for this media:\\n', 'userID:266710172 username:mostafazeid\\n', 'userID:725241495 username:habibaalaa28\\n', 'userID:718141468 username:hussienshawky\\n']\n",
      "['media ID:\\n', '609537445588388427_610866553\\n', 'comments for this media:\\n', 'userID:266710172 username:mostafazeid commentText:Astafsar basset ya 3esam eh al ka2en da *_*\\n', 'userID:610866553 username:muhmedesam commentText:Malnaash da3wa ya Mohy :D\\n', 'userID:465085473 username:mennanassem commentText:Ana a7la [[fakss31]]\\n', 'userID:610866553 username:muhmedesam commentText:@mennanassem Bzmtk masd2a elli anty bt2olih da xD\\n', 'likes for this media:\\n', 'userID:567705183 username:marwantarrek\\n', 'userID:266710172 username:mostafazeid\\n']\n",
      "['media ID:\\n', '609534242306148882_610866553\\n', 'comments for this media:\\n', 'userID:567705183 username:marwantarrek commentText:Wara2 3b3aziz ahuu xD\\n', 'userID:610866553 username:muhmedesam commentText:Yaragel :O\\n', 'likes for this media:\\n', 'userID:718141468 username:hussienshawky\\n', 'userID:567705183 username:marwantarrek\\n', 'userID:266710172 username:mostafazeid\\n']\n",
      "['media ID:\\n', '608836423912016618_610866553\\n', 'comments for this media:\\n', 'userID:266710172 username:mostafazeid commentText:Wa tazwe8 XD\\n', 'likes for this media:\\n', 'userID:266710172 username:mostafazeid\\n', 'userID:718141468 username:hussienshawky\\n']\n",
      "['media ID:\\n', '608082763066132809_610866553\\n', 'comments for this media:\\n', 'likes for this media:\\n', 'userID:644899577 username:omarashrafmuhammed\\n', 'userID:612350067 username:seifaymanh\\n', 'userID:709606613 username:marwan3ess\\n', 'userID:718141468 username:hussienshawky\\n']\n",
      "['media ID:\\n', '608080496875292945_610866553\\n', 'comments for this media:\\n', 'likes for this media:\\n', 'userID:310367932 username:jessie_zayngirl14\\n', 'userID:718141468 username:hussienshawky\\n']\n",
      "['media ID:\\n', '608062452711050135_610866553\\n', 'comments for this media:\\n', 'userID:567705183 username:marwantarrek commentText:Sharmooferzz <3\\n', 'likes for this media:\\n', 'userID:438863181 username:omarsayedah\\n', 'userID:709606613 username:marwan3ess\\n', 'userID:772783544 username:mohameedadell\\n', 'userID:266710172 username:mostafazeid\\n', 'userID:718141468 username:hussienshawky\\n', 'userID:567705183 username:marwantarrek\\n']\n",
      "['media ID:\\n', '608061388590959495_610866553\\n', 'comments for this media:\\n', 'likes for this media:\\n', 'userID:709606613 username:marwan3ess\\n', 'userID:266710172 username:mostafazeid\\n', 'userID:718141468 username:hussienshawky\\n', 'userID:567705183 username:marwantarrek\\n']\n",
      "['media ID:\\n', '574656587564075776_610866553\\n', 'comments for this media:\\n', 'likes for this media:\\n', 'userID:477084413 username:abdelhameedsabra\\n']\n",
      "['media ID:\\n', '568002815303633365_610866553\\n', 'comments for this media:\\n', 'likes for this media:\\n', 'userID:718141468 username:hussienshawky\\n', 'userID:709606613 username:marwan3ess\\n', 'userID:567705183 username:marwantarrek\\n']\n",
      "['media ID:\\n', '567985356588730528_610866553\\n', 'comments for this media:\\n', 'likes for this media:\\n', 'userID:588540452 username:mohamedmamdouh97\\n']\n",
      "['media ID:\\n', '567952710819138255_610866553\\n', 'comments for this media:\\n', 'userID:610866553 username:muhmedesam commentText:#instaEbn3ami*\\n', 'likes for this media:\\n', 'userID:794739578 username:abdelmenaemtarek\\n', 'userID:725241495 username:habibaalaa28\\n', 'userID:528053339 username:adddddddddda\\n', 'userID:11781505 username:sarahdannelle\\n', 'userID:301738613 username:linneababe\\n', 'userID:479598343 username:earn6kmonthly\\n']\n",
      "['media ID:\\n', '567928862434412941_610866553\\n', 'comments for this media:\\n', 'userID:310367932 username:jessie_zayngirl14 commentText:U r cute ;)\\n', 'likes for this media:\\n', 'userID:310367932 username:jessie_zayngirl14\\n', 'userID:718141468 username:hussienshawky\\n', 'userID:709606613 username:marwan3ess\\n', 'userID:567705183 username:marwantarrek\\n']\n"
     ]
    },
    {
     "ename": "IndexError",
     "evalue": "list index out of range",
     "output_type": "error",
     "traceback": [
      "\u001b[0;31m---------------------------------------------------------------------------\u001b[0m",
      "\u001b[0;31mIndexError\u001b[0m                                Traceback (most recent call last)",
      "\u001b[0;32m<ipython-input-34-6eb728cc4ac4>\u001b[0m in \u001b[0;36m<module>\u001b[0;34m\u001b[0m\n\u001b[0;32m----> 1\u001b[0;31m \u001b[0mget_media_id_and_comments_tuples\u001b[0m\u001b[0;34m(\u001b[0m\u001b[0muser_blocks\u001b[0m\u001b[0;34m[\u001b[0m\u001b[0;36m0\u001b[0m\u001b[0;34m]\u001b[0m\u001b[0;34m)\u001b[0m\u001b[0;34m\u001b[0m\u001b[0;34m\u001b[0m\u001b[0m\n\u001b[0m",
      "\u001b[0;32m<ipython-input-33-e0d9d6f35d2b>\u001b[0m in \u001b[0;36mget_media_id_and_comments_tuples\u001b[0;34m(block)\u001b[0m\n\u001b[1;32m     12\u001b[0m     \u001b[0mcomment_id_tuples\u001b[0m \u001b[0;34m=\u001b[0m \u001b[0;34m[\u001b[0m\u001b[0;34m]\u001b[0m\u001b[0;34m\u001b[0m\u001b[0;34m\u001b[0m\u001b[0m\n\u001b[1;32m     13\u001b[0m     \u001b[0;32mfor\u001b[0m \u001b[0mm_block\u001b[0m \u001b[0;32min\u001b[0m \u001b[0mmedia_blocks\u001b[0m\u001b[0;34m:\u001b[0m\u001b[0;34m\u001b[0m\u001b[0;34m\u001b[0m\u001b[0m\n\u001b[0;32m---> 14\u001b[0;31m         \u001b[0mmedia_id_block\u001b[0m \u001b[0;34m=\u001b[0m \u001b[0mm_block\u001b[0m\u001b[0;34m[\u001b[0m\u001b[0;36m1\u001b[0m\u001b[0;34m]\u001b[0m\u001b[0;34m.\u001b[0m\u001b[0mstrip\u001b[0m\u001b[0;34m(\u001b[0m\u001b[0;34m)\u001b[0m\u001b[0;34m\u001b[0m\u001b[0;34m\u001b[0m\u001b[0m\n\u001b[0m\u001b[1;32m     15\u001b[0m         \u001b[0mprint\u001b[0m\u001b[0;34m(\u001b[0m\u001b[0mm_block\u001b[0m\u001b[0;34m)\u001b[0m\u001b[0;34m\u001b[0m\u001b[0;34m\u001b[0m\u001b[0m\n\u001b[1;32m     16\u001b[0m         \u001b[0mcomments_index\u001b[0m \u001b[0;34m=\u001b[0m \u001b[0;36m2\u001b[0m\u001b[0;34m\u001b[0m\u001b[0;34m\u001b[0m\u001b[0m\n",
      "\u001b[0;31mIndexError\u001b[0m: list index out of range"
     ]
    }
   ],
   "source": [
    "get_media_id_and_comments_tuples(user_blocks[0])"
   ]
  },
  {
   "cell_type": "code",
   "execution_count": 30,
   "metadata": {},
   "outputs": [
    {
     "data": {
      "text/plain": [
       "'Bale* xD'"
      ]
     },
     "execution_count": 30,
     "metadata": {},
     "output_type": "execute_result"
    }
   ],
   "source": [
    "s = \"userID:718141468 username:hussienshawky commentText:Bale* xD\"\n",
    "s[s.index('commentText:')+len('commentText:'):]"
   ]
  },
  {
   "cell_type": "code",
   "execution_count": null,
   "metadata": {},
   "outputs": [],
   "source": []
  }
 ],
 "metadata": {
  "kernelspec": {
   "display_name": "Python (nii_project)",
   "language": "python",
   "name": "nii_project"
  },
  "language_info": {
   "codemirror_mode": {
    "name": "ipython",
    "version": 3
   },
   "file_extension": ".py",
   "mimetype": "text/x-python",
   "name": "python",
   "nbconvert_exporter": "python",
   "pygments_lexer": "ipython3",
   "version": "3.6.8"
  }
 },
 "nbformat": 4,
 "nbformat_minor": 2
}
