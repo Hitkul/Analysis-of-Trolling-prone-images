{
 "cells": [
  {
   "cell_type": "code",
   "execution_count": 35,
   "metadata": {},
   "outputs": [
    {
     "data": {
      "application/vnd.jupyter.widget-view+json": {
       "model_id": "dc50c040f4f14745abdb9e5a97373601",
       "version_major": 2,
       "version_minor": 0
      },
      "text/plain": [
       "HBox(children=(IntProgress(value=1, bar_style='info', max=1), HTML(value='')))"
      ]
     },
     "metadata": {},
     "output_type": "display_data"
    },
    {
     "name": "stdout",
     "output_type": "stream",
     "text": [
      "\n"
     ]
    }
   ],
   "source": [
    "import pandas as pd\n",
    "import re\n",
    "from pattern.text.en import singularize\n",
    "from spellchecker import SpellChecker\n",
    "spell = SpellChecker()\n",
    "from tqdm import tqdm_notebook as tqdm\n",
    "from nltk.corpus import stopwords\n",
    "stop_words = stopwords.words('english')\n",
    "stop_words.remove('other')\n",
    "import string\n",
    "import enchant\n",
    "import pickle\n",
    "d = enchant.Dict(\"en_US\")\n",
    "tqdm().pandas()\n",
    "import matplotlib.pyplot as plt\n",
    "%matplotlib inline\n",
    "plt.rcParams['figure.figsize'] = [30, 15]"
   ]
  },
  {
   "cell_type": "markdown",
   "metadata": {},
   "source": [
    "## Finding main objects"
   ]
  },
  {
   "cell_type": "code",
   "execution_count": 7,
   "metadata": {},
   "outputs": [],
   "source": [
    "def datafram_from_csv(file_path):\n",
    "    df = pd.read_csv(file_path,encoding='latin1')\n",
    "    return df"
   ]
  },
  {
   "cell_type": "code",
   "execution_count": 8,
   "metadata": {},
   "outputs": [],
   "source": [
    "def get_concat_data(list_of_files):\n",
    "    list_of_df = [datafram_from_csv(i) for i in list_of_files]\n",
    "    df = pd.concat(list_of_df, axis=0, ignore_index=True)\n",
    "    return df"
   ]
  },
  {
   "cell_type": "code",
   "execution_count": 44,
   "metadata": {},
   "outputs": [],
   "source": [
    "df = get_concat_data(['data/Insta_labeled_data/image_labels_0plus_to_10_.csv','data/Insta_labeled_data/image_labels_10plus_to_40.csv','data/Insta_labeled_data/image_labels_40plus.csv'])"
   ]
  },
  {
   "cell_type": "code",
   "execution_count": 45,
   "metadata": {},
   "outputs": [
    {
     "data": {
      "text/html": [
       "<div>\n",
       "<style scoped>\n",
       "    .dataframe tbody tr th:only-of-type {\n",
       "        vertical-align: middle;\n",
       "    }\n",
       "\n",
       "    .dataframe tbody tr th {\n",
       "        vertical-align: top;\n",
       "    }\n",
       "\n",
       "    .dataframe thead th {\n",
       "        text-align: right;\n",
       "    }\n",
       "</style>\n",
       "<table border=\"1\" class=\"dataframe\">\n",
       "  <thead>\n",
       "    <tr style=\"text-align: right;\">\n",
       "      <th></th>\n",
       "      <th>id_image</th>\n",
       "      <th>label_image</th>\n",
       "    </tr>\n",
       "  </thead>\n",
       "  <tbody>\n",
       "    <tr>\n",
       "      <th>0</th>\n",
       "      <td>https://scontent.cdninstagram.com/hphotos-xaf1...</td>\n",
       "      <td>Person  Person\\nCelebrity\\nClothes\\nText  Pers...</td>\n",
       "    </tr>\n",
       "    <tr>\n",
       "      <th>1</th>\n",
       "      <td>https://scontent.cdninstagram.com/hphotos-xap1...</td>\n",
       "      <td>Person  Celebrity celebritÃ  Person</td>\n",
       "    </tr>\n",
       "    <tr>\n",
       "      <th>2</th>\n",
       "      <td>https://scontent.cdninstagram.com/hphotos-xap1...</td>\n",
       "      <td>Nature\\nPerson\\nClothes\\nFood  Person\\nFood  P...</td>\n",
       "    </tr>\n",
       "    <tr>\n",
       "      <th>3</th>\n",
       "      <td>https://scontent.cdninstagram.com/hphotos-xaf1...</td>\n",
       "      <td>Cartoon  Other art dontknow</td>\n",
       "    </tr>\n",
       "    <tr>\n",
       "      <th>4</th>\n",
       "      <td>https://scontent.cdninstagram.com/hphotos-xap1...</td>\n",
       "      <td>Clothes  Clothes  Clothes</td>\n",
       "    </tr>\n",
       "  </tbody>\n",
       "</table>\n",
       "</div>"
      ],
      "text/plain": [
       "                                            id_image  \\\n",
       "0  https://scontent.cdninstagram.com/hphotos-xaf1...   \n",
       "1  https://scontent.cdninstagram.com/hphotos-xap1...   \n",
       "2  https://scontent.cdninstagram.com/hphotos-xap1...   \n",
       "3  https://scontent.cdninstagram.com/hphotos-xaf1...   \n",
       "4  https://scontent.cdninstagram.com/hphotos-xap1...   \n",
       "\n",
       "                                         label_image  \n",
       "0  Person  Person\\nCelebrity\\nClothes\\nText  Pers...  \n",
       "1              Person  Celebrity celebritÃ  Person    \n",
       "2  Nature\\nPerson\\nClothes\\nFood  Person\\nFood  P...  \n",
       "3                      Cartoon  Other art dontknow    \n",
       "4                        Clothes  Clothes  Clothes    "
      ]
     },
     "execution_count": 45,
     "metadata": {},
     "output_type": "execute_result"
    }
   ],
   "source": [
    "df.head()"
   ]
  },
  {
   "cell_type": "code",
   "execution_count": 57,
   "metadata": {},
   "outputs": [],
   "source": [
    "duplicate_map = {\n",
    " 'acres':'adress',\n",
    " 'advertisment':'advertising',\n",
    "    'ad':'advertising',\n",
    "    'animals':'animal',\n",
    "    'bicycle':'bike',\n",
    "    'broke':'broken',\n",
    "    'buildingslandmark':'building',\n",
    "    'celebrating':'celebration',\n",
    "    'cigar':'cigarette',\n",
    "    'cloth':'clothe',\n",
    "    'clubbing':'club',\n",
    "    'musical':'music',\n",
    "    'paintdrawing':'painting',\n",
    "    'art':'painting',\n",
    "    'artwork':'painting',\n",
    "    'tv':'television',\n",
    "    'showing':'show',\n",
    "    'dontknow': '',\n",
    "    'figurine':'figure',\n",
    "    'graffiti':'graphics',\n",
    "    'glas':'glass',\n",
    "    'golden':'gold',\n",
    "    'gras':'grass',\n",
    "    'home':'house',\n",
    "    'instruments':'instrument',\n",
    "    'kids':'kid',\n",
    "    'loading':'load',\n",
    "    'motorbike':'motorcycle',\n",
    "    'sex':'sensual',\n",
    "    'sexy':'sensual'\n",
    "}"
   ]
  },
  {
   "cell_type": "code",
   "execution_count": 49,
   "metadata": {},
   "outputs": [
    {
     "data": {
      "application/vnd.jupyter.widget-view+json": {
       "model_id": "31bfacf3efbc4160aaf0aede827eeef0",
       "version_major": 2,
       "version_minor": 0
      },
      "text/plain": [
       "HBox(children=(IntProgress(value=0, max=2260), HTML(value='')))"
      ]
     },
     "metadata": {},
     "output_type": "display_data"
    }
   ],
   "source": [
    "objects = [spell.correction(singularize(j.lower())) for i in tqdm(df['label_image'].tolist()) for j in re.split(' |\\n', i) if j!='']"
   ]
  },
  {
   "cell_type": "code",
   "execution_count": 70,
   "metadata": {},
   "outputs": [],
   "source": [
    "objects = [word for word in objects if word not in stop_words]\n",
    "objects = [s.translate(str.maketrans('','',string.punctuation)) for s in objects]\n",
    "objects = [duplicate_map[i] if i in duplicate_map.keys() else i for i in objects]\n",
    "objects = [word for word in objects if word not in ['','ð¸ð½ñ\\x82ðµñ\\x80ñ\\x8cðµñ\\x80','ñ\\x80ðµðºð»ð°ð¼ð°','load','picture','photo','nice','content','love']]"
   ]
  },
  {
   "cell_type": "code",
   "execution_count": 71,
   "metadata": {},
   "outputs": [
    {
     "data": {
      "text/plain": [
       "392"
      ]
     },
     "execution_count": 71,
     "metadata": {},
     "output_type": "execute_result"
    }
   ],
   "source": [
    "unique_objects = set(objects)\n",
    "len(unique_objects)"
   ]
  },
  {
   "cell_type": "code",
   "execution_count": 72,
   "metadata": {},
   "outputs": [
    {
     "data": {
      "text/plain": [
       "{'accessory',\n",
       " 'action',\n",
       " 'address',\n",
       " 'adress',\n",
       " 'advertising',\n",
       " 'advice',\n",
       " 'airplane',\n",
       " 'airport',\n",
       " 'alcohol',\n",
       " 'animal',\n",
       " 'apple',\n",
       " 'area',\n",
       " 'areawiev',\n",
       " 'arena',\n",
       " 'arm',\n",
       " 'army',\n",
       " 'article',\n",
       " 'artist',\n",
       " 'atelier',\n",
       " 'auditorium',\n",
       " 'automotive',\n",
       " 'baby',\n",
       " 'backpack',\n",
       " 'bag',\n",
       " 'bamboo',\n",
       " 'banner',\n",
       " 'barro',\n",
       " 'baseball',\n",
       " 'basketball',\n",
       " 'bathroom',\n",
       " 'beauty',\n",
       " 'bed',\n",
       " 'bedroom',\n",
       " 'behavior',\n",
       " 'best',\n",
       " 'bike',\n",
       " 'bikini',\n",
       " 'black',\n",
       " 'body',\n",
       " 'book',\n",
       " 'boot',\n",
       " 'booty',\n",
       " 'boy',\n",
       " 'broken',\n",
       " 'bu',\n",
       " 'building',\n",
       " 'burned',\n",
       " 'businesscard',\n",
       " 'buy',\n",
       " 'cake',\n",
       " 'camera',\n",
       " 'campaign',\n",
       " 'car',\n",
       " 'card',\n",
       " 'care',\n",
       " 'cartoon',\n",
       " 'cat',\n",
       " 'cd',\n",
       " 'celebration',\n",
       " 'celebrity',\n",
       " 'cellphone',\n",
       " 'chair',\n",
       " 'chandelier',\n",
       " 'christmas',\n",
       " 'church',\n",
       " 'cigarette',\n",
       " 'city',\n",
       " 'clock',\n",
       " 'clothe',\n",
       " 'cloud',\n",
       " 'club',\n",
       " 'coffee',\n",
       " 'colm',\n",
       " 'company',\n",
       " 'computer',\n",
       " 'concert',\n",
       " 'concussion',\n",
       " 'cool',\n",
       " 'coral',\n",
       " 'couple',\n",
       " 'craft',\n",
       " 'crashed',\n",
       " 'crayon',\n",
       " 'cup',\n",
       " 'currency',\n",
       " 'dance',\n",
       " 'demonstration',\n",
       " 'desktop',\n",
       " 'destruction',\n",
       " 'displayed',\n",
       " 'dj',\n",
       " 'document',\n",
       " 'dog',\n",
       " 'doll',\n",
       " 'dolly',\n",
       " 'door',\n",
       " 'drawing',\n",
       " 'drink',\n",
       " 'drug',\n",
       " 'earth',\n",
       " 'edifice',\n",
       " 'edited',\n",
       " 'education',\n",
       " 'egypt',\n",
       " 'engine',\n",
       " 'error',\n",
       " 'estrada',\n",
       " 'event',\n",
       " 'explosion',\n",
       " 'fabric',\n",
       " 'face',\n",
       " 'fact',\n",
       " 'festus',\n",
       " 'fight',\n",
       " 'figure',\n",
       " 'finger',\n",
       " 'fire',\n",
       " 'fish',\n",
       " 'fitted',\n",
       " 'flag',\n",
       " 'flight',\n",
       " 'flower',\n",
       " 'food',\n",
       " 'football',\n",
       " 'forest',\n",
       " 'forgive',\n",
       " 'found',\n",
       " 'friend',\n",
       " 'fuck',\n",
       " 'full',\n",
       " 'fun',\n",
       " 'furniture',\n",
       " 'futon',\n",
       " 'future',\n",
       " 'game',\n",
       " 'garden',\n",
       " 'get',\n",
       " 'gift',\n",
       " 'girl',\n",
       " 'glass',\n",
       " 'goal',\n",
       " 'gold',\n",
       " 'graphics',\n",
       " 'grass',\n",
       " 'greeting',\n",
       " 'guitar',\n",
       " 'gum',\n",
       " 'gun',\n",
       " 'hand',\n",
       " 'harley',\n",
       " 'harry',\n",
       " 'health',\n",
       " 'holiday',\n",
       " 'holocaust',\n",
       " 'homophony',\n",
       " 'horror',\n",
       " 'house',\n",
       " 'hunger',\n",
       " 'hunting',\n",
       " 'idol',\n",
       " 'image',\n",
       " 'inappropriate',\n",
       " 'information',\n",
       " 'injured',\n",
       " 'insect',\n",
       " 'instagram',\n",
       " 'instagrammusic',\n",
       " 'instrument',\n",
       " 'interior',\n",
       " 'it',\n",
       " 'jesu',\n",
       " 'jewelry',\n",
       " 'joke',\n",
       " 'journal',\n",
       " 'keep',\n",
       " 'keyboard',\n",
       " 'kid',\n",
       " 'kind',\n",
       " 'knife',\n",
       " 'landscape',\n",
       " 'laptop',\n",
       " 'lascar',\n",
       " 'leg',\n",
       " 'lgb',\n",
       " 'light',\n",
       " 'lighter',\n",
       " 'like',\n",
       " 'link',\n",
       " 'list',\n",
       " 'live',\n",
       " 'logo',\n",
       " 'look',\n",
       " 'luxury',\n",
       " 'lyric',\n",
       " 'made',\n",
       " 'magazine',\n",
       " 'makeup',\n",
       " 'man',\n",
       " 'manicure',\n",
       " 'many',\n",
       " 'map',\n",
       " 'masked',\n",
       " 'media',\n",
       " 'medical',\n",
       " 'medium',\n",
       " 'meeting',\n",
       " 'meme',\n",
       " 'message',\n",
       " 'mobile',\n",
       " 'model',\n",
       " 'money',\n",
       " 'moto',\n",
       " 'motorcycle',\n",
       " 'mountain',\n",
       " 'mounted',\n",
       " 'movie',\n",
       " 'muscle',\n",
       " 'music',\n",
       " 'nail',\n",
       " 'name',\n",
       " 'nature',\n",
       " 'necklace',\n",
       " 'network',\n",
       " 'new',\n",
       " 'newspaper',\n",
       " 'nickle',\n",
       " 'nickname',\n",
       " 'night',\n",
       " 'nightlife',\n",
       " 'nip',\n",
       " 'none',\n",
       " 'nude',\n",
       " 'object',\n",
       " 'office',\n",
       " 'opium',\n",
       " 'other',\n",
       " 'outdoor',\n",
       " 'page',\n",
       " 'paint',\n",
       " 'painting',\n",
       " 'paper',\n",
       " 'parachute',\n",
       " 'park',\n",
       " 'part',\n",
       " 'party',\n",
       " 'passage',\n",
       " 'passing',\n",
       " 'person',\n",
       " 'pet',\n",
       " 'phone',\n",
       " 'phrase',\n",
       " 'pic',\n",
       " 'piece',\n",
       " 'pig',\n",
       " 'place',\n",
       " 'plague',\n",
       " 'plane',\n",
       " 'plastic',\n",
       " 'playground',\n",
       " 'playing',\n",
       " 'politic',\n",
       " 'pool',\n",
       " 'portrait',\n",
       " 'pose',\n",
       " 'positive',\n",
       " 'post',\n",
       " 'postcard',\n",
       " 'poster',\n",
       " 'present',\n",
       " 'prince',\n",
       " 'product',\n",
       " 'public',\n",
       " 'publicity',\n",
       " 'puzzle',\n",
       " 'radio',\n",
       " 'ray',\n",
       " 'relationship',\n",
       " 'restaurant',\n",
       " 'riot',\n",
       " 'road',\n",
       " 'robot',\n",
       " 'room',\n",
       " 'rubber',\n",
       " 'running',\n",
       " 'satanism',\n",
       " 'scifi',\n",
       " 'screen',\n",
       " 'screenshot',\n",
       " 'secord',\n",
       " 'self',\n",
       " 'selfcare',\n",
       " 'sell',\n",
       " 'sensual',\n",
       " 'shield',\n",
       " 'shirt',\n",
       " 'shoe',\n",
       " 'show',\n",
       " 'shown',\n",
       " 'sign',\n",
       " 'signboard',\n",
       " 'singing',\n",
       " 'sitting',\n",
       " 'skate',\n",
       " 'skating',\n",
       " 'sketch',\n",
       " 'sky',\n",
       " 'smoke',\n",
       " 'smokey',\n",
       " 'smoking',\n",
       " 'snacking',\n",
       " 'snow',\n",
       " 'snowmobile',\n",
       " 'soccer',\n",
       " 'social',\n",
       " 'sofa',\n",
       " 'song',\n",
       " 'sport',\n",
       " 'square',\n",
       " 'stadium',\n",
       " 'stair',\n",
       " 'standard',\n",
       " 'statuette',\n",
       " 'studio',\n",
       " 'stuff',\n",
       " 'sunglasses',\n",
       " 'sweet',\n",
       " 'swimming',\n",
       " 'sword',\n",
       " 'symbol',\n",
       " 'taboo',\n",
       " 'talking',\n",
       " 'tampon',\n",
       " 'tank',\n",
       " 'tattoo',\n",
       " 'team',\n",
       " 'technic',\n",
       " 'technology',\n",
       " 'telefon',\n",
       " 'television',\n",
       " 'telling',\n",
       " 'term',\n",
       " 'terror',\n",
       " 'text',\n",
       " 'thing',\n",
       " 'thinking',\n",
       " 'thumb',\n",
       " 'ticket',\n",
       " 'tiger',\n",
       " 'toilet',\n",
       " 'tool',\n",
       " 'tools',\n",
       " 'tooth',\n",
       " 'tower',\n",
       " 'town',\n",
       " 'toy',\n",
       " 'traffic',\n",
       " 'trained',\n",
       " 'trash',\n",
       " 'travel',\n",
       " 'tree',\n",
       " 'tshirt',\n",
       " 'tweet',\n",
       " 'twin',\n",
       " 'uptake',\n",
       " 'urban',\n",
       " 'ux',\n",
       " 'vacation',\n",
       " 'vandal',\n",
       " 'vegetable',\n",
       " 'video',\n",
       " 'view',\n",
       " 'village',\n",
       " 'violence',\n",
       " 'vip',\n",
       " 'voting',\n",
       " 'wall',\n",
       " 'wallet',\n",
       " 'watch',\n",
       " 'weapon',\n",
       " 'web',\n",
       " 'weird',\n",
       " 'well',\n",
       " 'winter',\n",
       " 'woman',\n",
       " 'wont',\n",
       " 'wood',\n",
       " 'work',\n",
       " 'wound',\n",
       " 'wrestling',\n",
       " 'wrist',\n",
       " 'wristwatch',\n",
       " 'york'}"
      ]
     },
     "execution_count": 72,
     "metadata": {},
     "output_type": "execute_result"
    }
   ],
   "source": [
    "unique_objects"
   ]
  },
  {
   "cell_type": "code",
   "execution_count": 74,
   "metadata": {},
   "outputs": [],
   "source": [
    "final_objects =[]\n",
    "extras = []\n",
    "result = sorted([(x, objects.count(x)) for x in unique_objects], key=lambda y: y[1])\n",
    "for elem in result:\n",
    "    if elem[1]>=5:\n",
    "        final_objects.append(elem[0])\n",
    "    else:\n",
    "        extras.append(elem[0])"
   ]
  },
  {
   "cell_type": "code",
   "execution_count": 76,
   "metadata": {},
   "outputs": [
    {
     "data": {
      "text/plain": [
       "42"
      ]
     },
     "execution_count": 76,
     "metadata": {},
     "output_type": "execute_result"
    }
   ],
   "source": [
    "len(final_objects)"
   ]
  },
  {
   "cell_type": "code",
   "execution_count": 78,
   "metadata": {},
   "outputs": [],
   "source": [
    "with open('data/DATA_I_MADE/final_objects.pkl', 'wb') as fp:\n",
    "    pickle.dump(final_objects, fp)\n",
    "\n",
    "with open('data/DATA_I_MADE/extra_onjects.pkl', 'wb') as fp:\n",
    "    pickle.dump(extras, fp)"
   ]
  },
  {
   "cell_type": "markdown",
   "metadata": {},
   "source": [
    "## Objects in each row"
   ]
  },
  {
   "cell_type": "code",
   "execution_count": 89,
   "metadata": {},
   "outputs": [],
   "source": [
    "with open('data/DATA_I_MADE/final_objects.pkl', 'rb') as fp:\n",
    "    final_objects = pickle.load(fp)\n",
    "\n",
    "with open('data/DATA_I_MADE/extra_onjects.pkl', 'rb') as fp:\n",
    "    extras = pickle.load(fp)"
   ]
  },
  {
   "cell_type": "code",
   "execution_count": 84,
   "metadata": {},
   "outputs": [],
   "source": [
    "def pre_process_class(objects_str):\n",
    "    objects = [spell.correction(singularize(j.lower())) for j in re.split(' |\\n', objects_str) if j!='']\n",
    "    objects = [word for word in objects if word not in stop_words]\n",
    "    objects = [s.translate(str.maketrans('','',string.punctuation)) for s in objects]\n",
    "    objects = [duplicate_map[i] if i in duplicate_map.keys() else i for i in objects]\n",
    "    objects = [word for word in objects if word not in ['','ð¸ð½ñ\\x82ðµñ\\x80ñ\\x8cðµñ\\x80','ñ\\x80ðµðºð»ð°ð¼ð°','load','picture','photo','nice','content','love']]\n",
    "    objects = [w for w in objects if w in final_objects]\n",
    "    return list(set(objects))"
   ]
  },
  {
   "cell_type": "code",
   "execution_count": 96,
   "metadata": {},
   "outputs": [],
   "source": [
    "def get_object_in_row(row):\n",
    "    return pre_process_class(row['label_image'])"
   ]
  },
  {
   "cell_type": "code",
   "execution_count": 101,
   "metadata": {},
   "outputs": [
    {
     "data": {
      "application/vnd.jupyter.widget-view+json": {
       "model_id": "1e7eff9bf6324e228cfef7e6ad8a537f",
       "version_major": 2,
       "version_minor": 0
      },
      "text/plain": [
       "HBox(children=(IntProgress(value=0, max=2260), HTML(value='')))"
      ]
     },
     "metadata": {},
     "output_type": "display_data"
    }
   ],
   "source": [
    "df['objects'] = df.progress_apply(lambda row: get_object_in_row(row),axis=1)"
   ]
  },
  {
   "cell_type": "code",
   "execution_count": 103,
   "metadata": {},
   "outputs": [
    {
     "data": {
      "text/html": [
       "<div>\n",
       "<style scoped>\n",
       "    .dataframe tbody tr th:only-of-type {\n",
       "        vertical-align: middle;\n",
       "    }\n",
       "\n",
       "    .dataframe tbody tr th {\n",
       "        vertical-align: top;\n",
       "    }\n",
       "\n",
       "    .dataframe thead th {\n",
       "        text-align: right;\n",
       "    }\n",
       "</style>\n",
       "<table border=\"1\" class=\"dataframe\">\n",
       "  <thead>\n",
       "    <tr style=\"text-align: right;\">\n",
       "      <th></th>\n",
       "      <th>id_image</th>\n",
       "      <th>label_image</th>\n",
       "      <th>objects</th>\n",
       "    </tr>\n",
       "  </thead>\n",
       "  <tbody>\n",
       "    <tr>\n",
       "      <th>0</th>\n",
       "      <td>https://scontent.cdninstagram.com/hphotos-xaf1...</td>\n",
       "      <td>Person  Person\\nCelebrity\\nClothes\\nText  Pers...</td>\n",
       "      <td>[text, clothe, celebrity, person]</td>\n",
       "    </tr>\n",
       "    <tr>\n",
       "      <th>1</th>\n",
       "      <td>https://scontent.cdninstagram.com/hphotos-xap1...</td>\n",
       "      <td>Person  Celebrity celebritÃ  Person</td>\n",
       "      <td>[celebrity, person]</td>\n",
       "    </tr>\n",
       "    <tr>\n",
       "      <th>2</th>\n",
       "      <td>https://scontent.cdninstagram.com/hphotos-xap1...</td>\n",
       "      <td>Nature\\nPerson\\nClothes\\nFood  Person\\nFood  P...</td>\n",
       "      <td>[nature, clothe, food, person]</td>\n",
       "    </tr>\n",
       "    <tr>\n",
       "      <th>3</th>\n",
       "      <td>https://scontent.cdninstagram.com/hphotos-xaf1...</td>\n",
       "      <td>Cartoon  Other art dontknow</td>\n",
       "      <td>[cartoon, painting, other]</td>\n",
       "    </tr>\n",
       "    <tr>\n",
       "      <th>4</th>\n",
       "      <td>https://scontent.cdninstagram.com/hphotos-xap1...</td>\n",
       "      <td>Clothes  Clothes  Clothes</td>\n",
       "      <td>[clothe]</td>\n",
       "    </tr>\n",
       "  </tbody>\n",
       "</table>\n",
       "</div>"
      ],
      "text/plain": [
       "                                            id_image  \\\n",
       "0  https://scontent.cdninstagram.com/hphotos-xaf1...   \n",
       "1  https://scontent.cdninstagram.com/hphotos-xap1...   \n",
       "2  https://scontent.cdninstagram.com/hphotos-xap1...   \n",
       "3  https://scontent.cdninstagram.com/hphotos-xaf1...   \n",
       "4  https://scontent.cdninstagram.com/hphotos-xap1...   \n",
       "\n",
       "                                         label_image  \\\n",
       "0  Person  Person\\nCelebrity\\nClothes\\nText  Pers...   \n",
       "1              Person  Celebrity celebritÃ  Person     \n",
       "2  Nature\\nPerson\\nClothes\\nFood  Person\\nFood  P...   \n",
       "3                      Cartoon  Other art dontknow     \n",
       "4                        Clothes  Clothes  Clothes     \n",
       "\n",
       "                             objects  \n",
       "0  [text, clothe, celebrity, person]  \n",
       "1                [celebrity, person]  \n",
       "2     [nature, clothe, food, person]  \n",
       "3         [cartoon, painting, other]  \n",
       "4                           [clothe]  "
      ]
     },
     "execution_count": 103,
     "metadata": {},
     "output_type": "execute_result"
    }
   ],
   "source": [
    "df.head()"
   ]
  },
  {
   "cell_type": "code",
   "execution_count": 104,
   "metadata": {},
   "outputs": [],
   "source": [
    "with open('data/DATA_I_MADE/objects_df.pkl', 'wb') as fp:\n",
    "    pickle.dump(df, fp)"
   ]
  },
  {
   "cell_type": "markdown",
   "metadata": {},
   "source": [
    "## Finding mapping"
   ]
  },
  {
   "cell_type": "code",
   "execution_count": 2,
   "metadata": {},
   "outputs": [],
   "source": [
    "def closure_clean_url_link(row,link_column_name):\n",
    "    def clean_url_link(row):\n",
    "        return row[link_column_name].replace('\\n','').replace('\\r','')\n",
    "    return clean_url_link(row)"
   ]
  },
  {
   "cell_type": "markdown",
   "metadata": {},
   "source": [
    "Objects file links"
   ]
  },
  {
   "cell_type": "code",
   "execution_count": 3,
   "metadata": {},
   "outputs": [],
   "source": [
    "with open('data/DATA_I_MADE/objects_df.pkl', 'rb') as fp:\n",
    "    df = pickle.load(fp)"
   ]
  },
  {
   "cell_type": "code",
   "execution_count": 4,
   "metadata": {},
   "outputs": [
    {
     "data": {
      "text/html": [
       "<div>\n",
       "<style scoped>\n",
       "    .dataframe tbody tr th:only-of-type {\n",
       "        vertical-align: middle;\n",
       "    }\n",
       "\n",
       "    .dataframe tbody tr th {\n",
       "        vertical-align: top;\n",
       "    }\n",
       "\n",
       "    .dataframe thead th {\n",
       "        text-align: right;\n",
       "    }\n",
       "</style>\n",
       "<table border=\"1\" class=\"dataframe\">\n",
       "  <thead>\n",
       "    <tr style=\"text-align: right;\">\n",
       "      <th></th>\n",
       "      <th>id_image</th>\n",
       "      <th>label_image</th>\n",
       "      <th>objects</th>\n",
       "    </tr>\n",
       "  </thead>\n",
       "  <tbody>\n",
       "    <tr>\n",
       "      <th>0</th>\n",
       "      <td>https://scontent.cdninstagram.com/hphotos-xaf1...</td>\n",
       "      <td>Person  Person\\nCelebrity\\nClothes\\nText  Pers...</td>\n",
       "      <td>[text, clothe, celebrity, person]</td>\n",
       "    </tr>\n",
       "    <tr>\n",
       "      <th>1</th>\n",
       "      <td>https://scontent.cdninstagram.com/hphotos-xap1...</td>\n",
       "      <td>Person  Celebrity celebritÃ  Person</td>\n",
       "      <td>[celebrity, person]</td>\n",
       "    </tr>\n",
       "    <tr>\n",
       "      <th>2</th>\n",
       "      <td>https://scontent.cdninstagram.com/hphotos-xap1...</td>\n",
       "      <td>Nature\\nPerson\\nClothes\\nFood  Person\\nFood  P...</td>\n",
       "      <td>[nature, clothe, food, person]</td>\n",
       "    </tr>\n",
       "    <tr>\n",
       "      <th>3</th>\n",
       "      <td>https://scontent.cdninstagram.com/hphotos-xaf1...</td>\n",
       "      <td>Cartoon  Other art dontknow</td>\n",
       "      <td>[cartoon, painting, other]</td>\n",
       "    </tr>\n",
       "    <tr>\n",
       "      <th>4</th>\n",
       "      <td>https://scontent.cdninstagram.com/hphotos-xap1...</td>\n",
       "      <td>Clothes  Clothes  Clothes</td>\n",
       "      <td>[clothe]</td>\n",
       "    </tr>\n",
       "  </tbody>\n",
       "</table>\n",
       "</div>"
      ],
      "text/plain": [
       "                                            id_image  \\\n",
       "0  https://scontent.cdninstagram.com/hphotos-xaf1...   \n",
       "1  https://scontent.cdninstagram.com/hphotos-xap1...   \n",
       "2  https://scontent.cdninstagram.com/hphotos-xap1...   \n",
       "3  https://scontent.cdninstagram.com/hphotos-xaf1...   \n",
       "4  https://scontent.cdninstagram.com/hphotos-xap1...   \n",
       "\n",
       "                                         label_image  \\\n",
       "0  Person  Person\\nCelebrity\\nClothes\\nText  Pers...   \n",
       "1              Person  Celebrity celebritÃ  Person     \n",
       "2  Nature\\nPerson\\nClothes\\nFood  Person\\nFood  P...   \n",
       "3                      Cartoon  Other art dontknow     \n",
       "4                        Clothes  Clothes  Clothes     \n",
       "\n",
       "                             objects  \n",
       "0  [text, clothe, celebrity, person]  \n",
       "1                [celebrity, person]  \n",
       "2     [nature, clothe, food, person]  \n",
       "3         [cartoon, painting, other]  \n",
       "4                           [clothe]  "
      ]
     },
     "execution_count": 4,
     "metadata": {},
     "output_type": "execute_result"
    }
   ],
   "source": [
    "df.head()"
   ]
  },
  {
   "cell_type": "code",
   "execution_count": 5,
   "metadata": {},
   "outputs": [
    {
     "data": {
      "application/vnd.jupyter.widget-view+json": {
       "model_id": "0b86fb158cb24ceba841c3ecda56380d",
       "version_major": 2,
       "version_minor": 0
      },
      "text/plain": [
       "HBox(children=(IntProgress(value=0, max=2260), HTML(value='')))"
      ]
     },
     "metadata": {},
     "output_type": "display_data"
    },
    {
     "name": "stdout",
     "output_type": "stream",
     "text": [
      "\n"
     ]
    }
   ],
   "source": [
    "df['id_image'] = df.progress_apply(lambda row: closure_clean_url_link(row,'id_image'),axis=1)"
   ]
  },
  {
   "cell_type": "code",
   "execution_count": 6,
   "metadata": {},
   "outputs": [],
   "source": [
    "img_urls_object_file = df['id_image'].tolist()"
   ]
  },
  {
   "cell_type": "markdown",
   "metadata": {},
   "source": [
    "final dataset file links"
   ]
  },
  {
   "cell_type": "code",
   "execution_count": 7,
   "metadata": {},
   "outputs": [],
   "source": [
    "with open('data/DATA_I_MADE/final_csv_with_image_names.pkl', 'rb') as fp:\n",
    "    df_labeled = pickle.load(fp)"
   ]
  },
  {
   "cell_type": "code",
   "execution_count": 8,
   "metadata": {},
   "outputs": [
    {
     "data": {
      "application/vnd.jupyter.widget-view+json": {
       "model_id": "dc39594bdcb44ac7ad442a64c521ffe9",
       "version_major": 2,
       "version_minor": 0
      },
      "text/plain": [
       "HBox(children=(IntProgress(value=0, max=2218), HTML(value='')))"
      ]
     },
     "metadata": {},
     "output_type": "display_data"
    },
    {
     "name": "stdout",
     "output_type": "stream",
     "text": [
      "\n"
     ]
    }
   ],
   "source": [
    "df_labeled['img_url'] = df_labeled.progress_apply(lambda row: closure_clean_url_link(row,'img_url'),axis=1)"
   ]
  },
  {
   "cell_type": "code",
   "execution_count": 9,
   "metadata": {},
   "outputs": [],
   "source": [
    "img_url_labeled_file = df_labeled['img_url'].tolist()"
   ]
  },
  {
   "cell_type": "markdown",
   "metadata": {},
   "source": [
    "images folder link mapping"
   ]
  },
  {
   "cell_type": "code",
   "execution_count": 10,
   "metadata": {},
   "outputs": [],
   "source": [
    "list_of_files = ['data/instagram_images/namesall_info_media_ids_to_collect_0plus_to_10.txt','data/instagram_images/namesall_info_media_ids_to_collect_10plus_to_40.txt','data/instagram_images/namesall_info_media_ids_to_collect_40plus.txt']\n",
    "list_of_df = [pd.read_csv(i, sep=' ',names=['image_id','links']) for i in list_of_files]\n",
    "df_image_folder = pd.concat(list_of_df, axis=0, ignore_index=True)"
   ]
  },
  {
   "cell_type": "code",
   "execution_count": 11,
   "metadata": {},
   "outputs": [
    {
     "data": {
      "application/vnd.jupyter.widget-view+json": {
       "model_id": "991d4dfccb1b44438531f38efb548046",
       "version_major": 2,
       "version_minor": 0
      },
      "text/plain": [
       "HBox(children=(IntProgress(value=0, max=1921), HTML(value='')))"
      ]
     },
     "metadata": {},
     "output_type": "display_data"
    },
    {
     "name": "stdout",
     "output_type": "stream",
     "text": [
      "\n"
     ]
    }
   ],
   "source": [
    "df_image_folder['links'] = df_image_folder.progress_apply(lambda row: closure_clean_url_link(row,'links'),axis=1)"
   ]
  },
  {
   "cell_type": "code",
   "execution_count": 12,
   "metadata": {},
   "outputs": [],
   "source": [
    "img_urls_image_file = df_image_folder['links'].tolist()"
   ]
  },
  {
   "cell_type": "markdown",
   "metadata": {},
   "source": [
    "Finding matches"
   ]
  },
  {
   "cell_type": "code",
   "execution_count": 13,
   "metadata": {},
   "outputs": [
    {
     "data": {
      "text/plain": [
       "(2242, 2216, 1921)"
      ]
     },
     "execution_count": 13,
     "metadata": {},
     "output_type": "execute_result"
    }
   ],
   "source": [
    "len(set(img_urls_object_file)),len(set(img_url_labeled_file)),len(set(img_urls_image_file))"
   ]
  },
  {
   "cell_type": "code",
   "execution_count": 14,
   "metadata": {},
   "outputs": [
    {
     "data": {
      "text/plain": [
       "2213"
      ]
     },
     "execution_count": 14,
     "metadata": {},
     "output_type": "execute_result"
    }
   ],
   "source": [
    "len(set(img_urls_object_file)&set(img_url_labeled_file))"
   ]
  },
  {
   "cell_type": "code",
   "execution_count": 15,
   "metadata": {},
   "outputs": [
    {
     "data": {
      "text/plain": [
       "138"
      ]
     },
     "execution_count": 15,
     "metadata": {},
     "output_type": "execute_result"
    }
   ],
   "source": [
    "len(set(img_urls_object_file)&set(img_urls_image_file))"
   ]
  },
  {
   "cell_type": "markdown",
   "metadata": {},
   "source": [
    "Adding label to object rows"
   ]
  },
  {
   "cell_type": "code",
   "execution_count": 16,
   "metadata": {},
   "outputs": [],
   "source": [
    "def get_label_for_link(row):\n",
    "    row_label = df_labeled.loc[df_labeled['img_url'] == row['id_image']]\n",
    "    if row_label.shape[0]==1:\n",
    "        return row_label['label'].tolist()[0]\n",
    "    else:\n",
    "        return None"
   ]
  },
  {
   "cell_type": "code",
   "execution_count": 17,
   "metadata": {},
   "outputs": [
    {
     "data": {
      "application/vnd.jupyter.widget-view+json": {
       "model_id": "a4d3bafad0db41cb93c5fb567d83afce",
       "version_major": 2,
       "version_minor": 0
      },
      "text/plain": [
       "HBox(children=(IntProgress(value=0, max=2260), HTML(value='')))"
      ]
     },
     "metadata": {},
     "output_type": "display_data"
    },
    {
     "name": "stdout",
     "output_type": "stream",
     "text": [
      "\n"
     ]
    }
   ],
   "source": [
    "df['label']=df.progress_apply(lambda row: get_label_for_link(row),axis=1)"
   ]
  },
  {
   "cell_type": "code",
   "execution_count": 18,
   "metadata": {},
   "outputs": [],
   "source": [
    "df['label'] = df['label'].replace(['bullying','aggression'],'trolled')"
   ]
  },
  {
   "cell_type": "code",
   "execution_count": 19,
   "metadata": {},
   "outputs": [
    {
     "data": {
      "text/html": [
       "<div>\n",
       "<style scoped>\n",
       "    .dataframe tbody tr th:only-of-type {\n",
       "        vertical-align: middle;\n",
       "    }\n",
       "\n",
       "    .dataframe tbody tr th {\n",
       "        vertical-align: top;\n",
       "    }\n",
       "\n",
       "    .dataframe thead th {\n",
       "        text-align: right;\n",
       "    }\n",
       "</style>\n",
       "<table border=\"1\" class=\"dataframe\">\n",
       "  <thead>\n",
       "    <tr style=\"text-align: right;\">\n",
       "      <th></th>\n",
       "      <th>id_image</th>\n",
       "      <th>label_image</th>\n",
       "      <th>objects</th>\n",
       "      <th>label</th>\n",
       "    </tr>\n",
       "  </thead>\n",
       "  <tbody>\n",
       "    <tr>\n",
       "      <th>0</th>\n",
       "      <td>https://scontent.cdninstagram.com/hphotos-xaf1...</td>\n",
       "      <td>Person  Person\\nCelebrity\\nClothes\\nText  Pers...</td>\n",
       "      <td>[text, clothe, celebrity, person]</td>\n",
       "      <td>normal</td>\n",
       "    </tr>\n",
       "    <tr>\n",
       "      <th>1</th>\n",
       "      <td>https://scontent.cdninstagram.com/hphotos-xap1...</td>\n",
       "      <td>Person  Celebrity celebritÃ  Person</td>\n",
       "      <td>[celebrity, person]</td>\n",
       "      <td>normal</td>\n",
       "    </tr>\n",
       "    <tr>\n",
       "      <th>2</th>\n",
       "      <td>https://scontent.cdninstagram.com/hphotos-xap1...</td>\n",
       "      <td>Nature\\nPerson\\nClothes\\nFood  Person\\nFood  P...</td>\n",
       "      <td>[nature, clothe, food, person]</td>\n",
       "      <td>normal</td>\n",
       "    </tr>\n",
       "    <tr>\n",
       "      <th>3</th>\n",
       "      <td>https://scontent.cdninstagram.com/hphotos-xaf1...</td>\n",
       "      <td>Cartoon  Other art dontknow</td>\n",
       "      <td>[cartoon, painting, other]</td>\n",
       "      <td>trolled</td>\n",
       "    </tr>\n",
       "    <tr>\n",
       "      <th>4</th>\n",
       "      <td>https://scontent.cdninstagram.com/hphotos-xap1...</td>\n",
       "      <td>Clothes  Clothes  Clothes</td>\n",
       "      <td>[clothe]</td>\n",
       "      <td>normal</td>\n",
       "    </tr>\n",
       "  </tbody>\n",
       "</table>\n",
       "</div>"
      ],
      "text/plain": [
       "                                            id_image  \\\n",
       "0  https://scontent.cdninstagram.com/hphotos-xaf1...   \n",
       "1  https://scontent.cdninstagram.com/hphotos-xap1...   \n",
       "2  https://scontent.cdninstagram.com/hphotos-xap1...   \n",
       "3  https://scontent.cdninstagram.com/hphotos-xaf1...   \n",
       "4  https://scontent.cdninstagram.com/hphotos-xap1...   \n",
       "\n",
       "                                         label_image  \\\n",
       "0  Person  Person\\nCelebrity\\nClothes\\nText  Pers...   \n",
       "1              Person  Celebrity celebritÃ  Person     \n",
       "2  Nature\\nPerson\\nClothes\\nFood  Person\\nFood  P...   \n",
       "3                      Cartoon  Other art dontknow     \n",
       "4                        Clothes  Clothes  Clothes     \n",
       "\n",
       "                             objects    label  \n",
       "0  [text, clothe, celebrity, person]   normal  \n",
       "1                [celebrity, person]   normal  \n",
       "2     [nature, clothe, food, person]   normal  \n",
       "3         [cartoon, painting, other]  trolled  \n",
       "4                           [clothe]   normal  "
      ]
     },
     "execution_count": 19,
     "metadata": {},
     "output_type": "execute_result"
    }
   ],
   "source": [
    "df.head()"
   ]
  },
  {
   "cell_type": "code",
   "execution_count": 20,
   "metadata": {},
   "outputs": [
    {
     "data": {
      "text/plain": [
       "normal     1277\n",
       "trolled     950\n",
       "Name: label, dtype: int64"
      ]
     },
     "execution_count": 20,
     "metadata": {},
     "output_type": "execute_result"
    }
   ],
   "source": [
    "df.label.value_counts()"
   ]
  },
  {
   "cell_type": "code",
   "execution_count": 21,
   "metadata": {},
   "outputs": [
    {
     "data": {
      "text/plain": [
       "(2260, 4)"
      ]
     },
     "execution_count": 21,
     "metadata": {},
     "output_type": "execute_result"
    }
   ],
   "source": [
    "df.shape"
   ]
  },
  {
   "cell_type": "code",
   "execution_count": 22,
   "metadata": {},
   "outputs": [],
   "source": [
    "df = df[df.label.notnull()]"
   ]
  },
  {
   "cell_type": "code",
   "execution_count": 23,
   "metadata": {},
   "outputs": [
    {
     "data": {
      "text/plain": [
       "(2227, 4)"
      ]
     },
     "execution_count": 23,
     "metadata": {},
     "output_type": "execute_result"
    }
   ],
   "source": [
    "df.shape"
   ]
  },
  {
   "cell_type": "markdown",
   "metadata": {},
   "source": [
    "Count of objects"
   ]
  },
  {
   "cell_type": "code",
   "execution_count": 24,
   "metadata": {},
   "outputs": [],
   "source": [
    "objects_list = df['objects'].tolist()"
   ]
  },
  {
   "cell_type": "code",
   "execution_count": 25,
   "metadata": {},
   "outputs": [],
   "source": [
    "unique_objs = set([obj for objs in objects_list for obj in objs])"
   ]
  },
  {
   "cell_type": "code",
   "execution_count": 26,
   "metadata": {},
   "outputs": [],
   "source": [
    "object_count = dict()"
   ]
  },
  {
   "cell_type": "code",
   "execution_count": 27,
   "metadata": {},
   "outputs": [],
   "source": [
    "for objs in objects_list:\n",
    "    for obj in objs:\n",
    "        if obj not in object_count.keys():\n",
    "            object_count[obj]=0\n",
    "        object_count[obj]+=1"
   ]
  },
  {
   "cell_type": "code",
   "execution_count": 28,
   "metadata": {},
   "outputs": [
    {
     "data": {
      "text/plain": [
       "{'text': 627,\n",
       " 'clothe': 392,\n",
       " 'celebrity': 399,\n",
       " 'person': 1467,\n",
       " 'nature': 144,\n",
       " 'food': 78,\n",
       " 'cartoon': 134,\n",
       " 'painting': 14,\n",
       " 'other': 426,\n",
       " 'shoe': 123,\n",
       " 'music': 13,\n",
       " 'sport': 365,\n",
       " 'car': 112,\n",
       " 'animal': 24,\n",
       " 'pet': 9,\n",
       " 'cat': 6,\n",
       " 'toy': 7,\n",
       " 'advertising': 4,\n",
       " 'city': 6,\n",
       " 'tattoo': 181,\n",
       " 'phone': 7,\n",
       " 'bike': 57,\n",
       " 'drawing': 7,\n",
       " 'meme': 5,\n",
       " 'building': 13,\n",
       " 'television': 3,\n",
       " 'image': 22,\n",
       " 'drug': 67,\n",
       " 'concert': 9,\n",
       " 'broken': 13,\n",
       " 'sensual': 5,\n",
       " 'room': 5,\n",
       " 'house': 4,\n",
       " 'dog': 8,\n",
       " 'self': 6,\n",
       " 'kid': 5,\n",
       " 'game': 6,\n",
       " 'watch': 4,\n",
       " 'motorcycle': 3,\n",
       " 'toilet': 3,\n",
       " 'party': 3,\n",
       " 'address': 1}"
      ]
     },
     "execution_count": 28,
     "metadata": {},
     "output_type": "execute_result"
    }
   ],
   "source": [
    "object_count"
   ]
  },
  {
   "cell_type": "code",
   "execution_count": 36,
   "metadata": {},
   "outputs": [
    {
     "data": {
      "image/png": "[encoded data removed]",
      "text/plain": [
       "<Figure size 2160x1080 with 1 Axes>"
      ]
     },
     "metadata": {
      "needs_background": "light"
     },
     "output_type": "display_data"
    }
   ],
   "source": [
    "plt.bar(object_count.keys(), object_count.values())\n",
    "plt.xticks(fontsize=25,rotation='vertical');\n",
    "plt.yticks(fontsize=25);\n",
    "plt.title('Count of each object',fontsize=30);"
   ]
  },
  {
   "cell_type": "markdown",
   "metadata": {},
   "source": [
    "Making count dicts"
   ]
  },
  {
   "cell_type": "code",
   "execution_count": 30,
   "metadata": {},
   "outputs": [],
   "source": [
    "def create_object_count_dict(dataframe):\n",
    "    obj_list = dataframe['objects'].tolist()\n",
    "    label = dataframe['label'].tolist()\n",
    "    assert len(obj_list) == len(label)\n",
    "    count_dict = dict()\n",
    "    for objs,l in zip(obj_list,label):\n",
    "        for obj in objs:\n",
    "            if obj not in count_dict.keys():\n",
    "                count_dict[obj] = {'normal':0,'trolled':0}\n",
    "            count_dict[obj][l]+=1\n",
    "    return count_dict"
   ]
  },
  {
   "cell_type": "code",
   "execution_count": 31,
   "metadata": {},
   "outputs": [],
   "source": [
    "full_data_object_label_count_dict = create_object_count_dict(df)"
   ]
  },
  {
   "cell_type": "code",
   "execution_count": 32,
   "metadata": {},
   "outputs": [
    {
     "data": {
      "text/plain": [
       "{'text': {'normal': 344, 'trolled': 283},\n",
       " 'clothe': {'normal': 260, 'trolled': 132},\n",
       " 'celebrity': {'normal': 208, 'trolled': 191},\n",
       " 'person': {'normal': 796, 'trolled': 671},\n",
       " 'nature': {'normal': 82, 'trolled': 62},\n",
       " 'food': {'normal': 49, 'trolled': 29},\n",
       " 'cartoon': {'normal': 85, 'trolled': 49},\n",
       " 'painting': {'normal': 10, 'trolled': 4},\n",
       " 'other': {'normal': 254, 'trolled': 172},\n",
       " 'shoe': {'normal': 77, 'trolled': 46},\n",
       " 'music': {'normal': 5, 'trolled': 8},\n",
       " 'sport': {'normal': 202, 'trolled': 163},\n",
       " 'car': {'normal': 54, 'trolled': 58},\n",
       " 'animal': {'normal': 18, 'trolled': 6},\n",
       " 'pet': {'normal': 8, 'trolled': 1},\n",
       " 'cat': {'normal': 6, 'trolled': 0},\n",
       " 'toy': {'normal': 6, 'trolled': 1},\n",
       " 'advertising': {'normal': 1, 'trolled': 3},\n",
       " 'city': {'normal': 3, 'trolled': 3},\n",
       " 'tattoo': {'normal': 122, 'trolled': 59},\n",
       " 'phone': {'normal': 6, 'trolled': 1},\n",
       " 'bike': {'normal': 37, 'trolled': 20},\n",
       " 'drawing': {'normal': 3, 'trolled': 4},\n",
       " 'meme': {'normal': 3, 'trolled': 2},\n",
       " 'building': {'normal': 6, 'trolled': 7},\n",
       " 'television': {'normal': 2, 'trolled': 1},\n",
       " 'image': {'normal': 14, 'trolled': 8},\n",
       " 'drug': {'normal': 24, 'trolled': 43},\n",
       " 'concert': {'normal': 3, 'trolled': 6},\n",
       " 'broken': {'normal': 8, 'trolled': 5},\n",
       " 'sensual': {'normal': 4, 'trolled': 1},\n",
       " 'room': {'normal': 4, 'trolled': 1},\n",
       " 'house': {'normal': 4, 'trolled': 0},\n",
       " 'dog': {'normal': 6, 'trolled': 2},\n",
       " 'self': {'normal': 3, 'trolled': 3},\n",
       " 'kid': {'normal': 2, 'trolled': 3},\n",
       " 'game': {'normal': 4, 'trolled': 2},\n",
       " 'watch': {'normal': 1, 'trolled': 3},\n",
       " 'motorcycle': {'normal': 2, 'trolled': 1},\n",
       " 'toilet': {'normal': 1, 'trolled': 2},\n",
       " 'party': {'normal': 2, 'trolled': 1},\n",
       " 'address': {'normal': 0, 'trolled': 1}}"
      ]
     },
     "execution_count": 32,
     "metadata": {},
     "output_type": "execute_result"
    }
   ],
   "source": [
    "full_data_object_label_count_dict"
   ]
  },
  {
   "cell_type": "code",
   "execution_count": 33,
   "metadata": {},
   "outputs": [],
   "source": [
    "def plot_object_label_count(obj_label_count_dic):\n",
    "    objs = obj_label_count_dic.keys()\n",
    "    normal = [obj_label_count_dic[i]['normal'] for i in objs]\n",
    "    trolled = [obj_label_count_dic[i]['trolled'] for i in objs]\n",
    "    \n",
    "    \n",
    "#     N = 5\n",
    "#     menMeans = (20, 35, 30, 35, 27)\n",
    "#     womenMeans = (25, 32, 34, 20, 25)\n",
    "#     menStd = (2, 3, 4, 1, 2)\n",
    "#     womenStd = (3, 5, 2, 3, 3)\n",
    "    ind = pd.np.arange(len(objs))    # the x locations for the groups\n",
    "#     width = 0.35       # the width of the bars: can also be len(x) sequence\n",
    "#     plt.bar(object_count.keys(), object_count.values())\n",
    "    p1 = plt.bar(ind, normal)\n",
    "    p2 = plt.bar(ind, trolled,bottom=normal)\n",
    "\n",
    "    plt.ylabel('Count')\n",
    "    plt.title('Count of labels for each Objects',fontsize=30)\n",
    "    plt.xticks(ind, objs,fontsize=25,rotation='vertical')\n",
    "    plt.yticks(fontsize=25)\n",
    "    plt.legend((p1[0], p2[0]), ('Normal', 'Trolled'),fontsize=25)"
   ]
  },
  {
   "cell_type": "code",
   "execution_count": 37,
   "metadata": {},
   "outputs": [
    {
     "data": {
      "image/png": "[encoded data removed]",
      "text/plain": [
       "<Figure size 2160x1080 with 1 Axes>"
      ]
     },
     "metadata": {
      "needs_background": "light"
     },
     "output_type": "display_data"
    }
   ],
   "source": [
    "plot_object_label_count(full_data_object_label_count_dict)"
   ]
  },
  {
   "cell_type": "code",
   "execution_count": null,
   "metadata": {},
   "outputs": [],
   "source": []
  }
 ],
 "metadata": {
  "kernelspec": {
   "display_name": "Python (nii_project)",
   "language": "python",
   "name": "nii_project"
  },
  "language_info": {
   "codemirror_mode": {
    "name": "ipython",
    "version": 3
   },
   "file_extension": ".py",
   "mimetype": "text/x-python",
   "name": "python",
   "nbconvert_exporter": "python",
   "pygments_lexer": "ipython3",
   "version": "3.6.8"
  }
 },
 "nbformat": 4,
 "nbformat_minor": 2
}
