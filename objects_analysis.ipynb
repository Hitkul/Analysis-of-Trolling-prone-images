{
 "cells": [
  {
   "cell_type": "code",
   "execution_count": 1,
   "metadata": {},
   "outputs": [],
   "source": [
    "import pandas as pd"
   ]
  },
  {
   "cell_type": "code",
   "execution_count": 6,
   "metadata": {},
   "outputs": [],
   "source": [
    "def datafram_from_csv(file_path):\n",
    "    df = pd.read_csv(file_path,encoding='latin1')\n",
    "    return df"
   ]
  },
  {
   "cell_type": "code",
   "execution_count": 9,
   "metadata": {},
   "outputs": [],
   "source": [
    "def get_concat_data():\n",
    "    list_of_files = ['data/Insta_labeled_data/image_labels_0plus_to_10_.csv','data/Insta_labeled_data/image_labels_10plus_to_40.csv','data/Insta_labeled_data/image_labels_40plus.csv']\n",
    "    list_of_df = [datafram_from_csv(i) for i in list_of_files]\n",
    "    df = pd.concat(list_of_df, axis=0, ignore_index=True)\n",
    "    return df"
   ]
  },
  {
   "cell_type": "code",
   "execution_count": 12,
   "metadata": {},
   "outputs": [],
   "source": [
    "df = get_concat_data()"
   ]
  },
  {
   "cell_type": "code",
   "execution_count": 13,
   "metadata": {},
   "outputs": [
    {
     "data": {
      "text/html": [
       "<div>\n",
       "<style scoped>\n",
       "    .dataframe tbody tr th:only-of-type {\n",
       "        vertical-align: middle;\n",
       "    }\n",
       "\n",
       "    .dataframe tbody tr th {\n",
       "        vertical-align: top;\n",
       "    }\n",
       "\n",
       "    .dataframe thead th {\n",
       "        text-align: right;\n",
       "    }\n",
       "</style>\n",
       "<table border=\"1\" class=\"dataframe\">\n",
       "  <thead>\n",
       "    <tr style=\"text-align: right;\">\n",
       "      <th></th>\n",
       "      <th>id_image</th>\n",
       "      <th>label_image</th>\n",
       "    </tr>\n",
       "  </thead>\n",
       "  <tbody>\n",
       "    <tr>\n",
       "      <th>0</th>\n",
       "      <td>https://scontent.cdninstagram.com/hphotos-xaf1...</td>\n",
       "      <td>Person  Person\\nCelebrity\\nClothes\\nText  Pers...</td>\n",
       "    </tr>\n",
       "    <tr>\n",
       "      <th>1</th>\n",
       "      <td>https://scontent.cdninstagram.com/hphotos-xap1...</td>\n",
       "      <td>Person  Celebrity celebritÃ  Person</td>\n",
       "    </tr>\n",
       "    <tr>\n",
       "      <th>2</th>\n",
       "      <td>https://scontent.cdninstagram.com/hphotos-xap1...</td>\n",
       "      <td>Nature\\nPerson\\nClothes\\nFood  Person\\nFood  P...</td>\n",
       "    </tr>\n",
       "    <tr>\n",
       "      <th>3</th>\n",
       "      <td>https://scontent.cdninstagram.com/hphotos-xaf1...</td>\n",
       "      <td>Cartoon  Other art dontknow</td>\n",
       "    </tr>\n",
       "    <tr>\n",
       "      <th>4</th>\n",
       "      <td>https://scontent.cdninstagram.com/hphotos-xap1...</td>\n",
       "      <td>Clothes  Clothes  Clothes</td>\n",
       "    </tr>\n",
       "  </tbody>\n",
       "</table>\n",
       "</div>"
      ],
      "text/plain": [
       "                                            id_image  \\\n",
       "0  https://scontent.cdninstagram.com/hphotos-xaf1...   \n",
       "1  https://scontent.cdninstagram.com/hphotos-xap1...   \n",
       "2  https://scontent.cdninstagram.com/hphotos-xap1...   \n",
       "3  https://scontent.cdninstagram.com/hphotos-xaf1...   \n",
       "4  https://scontent.cdninstagram.com/hphotos-xap1...   \n",
       "\n",
       "                                         label_image  \n",
       "0  Person  Person\\nCelebrity\\nClothes\\nText  Pers...  \n",
       "1              Person  Celebrity celebritÃ  Person    \n",
       "2  Nature\\nPerson\\nClothes\\nFood  Person\\nFood  P...  \n",
       "3                      Cartoon  Other art dontknow    \n",
       "4                        Clothes  Clothes  Clothes    "
      ]
     },
     "execution_count": 13,
     "metadata": {},
     "output_type": "execute_result"
    }
   ],
   "source": [
    "df.head()"
   ]
  },
  {
   "cell_type": "code",
   "execution_count": null,
   "metadata": {},
   "outputs": [],
   "source": []
  }
 ],
 "metadata": {
  "kernelspec": {
   "display_name": "Python (nii_project)",
   "language": "python",
   "name": "nii_project"
  },
  "language_info": {
   "codemirror_mode": {
    "name": "ipython",
    "version": 3
   },
   "file_extension": ".py",
   "mimetype": "text/x-python",
   "name": "python",
   "nbconvert_exporter": "python",
   "pygments_lexer": "ipython3",
   "version": "3.6.8"
  }
 },
 "nbformat": 4,
 "nbformat_minor": 2
}
